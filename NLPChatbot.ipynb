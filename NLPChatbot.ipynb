{
  "nbformat": 4,
  "nbformat_minor": 0,
  "metadata": {
    "colab": {
      "provenance": [],
      "collapsed_sections": [
        "E3lN_LBnnt1R",
        "wQ46zPgumfjF",
        "N4fvprg6u5fE"
      ],
      "gpuType": "T4"
    },
    "kernelspec": {
      "name": "python3",
      "display_name": "Python 3"
    },
    "language_info": {
      "name": "python"
    },
    "accelerator": "GPU"
  },
  "cells": [
    {
      "cell_type": "markdown",
      "metadata": {
        "id": "EvCcfwuSU-fz"
      },
      "source": [
        "## **Problem Statement**"
      ]
    },
    {
      "cell_type": "markdown",
      "source": [
        "**DOMAIN:** Industrial safety. NLP based Chatbot.\n",
        "\n",
        "**CONTEXT:** The  database  comes  from one  of  the  biggest  industry  in  Brazil  and  in  the  world.  It  is  an  urgent  need  for  industries/companies  around  the globe to understand why employees still suffer some injuries/accidents in plants. Sometimes they also die in such environment.\n",
        "\n",
        "**DATA DESCRIPTION:** This  The  database  is  basically  records  of  accidents  from 12  different  plants  in  03  different  countries which  every  line  in  the  data  is  an occurrence of an accident.\n",
        "\n",
        "  **Columns description:**\n",
        "   - Data: timestamp or time/date information\n",
        "   - Countries: which country the accident occurred (anonymised)\n",
        "   - Local: the city where the manufacturing plant is located (anonymised)\n",
        "   - Industry sector: which sector the plant belongs to\n",
        "   - Accident level: from I to VI, it registers how severe was the accident (I means not severe but VI means very severe)\n",
        "   - Potential Accident Level: Depending on the Accident Level, the database also registers how severe the accident could have been (due to other factors involved in the accident)\n",
        "   - Genre: if the person is male of female\n",
        "   - Employee or Third Party: if the injured person is an employee or a third party\n",
        "   - Critical Risk: some description of the risk involved in the accident\n",
        "   - Description: Detailed description of how the accident happened.\n",
        "\n",
        "**PROJECT OBJECTIVE:** Design  a  ML/DL  based  chatbot  utility  which  can  help  the  professionals  to  highlight  the  safety  risk  as  per  the  incident description."
      ],
      "metadata": {
        "id": "iZafd3Rr5HS_"
      }
    },
    {
      "cell_type": "markdown",
      "source": [
        "## **Importing the necessary libraries**"
      ],
      "metadata": {
        "id": "E3lN_LBnnt1R"
      }
    },
    {
      "cell_type": "code",
      "source": [
        "# to read and manipulate the data\n",
        "import pandas as pd\n",
        "import numpy as np\n",
        "pd.set_option('max_colwidth', None)    # setting column to the maximum column width as per the data\n",
        "\n",
        "# to use regular expressions for manipulating text data\n",
        "import re\n",
        "\n",
        "# Importing the SpaCy library\n",
        "import spacy\n",
        "nlp = spacy.load('en_core_web_sm')    # loading the envrionment config\n",
        "\n",
        "# To create Bag of Words\n",
        "from sklearn.feature_extraction.text import CountVectorizer\n",
        "\n",
        "# To create TF-IDF\n",
        "from sklearn.feature_extraction.text import TfidfVectorizer\n",
        "\n",
        "# To plot confusion matrices\n",
        "import matplotlib.pyplot as plt\n",
        "import seaborn as sns\n",
        "\n",
        "# To use various metrics from sklearn\n",
        "from sklearn.metrics import accuracy_score, f1_score, classification_report, confusion_matrix\n",
        "\n",
        "# To visualize data\n",
        "\n",
        "import holoviews as holoviews\n",
        "from holoviews import opts\n",
        "\n",
        "import math"
      ],
      "metadata": {
        "id": "r0hv3yO_ns6K"
      },
      "execution_count": null,
      "outputs": []
    },
    {
      "cell_type": "markdown",
      "metadata": {
        "id": "wQ46zPgumfjF"
      },
      "source": [
        "## **Loading the dataset**"
      ]
    },
    {
      "cell_type": "code",
      "source": [
        "# Mount the google drive\n",
        "from google.colab import drive\n",
        "try:\n",
        "  drive.mount('/content/drive') # Mounts your Google Drive\n",
        "except Exception as e:\n",
        "  print(f\"Error mounting Google Drive: {e}\")\n",
        "  print(\"Please try running the cell again. If the error persists, you may need to re-authenticate your Google account.\")"
      ],
      "metadata": {
        "id": "CrlkyDb9yNhn"
      },
      "execution_count": null,
      "outputs": []
    },
    {
      "cell_type": "code",
      "source": [
        "# loading data into a pandas dataframe\n",
        "accidents_data = pd.read_excel(\"/content/industrial_safety_and_health_database_with_accidents_description.xlsx\")\n",
        "#accidents_data = pd.read_excel(\"https://raw.githubusercontent.com/ABHINAVRISHI1983/nlp-chat-bot/main/industrial_safety_and_health_database_with_accidents_description.xlsx\", engine='openpyxl')"
      ],
      "metadata": {
        "id": "IfqMvmfDiyIl"
      },
      "execution_count": null,
      "outputs": []
    },
    {
      "cell_type": "code",
      "source": [
        "# creating a copy of the data\n",
        "data = accidents_data.copy() #Good practice to preserve raw data"
      ],
      "metadata": {
        "id": "eBXWaNoNizsj"
      },
      "execution_count": null,
      "outputs": []
    },
    {
      "cell_type": "markdown",
      "metadata": {
        "id": "vvlzvKeqAH-i"
      },
      "source": [
        "## **Data Overview**"
      ]
    },
    {
      "cell_type": "markdown",
      "metadata": {
        "id": "cIH4md8nAL4v"
      },
      "source": [
        "### Checking the first five rows of the data"
      ]
    },
    {
      "cell_type": "code",
      "execution_count": null,
      "metadata": {
        "id": "bj4-QHJ6BiCS"
      },
      "outputs": [],
      "source": [
        "# Display top 5 rows\n",
        "data.head(5)"
      ]
    },
    {
      "cell_type": "code",
      "source": [
        "# Drop unnamed cols as it seems more like index or S.No\n",
        "data.drop(columns=[col for col in data.columns if \"Unnamed\" in col], inplace=True)"
      ],
      "metadata": {
        "id": "4KRVJI5d-IcD"
      },
      "execution_count": null,
      "outputs": []
    },
    {
      "cell_type": "code",
      "source": [
        "# Display top 5 rows after dropping\n",
        "data.head(5)"
      ],
      "metadata": {
        "id": "8RDiFUfT-Tce"
      },
      "execution_count": null,
      "outputs": []
    },
    {
      "cell_type": "markdown",
      "source": [
        "- All records in the Description column are detailed and natural language-based.\n",
        "- Potential Accident Level - ordinal classification target, looks like it is ranging from I to IV\n",
        "- Critical Risk - could be multi-class or multi-label target.\n",
        "-Countries, Local, Industry Sector, Genre, Employee or Third Party, Critical Risk Have limited number of categories, Could be one-hot encoded or embedded later\n"
      ],
      "metadata": {
        "id": "FMDoibz_MBQc"
      }
    },
    {
      "cell_type": "code",
      "source": [
        "data.info()"
      ],
      "metadata": {
        "id": "LxMxAfDVN0Dq"
      },
      "execution_count": null,
      "outputs": []
    },
    {
      "cell_type": "markdown",
      "source": [
        "- Data is datetime column\n",
        "- All other columns are of type Object\n",
        "- Countries, Local, Industry Sector are Categorical columns used for Geographic distribution of accidents, Industry-wise accident risk profiling\n",
        "- Accident Level is Target candidate\n",
        "- Genre is Likely binary (Male, Female)\n",
        "- Employee or Third Party is categorical with values \"Employee\", \"Third Party\", \"Third Party (Remote)\"\n",
        "- Critical Risk is Multi-class categorical that represents accident cause or risk factor\n",
        "- Description is original accident text (rich, unstructured), can be used for NLP and Risk pattern mining"
      ],
      "metadata": {
        "id": "EaVuHJUHOBTT"
      }
    },
    {
      "cell_type": "code",
      "source": [
        "data['Accident Level'].value_counts()"
      ],
      "metadata": {
        "id": "Y2YKnuD4OaBT"
      },
      "execution_count": null,
      "outputs": []
    },
    {
      "cell_type": "markdown",
      "source": [
        "- There are 6 Accident levels"
      ],
      "metadata": {
        "id": "Blaa6oeBObwi"
      }
    },
    {
      "cell_type": "code",
      "source": [
        "data['Description'].str.len().describe()"
      ],
      "metadata": {
        "id": "gJ4d5u4UPIlA"
      },
      "execution_count": null,
      "outputs": []
    },
    {
      "cell_type": "markdown",
      "source": [
        "- On average, each description is about 365 characters long\n",
        "- Some are very short, some quite long with min being 94 chars and max being 1029 chars\n",
        "- 25% of descriptions are shorter than 225 characters\n",
        "- Median length is 334 characters — close to the mean\n",
        "- 75% of the descriptions are under 453 characters\n",
        "- The longest description is over 1000 characters (very detailed)"
      ],
      "metadata": {
        "id": "ZugaCfErPNwB"
      }
    },
    {
      "cell_type": "markdown",
      "metadata": {
        "id": "NuWYF7W_AQx_"
      },
      "source": [
        "### Checking the shape of the dataset"
      ]
    },
    {
      "cell_type": "code",
      "execution_count": null,
      "metadata": {
        "id": "Mcb3m-xKzw8V"
      },
      "outputs": [],
      "source": [
        "#check shape of dataset\n",
        "data.shape"
      ]
    },
    {
      "cell_type": "markdown",
      "metadata": {
        "id": "IPbc-9HLs2WI"
      },
      "source": [
        "* The dataset has 425 rows and 10 columns."
      ]
    },
    {
      "cell_type": "markdown",
      "metadata": {
        "id": "EBuO6NvsAT1k"
      },
      "source": [
        "### Checking for Missing Values"
      ]
    },
    {
      "cell_type": "code",
      "execution_count": null,
      "metadata": {
        "id": "k0XZhWGRBiCV"
      },
      "outputs": [],
      "source": [
        "#check for missing values\n",
        "data.isnull().sum()"
      ]
    },
    {
      "cell_type": "markdown",
      "metadata": {
        "id": "1i5McJGWBiCV"
      },
      "source": [
        "* There are no missing values in the data"
      ]
    },
    {
      "cell_type": "markdown",
      "metadata": {
        "id": "nZdNFg-5Zmiz"
      },
      "source": [
        "### Checking for duplicate values"
      ]
    },
    {
      "cell_type": "code",
      "execution_count": null,
      "metadata": {
        "id": "gn5VDFNoBiCW"
      },
      "outputs": [],
      "source": [
        "# checking for duplicate values\n",
        "data.duplicated().sum()"
      ]
    },
    {
      "cell_type": "markdown",
      "source": [
        "- There are 7 duplicate rows"
      ],
      "metadata": {
        "id": "NTMm8I_n-dr7"
      }
    },
    {
      "cell_type": "code",
      "source": [
        "# Drop duplicate rows\n",
        "data.drop_duplicates(inplace=True)\n",
        "data.reset_index(drop=True, inplace=True)"
      ],
      "metadata": {
        "id": "M-kbWGOo-rPJ"
      },
      "execution_count": null,
      "outputs": []
    },
    {
      "cell_type": "code",
      "source": [
        "# Confirm removal\n",
        "print(f\"Duplicates in current dataset - {data.duplicated().sum()}\")\n",
        "print(f\"New shape after removing duplicates: {data.shape}\")"
      ],
      "metadata": {
        "id": "GkTc7IjK-7Dl"
      },
      "execution_count": null,
      "outputs": []
    },
    {
      "cell_type": "markdown",
      "metadata": {
        "id": "RMfThMOtECvW"
      },
      "source": [
        "* The dataset has 418 rows and 10 columns after dropping the duplicates"
      ]
    },
    {
      "cell_type": "markdown",
      "source": [
        "## **Data Preprocessing**"
      ],
      "metadata": {
        "id": "N4fvprg6u5fE"
      }
    },
    {
      "cell_type": "markdown",
      "source": [
        "### **Removing special characters**"
      ],
      "metadata": {
        "id": "NJDPhhmvvxJ1"
      }
    },
    {
      "cell_type": "code",
      "source": [
        "# defining a function to remove special characters\n",
        "def remove_special_characters(text):\n",
        "    # Defining the regex pattern to match non-alphanumeric characters\n",
        "    pattern = '[^A-Za-z0-9]+'\n",
        "\n",
        "    # Finding the specified pattern and replacing non-alphanumeric characters with a blank string\n",
        "    new_text = re.sub(pattern, ' ', text)\n",
        "\n",
        "    return new_text"
      ],
      "metadata": {
        "id": "mGR2c6dCvT-Q"
      },
      "execution_count": null,
      "outputs": []
    },
    {
      "cell_type": "code",
      "source": [
        "# Applying the function to remove special characters\n",
        "data['cleaned_text'] = data['Description'].apply(remove_special_characters)"
      ],
      "metadata": {
        "id": "RQv4x8npctFZ"
      },
      "execution_count": null,
      "outputs": []
    },
    {
      "cell_type": "code",
      "source": [
        "# checking a couple of instances of cleaned data\n",
        "data.loc[0:3, ['Description','cleaned_text']]"
      ],
      "metadata": {
        "id": "rCxMsKChvT79"
      },
      "execution_count": null,
      "outputs": []
    },
    {
      "cell_type": "markdown",
      "source": [
        "- We can observe that regex removed the special characters ilike comma (,), equals (=), slash (/), Hiphen (-) etc.,"
      ],
      "metadata": {
        "id": "QpsuDWLnyJFw"
      }
    },
    {
      "cell_type": "markdown",
      "source": [
        "### **Lowercasing**"
      ],
      "metadata": {
        "id": "2DftSZK9yQ74"
      }
    },
    {
      "cell_type": "code",
      "source": [
        "# changing the case of the text data to lower case\n",
        "data['cleaned_text'] = data['cleaned_text'].str.lower()"
      ],
      "metadata": {
        "id": "JLOmMLSLRJT0"
      },
      "execution_count": null,
      "outputs": []
    },
    {
      "cell_type": "code",
      "source": [
        "# checking a couple of instances of cleaned data\n",
        "data.loc[0:3, ['Description','cleaned_text']]"
      ],
      "metadata": {
        "id": "P80CyzprdHH1"
      },
      "execution_count": null,
      "outputs": []
    },
    {
      "cell_type": "markdown",
      "source": [
        "- We can observe that all the text has now successfully been converted to lower case."
      ],
      "metadata": {
        "id": "dF_kFCAxyg6L"
      }
    },
    {
      "cell_type": "markdown",
      "source": [
        "### **Removing extra whitespace**"
      ],
      "metadata": {
        "id": "hLoWwpxzylZH"
      }
    },
    {
      "cell_type": "code",
      "source": [
        "# Count rows with 2+ consecutive spaces\n",
        "data['Description'].apply(lambda x: bool(re.search(r'\\s{2,}', str(x)))).sum()"
      ],
      "metadata": {
        "id": "-zLmZnOQDHL_"
      },
      "execution_count": null,
      "outputs": []
    },
    {
      "cell_type": "markdown",
      "source": [
        "- There are no extra spaces found, so no need to strip the spaces, still better to have the step for any future data"
      ],
      "metadata": {
        "id": "sdDycQEIDRgN"
      }
    },
    {
      "cell_type": "code",
      "source": [
        "# removing extra whitespaces from the text\n",
        "data['cleaned_text'] = data['cleaned_text'].str.strip()"
      ],
      "metadata": {
        "id": "eDx_yl3MKo8m"
      },
      "execution_count": null,
      "outputs": []
    },
    {
      "cell_type": "markdown",
      "source": [
        "### **Lemmatization**"
      ],
      "metadata": {
        "id": "tN9S84Sj2om2"
      }
    },
    {
      "cell_type": "code",
      "source": [
        "def spacy_lemmatize(text):\n",
        "    doc = nlp(text)\n",
        "    return ' '.join([\n",
        "        token.lemma_ for token in doc\n",
        "        if not token.is_punct and not token.is_space and not token.is_stop\n",
        "    ])"
      ],
      "metadata": {
        "id": "g2Nv5egY25SY"
      },
      "execution_count": null,
      "outputs": []
    },
    {
      "cell_type": "code",
      "source": [
        "# Apply on cleaned_text (not the one with stopwords already removed)\n",
        "data['final_cleaned_text'] = data['cleaned_text'].apply(spacy_lemmatize)"
      ],
      "metadata": {
        "id": "6tNf-rRaKOyK"
      },
      "execution_count": null,
      "outputs": []
    },
    {
      "cell_type": "code",
      "source": [
        "# checking a couple of instances of cleaned data\n",
        "data.loc[0:2, ['Description', 'cleaned_text', 'final_cleaned_text']]\n"
      ],
      "metadata": {
        "id": "RAc0gMU89KM7"
      },
      "execution_count": null,
      "outputs": []
    },
    {
      "cell_type": "markdown",
      "metadata": {
        "id": "oB4lFW65_Nj3"
      },
      "source": [
        "We can see that the below sample words and corresponding word after applying lemmatization, This look much better that porter stemming\n",
        "\n",
        "- removing -> remove\n",
        "- proceeds -> proceed\n",
        "- seeing -> see\n",
        "- supports -> support"
      ]
    },
    {
      "cell_type": "markdown",
      "source": [
        "##**EDA**"
      ],
      "metadata": {
        "id": "uInn0DY2knuB"
      }
    },
    {
      "cell_type": "code",
      "source": [
        "#Create a copy for EDA analysis\n",
        "data_eda=data.copy()"
      ],
      "metadata": {
        "id": "bFDwzd8rlAU1"
      },
      "execution_count": null,
      "outputs": []
    },
    {
      "cell_type": "markdown",
      "source": [
        "### **Extract Day/Month/Year/WeekDay/WeekofYear from the Data**"
      ],
      "metadata": {
        "id": "mFjRcBMBk5Zp"
      }
    },
    {
      "cell_type": "code",
      "source": [
        "data_eda['Year'] = data_eda.Data.apply(lambda x : x.year).astype(int)\n",
        "data_eda['Month'] = data_eda.Data.apply(lambda x : x.month_name())\n",
        "data_eda['Day'] = data_eda.Data.apply(lambda x : x.day)\n",
        "data_eda['Weekday'] = data_eda.Data.apply(lambda x : x.day_name())\n",
        "data_eda['WeekofYear'] = data_eda.Data.apply(lambda x : x.weekofyear)\n",
        "data_eda[\"DayOfWeek\"] = data_eda[\"Data\"].dt.day_name()"
      ],
      "metadata": {
        "id": "aKl7YW51k-fq"
      },
      "execution_count": null,
      "outputs": []
    },
    {
      "cell_type": "markdown",
      "source": [
        "###**Univariate Analysis**"
      ],
      "metadata": {
        "id": "_OIu7bV3lFXw"
      }
    },
    {
      "cell_type": "markdown",
      "source": [
        "####**Industry Sector**"
      ],
      "metadata": {
        "id": "5wWLTKG9nEOg"
      }
    },
    {
      "cell_type": "code",
      "source": [
        "ax = sns.countplot(data=data_eda, x=\"Industry Sector\", stat=\"percent\")\n",
        "plt.ylabel(\"Percentage\")\n",
        "plt.xlabel(\"Industry Sector\")\n",
        "# Add percentage labels inside bars\n",
        "for p in ax.patches:\n",
        "    percentage = f'{p.get_height():.1f}%'  # format with 1 decimal\n",
        "    ax.text(\n",
        "        p.get_x() + p.get_width() / 2.,  # x-position (center of bar)\n",
        "        p.get_height() / 2.,             # y-position (middle of bar)\n",
        "        percentage,\n",
        "        ha='center', va='center', color='white', fontsize=11, fontweight='bold'\n",
        "    )\n",
        "\n",
        "plt.show();"
      ],
      "metadata": {
        "id": "txcTJ7U4nICz"
      },
      "execution_count": null,
      "outputs": []
    },
    {
      "cell_type": "markdown",
      "source": [
        "**Observation:**\n",
        "\n",
        "*  Mining industry has highest percentage of accidents which is 56.7 %.\n",
        "*  Metals has 30.6% accidents.\n",
        "*  Others  has 10.4% of accidents."
      ],
      "metadata": {
        "id": "xtilXXiknLnP"
      }
    },
    {
      "cell_type": "markdown",
      "source": [
        "####**Country**"
      ],
      "metadata": {
        "id": "hQPXBf0ElGnV"
      }
    },
    {
      "cell_type": "code",
      "source": [
        "ax = sns.countplot(data=data, x=\"Countries\", stat=\"percent\")\n",
        "plt.ylabel(\"Percentage\")\n",
        "plt.xlabel(\"Countries\")\n",
        "# Add percentage labels inside bars\n",
        "for p in ax.patches:\n",
        "    percentage = f'{p.get_height():.1f}%'  # format with 1 decimal\n",
        "    ax.text(\n",
        "        p.get_x() + p.get_width() / 2.,  # x-position (center of bar)\n",
        "        p.get_height() / 2.,             # y-position (middle of bar)\n",
        "        percentage,\n",
        "        ha='center', va='center', color='white', fontsize=11, fontweight='bold'\n",
        "    )\n",
        "\n",
        "plt.show();"
      ],
      "metadata": {
        "id": "c-PBujfVlK_p"
      },
      "execution_count": null,
      "outputs": []
    },
    {
      "cell_type": "markdown",
      "source": [
        "**Observation:**\n",
        "\n",
        "- Country_01 has highest percentage of accidents which is 59.1 %.\n",
        "- Country_02 has 30.6% accidents.\n",
        "- Country_03 has 10.4% of accidents.\n"
      ],
      "metadata": {
        "id": "812iQkcClPw3"
      }
    },
    {
      "cell_type": "markdown",
      "source": [
        "####**Local**"
      ],
      "metadata": {
        "id": "6uW0PziJlQWU"
      }
    },
    {
      "cell_type": "code",
      "source": [
        "local_cnt = np.round(data_eda['Local'].value_counts(normalize=True) * 100)\n",
        "\n",
        "holoviews.extension('bokeh')\n",
        "holoviews.Bars(local_cnt).opts(title=\"Local Count\", color=\"#8888ff\", xlabel=\"Locals\", ylabel=\"Percentage\", yformatter='%d%%')\\\n",
        "                .opts(opts.Bars(width=1000, height=300,tools=['hover'],show_grid=True))"
      ],
      "metadata": {
        "id": "NBNlKd0ulVWs"
      },
      "execution_count": null,
      "outputs": []
    },
    {
      "cell_type": "markdown",
      "source": [
        "**Observation:**\n",
        "\n",
        "* Local_03 has highest number of accidents."
      ],
      "metadata": {
        "id": "WCgSQhOAlap5"
      }
    },
    {
      "cell_type": "markdown",
      "source": [
        "####**Genre**"
      ],
      "metadata": {
        "id": "TPP7G9rxlgEE"
      }
    },
    {
      "cell_type": "code",
      "source": [
        "local_cnt = np.round(data_eda['Genre'].value_counts(normalize=True) * 100)\n",
        "holoviews.extension('bokeh')\n",
        "holoviews.Bars(local_cnt).opts(title=\"Genre Count\", color=\"#8888ff\", xlabel=\"Genre\", ylabel=\"Percentage\", yformatter='%d%%')\\\n",
        "                .opts(opts.Bars(width=1000, height=300,tools=['hover'],show_grid=True))"
      ],
      "metadata": {
        "id": "Zv7dS7laljfd"
      },
      "execution_count": null,
      "outputs": []
    },
    {
      "cell_type": "markdown",
      "source": [
        "**Observation:**\n",
        "\n",
        "* Accidents are disproportionately higher among males compared to females."
      ],
      "metadata": {
        "id": "Rc7XSR3ylmMo"
      }
    },
    {
      "cell_type": "markdown",
      "source": [
        "####**Employee or Third Party**"
      ],
      "metadata": {
        "id": "87pGJWxtlpSB"
      }
    },
    {
      "cell_type": "code",
      "source": [
        "local_cnt = np.round(data_eda['Employee or Third Party'].value_counts(normalize=True) * 100)\n",
        "holoviews.extension('bokeh')\n",
        "holoviews.Bars(local_cnt).opts(title=\"Employee Type Count\", color=\"#8888ff\", xlabel=\"Employee Type\", ylabel=\"Percentage\", yformatter='%d%%')\\\n",
        "                .opts(opts.Bars(width=500, height=600,tools=['hover'],show_grid=True))"
      ],
      "metadata": {
        "id": "yB5D3GLpls4O"
      },
      "execution_count": null,
      "outputs": []
    },
    {
      "cell_type": "markdown",
      "source": [
        "**Observation:**\n",
        "* There is not much of a difference between Third Party workers and Employees in the incident report."
      ],
      "metadata": {
        "id": "hoXqblAQl0SH"
      }
    },
    {
      "cell_type": "markdown",
      "source": [
        "####**Critical Risk**"
      ],
      "metadata": {
        "id": "GRvw1l2El0xG"
      }
    },
    {
      "cell_type": "code",
      "source": [
        "holoviews.extension('bokeh')\n",
        "\n",
        "\n",
        "# Compute percentages and sort descending\n",
        "local_cnt = np.round(data_eda['Critical Risk'].value_counts(normalize=True) * 100).sort_values(ascending=False)\n",
        "\n",
        "# Horizontal bar chart\n",
        "bars = holoviews.Bars(local_cnt)\n",
        "\n",
        "bars.opts(\n",
        "    title=\"Critical Risk Count\",\n",
        "    color=\"green\",\n",
        "    width=800, height=800,   # taller for many categories\n",
        "    tools=['hover'],\n",
        "    show_grid=True,\n",
        "    invert_axes=True,        # horizontal bars\n",
        "    xlabel=\"Percentage\",\n",
        "    ylabel=\"Critical Risk Type\",\n",
        "    xformatter='%d%%',\n",
        "    fontsize={'ylabel': '10pt', 'xlabel': '10pt', 'xticks': '9pt', 'yticks': '8pt'}\n",
        ")"
      ],
      "metadata": {
        "id": "CTdp-jpol3h7"
      },
      "execution_count": null,
      "outputs": []
    },
    {
      "cell_type": "markdown",
      "source": [
        "**Observation:**\n",
        "\n",
        "* 'Others’ category has the most entries, indicating that the critical-risk taxonomy and reporting process are inadequate—most on-site incidents don’t fit the current categories"
      ],
      "metadata": {
        "id": "R5uUip9Kl_2n"
      }
    },
    {
      "cell_type": "markdown",
      "source": [
        "####**Data**"
      ],
      "metadata": {
        "id": "GIez0G3SmAYJ"
      }
    },
    {
      "cell_type": "code",
      "source": [
        "# build counts\n",
        "df_year = (data_eda[\"Data\"].dt.year\n",
        "           .value_counts()\n",
        "           .sort_index()\n",
        "           .rename_axis(\"Year\")\n",
        "           .reset_index(name=\"Count\"))\n",
        "\n",
        "# make Year a *categorical* (ordered) so axis shows 2016, 2017, ... (no decimals)\n",
        "df_year[\"Year\"] = pd.Categorical(\n",
        "    df_year[\"Year\"].astype(str),              # strings => discrete axis\n",
        "    categories=df_year[\"Year\"].astype(str).tolist(),\n",
        "    ordered=True\n",
        ")\n",
        "\n",
        "by_year = holoviews.Bars(\n",
        "    df_year, kdims=\"Year\", vdims='Count'\n",
        ").opts(\n",
        "    title=\"By Year\", xlabel=\"Year\", ylabel=\"Count\",\n",
        "    width=420, height=300, show_grid=True, color=\"#1f77b4\"\n",
        ")\n",
        "\n",
        "# Month order\n",
        "months = [\"January\",\"February\",\"March\",\"April\",\"May\",\"June\",\n",
        "          \"July\",\"August\",\"September\",\"October\",\"November\",\"December\"]\n",
        "\n",
        "df_month = (data_eda[\"Data\"].dt.month_name()\n",
        "            .value_counts()\n",
        "            .reindex(months, fill_value=0)\n",
        "            .rename_axis(\"Month\")\n",
        "            .reset_index(name=\"Count\"))\n",
        "\n",
        "# Make categorical with explicit order\n",
        "df_month[\"Month\"] = pd.Categorical(df_month[\"Month\"], categories=months, ordered=True)\n",
        "\n",
        "by_month = holoviews.Bars(\n",
        "    df_month, kdims=\"Month\", vdims=\"Count\"\n",
        ").opts(\n",
        "    title=\"By Month\",\n",
        "    xlabel=\"Month\", ylabel=\"Count\",\n",
        "    width=600, height=300, xrotation=45,\n",
        "    show_grid=True, color=\"#2ca02c\"\n",
        ")\n",
        "# Weekday order\n",
        "weekdays = [\"Monday\",\"Tuesday\",\"Wednesday\",\"Thursday\",\"Friday\",\"Saturday\",\"Sunday\"]\n",
        "\n",
        "df_dow = (data_eda[\"Data\"].dt.day_name()\n",
        "          .value_counts()\n",
        "          .reindex(weekdays, fill_value=0)\n",
        "          .rename_axis(\"Day\")\n",
        "          .reset_index(name=\"Count\"))\n",
        "\n",
        "df_dow[\"Day\"] = pd.Categorical(df_dow[\"Day\"], categories=weekdays, ordered=True)\n",
        "\n",
        "by_dow = holoviews.Bars(\n",
        "    df_dow, kdims=\"Day\", vdims=\"Count\"\n",
        ").opts(\n",
        "    title=\"By Day of Week\",\n",
        "    xlabel=\"Day\", ylabel=\"Count\",\n",
        "    width=600, height=300,\n",
        "    show_grid=True, color=\"#ff7f0e\"\n",
        ")\n",
        "\n",
        "(by_year + by_month + by_dow).cols(3)"
      ],
      "metadata": {
        "id": "OHJ0_TG0mFR3"
      },
      "execution_count": null,
      "outputs": []
    },
    {
      "cell_type": "markdown",
      "source": [
        "**Observation:**\n",
        "\n",
        "**By Year** → Most incidents occurred in 2016, with a drop in 2017.\n",
        "\n",
        "**By Month** → Incidents are fairly spread across months, with peak in February and higher overall in 1st half of the year\n",
        "\n",
        "**By Day of Week** → Incidents occur throughout the week, slightly higher on Thursdays."
      ],
      "metadata": {
        "id": "DkrK8TJlmWIB"
      }
    },
    {
      "cell_type": "markdown",
      "source": [
        "####**Weekly Incidents**"
      ],
      "metadata": {
        "id": "ay7qVLAvmXft"
      }
    },
    {
      "cell_type": "code",
      "source": [
        "ax = (data_eda.set_index('Data')\n",
        "           .resample('W').size()              # weekly row count\n",
        "           .rename('Incidents per week')\n",
        "           .plot())\n",
        "\n",
        "ax.set_title('Weekly incidents')\n",
        "ax.set_xlabel('Week')\n",
        "ax.set_ylabel('Count')"
      ],
      "metadata": {
        "id": "onSh-oLGmdS7"
      },
      "execution_count": null,
      "outputs": []
    },
    {
      "cell_type": "markdown",
      "source": [
        "**Observation:**\n",
        "\n",
        "* Counts fluctuate a lot week to week (mostly 2–8), with a few spikes to 10–12.\n",
        "\n",
        "* No clear upward or downward trend across 2016–mid-2017.\n",
        "\n",
        "* Clusters of higher activity appear in early 2016 and early 2017.\n",
        "\n",
        "* Quieter periods around late 2016 and Apr–May 2017."
      ],
      "metadata": {
        "id": "2zL0hbRfmij7"
      }
    },
    {
      "cell_type": "markdown",
      "source": [
        "###**Bivariate Analysis**"
      ],
      "metadata": {
        "id": "uBgUquElntPr"
      }
    },
    {
      "cell_type": "markdown",
      "source": [
        "####**Weekly incidents by Industry Sector**"
      ],
      "metadata": {
        "id": "S0a1ST2Qntzk"
      }
    },
    {
      "cell_type": "code",
      "source": [
        "# Ensure datetime\n",
        "data_eda[\"Data\"] = pd.to_datetime(data_eda[\"Data\"])\n",
        "\n",
        "# Weekly counts by industry\n",
        "weekly = (data_eda.set_index(\"Data\")\n",
        "              .groupby(\"Industry Sector\")\n",
        "              .resample(\"W\").size()\n",
        "              .unstack(0)\n",
        "              .fillna(0))\n",
        "\n",
        "# ---- Side-by-side small multiples ----\n",
        "industries = weekly.columns.tolist()\n",
        "n = len(industries)\n",
        "ncols = min(3, n)                 # up to 3 across; adjust as you like\n",
        "nrows = math.ceil(n / ncols)\n",
        "\n",
        "fig, axes = plt.subplots(\n",
        "    nrows, ncols,\n",
        "    figsize=(5*ncols, 3*nrows),   # width x height per panel\n",
        "    sharex=True, sharey=True\n",
        ")\n",
        "axes = np.atleast_1d(axes).ravel()\n",
        "\n",
        "for ax, col in zip(axes, industries):\n",
        "    weekly[col].plot(ax=ax)\n",
        "    ax.set_title(col)\n",
        "    ax.set_xlabel(\"\")             # keep global x-label\n",
        "    ax.set_ylabel(\"Count\")\n",
        "\n",
        "# remove any unused axes\n",
        "for ax in axes[n:]:\n",
        "    fig.delaxes(ax)\n",
        "\n",
        "fig.suptitle(\"Weekly incidents by Industry Sector\", y=0.995, fontsize=12)\n",
        "plt.tight_layout()\n",
        "plt.show()"
      ],
      "metadata": {
        "id": "C95KEqRknweU"
      },
      "execution_count": null,
      "outputs": []
    },
    {
      "cell_type": "markdown",
      "source": [
        "**Observation:**\n",
        "\n",
        "* Mining shows the highest and most sustained weekly activity (baseline ~2–4/week, spikes to ~6–8), with a slight uptick in early 2017.\n",
        "\n",
        "* Metals is bursty: frequent small spikes (≤5) and more zero weeks than Mining.\n",
        "\n",
        "* Others is sparse, with long zero stretches and a few isolated spikes (mid-2016, early 2017).\n"
      ],
      "metadata": {
        "id": "EY8Kbsihn4v5"
      }
    },
    {
      "cell_type": "markdown",
      "source": [
        "####**Year Data country wise**"
      ],
      "metadata": {
        "id": "KWV06Kg6oMMD"
      }
    },
    {
      "cell_type": "code",
      "source": [
        "data_eda['Data'] = pd.to_datetime(data_eda['Data'])\n",
        "\n",
        "# daily counts per country\n",
        "daily = (data_eda.groupby(['Data','Countries'])\n",
        "                 .size()\n",
        "                 .unstack('Countries')\n",
        "                 .fillna(0))\n",
        "\n",
        "# optional: smooth to weekly sums\n",
        "weekly = daily.resample('W').sum()\n",
        "\n",
        "ax = weekly.plot(figsize=(15,4))   # one line per country\n",
        "plt.legend(bbox_to_anchor=(1.05, 1), loc=2, borderaxespad=0.)\n",
        "plt.xlabel('Date'); plt.ylabel('Count'); plt.title('Events per Country (weekly)')"
      ],
      "metadata": {
        "id": "P8keL0_xoPe6"
      },
      "execution_count": null,
      "outputs": []
    },
    {
      "cell_type": "markdown",
      "source": [
        "**Observation:**\n",
        "\n",
        "*  **Country_01** leads consistently (often 3–6/week, peaks ~8).\n",
        "\n",
        "*  **Country_02** is sporadic: many zeros with bursts (1–3, occasional 4–5).\n",
        "\n",
        "*  **Country_03** is mostly zero with rare spikes (max ~6 around mid-2016).\n",
        "\n",
        "*  No clear trend/seasonality across 2016–mid-2017—peaks are episodic.\n",
        "\n",
        "*  **High volatility** week to week for all countries."
      ],
      "metadata": {
        "id": "RZ-X39GroVhT"
      }
    },
    {
      "cell_type": "markdown",
      "source": [
        "####**Country wise Industry Sector**"
      ],
      "metadata": {
        "id": "k9lfHM-hoXVC"
      }
    },
    {
      "cell_type": "code",
      "source": [
        "# Assume df has 'Countries' and 'Industry Sector'\n",
        "# Count incidents by Country & Sector\n",
        "counts = data_eda.groupby(['Countries', 'Industry Sector']).size().reset_index(name='Count')\n",
        "\n",
        "# Make a grouped bar chart\n",
        "bars = holoviews.Bars(counts, kdims=['Countries', 'Industry Sector'], vdims='Count').opts(\n",
        "    title=\"Incidents by Country and Industry Sector\",\n",
        "    width=900, height=500,\n",
        "    stacked=False,            # False = grouped, True = stacked\n",
        "    tools=['hover'],\n",
        "    show_grid=True,\n",
        "    legend_position='right',\n",
        "    xrotation=45\n",
        ")\n",
        "\n",
        "bars"
      ],
      "metadata": {
        "id": "6gsn-ipQoZrm"
      },
      "execution_count": null,
      "outputs": []
    },
    {
      "cell_type": "markdown",
      "source": [
        "**Observations**\n",
        "\n",
        "**Country 1** → Incidents mainly from Mining (~80%).\n",
        "\n",
        "**Country 2**→ Incidents dominated by Metals (~70%).\n",
        "\n",
        "**Country 3** → Almost entirely Others (~100%).\n",
        "\n",
        "Sector contribution is country-specific, not uniform."
      ],
      "metadata": {
        "id": "t_shVe4Hojag"
      }
    },
    {
      "cell_type": "markdown",
      "source": [
        "####**Industry wise Accident Level**"
      ],
      "metadata": {
        "id": "zWpndlIFokXx"
      }
    },
    {
      "cell_type": "code",
      "source": [
        "accident_order={'I':1, 'II':2, 'III':3, 'IV':4, 'V':5}\n",
        "fig=sns.FacetGrid(data,aspect=1.2,palette=\"winter\",col='Industry Sector', legend_out=True)\n",
        "fig.map(sns.countplot, 'Accident Level', order=accident_order)\n",
        "plt.legend(bbox_to_anchor=(1.05, 1), loc=2, borderaxespad=0.)\n",
        "plt.show()"
      ],
      "metadata": {
        "id": "zrJJ1uxLonLu"
      },
      "execution_count": null,
      "outputs": []
    },
    {
      "cell_type": "markdown",
      "source": [
        "**Observation:**\n",
        "\n",
        "* Level I dominates in all sectors.\n",
        "\n",
        "* Males account for the vast majority of incidents across every level; female cases are few and mostly Level I.\n",
        "\n",
        "* Severe levels (III–V) occur mainly in Mining and Metals; Others has low volume and no Level V.\n",
        "\n",
        "* Mining shows the highest overall counts, followed by Metals; Others is minimal."
      ],
      "metadata": {
        "id": "DyscbtfIosWE"
      }
    },
    {
      "cell_type": "markdown",
      "source": [
        "####**Industry wise  Potential Accident Level**"
      ],
      "metadata": {
        "id": "4TQCG1t5otK7"
      }
    },
    {
      "cell_type": "code",
      "source": [
        "accident_order={'I':1, 'II':2, 'III':3, 'IV':4, 'V':5}\n",
        "fig=sns.FacetGrid(data,aspect=1.2,palette=\"winter\",col='Industry Sector', legend_out=True)\n",
        "fig.map(sns.countplot, 'Potential Accident Level', order=accident_order)\n",
        "plt.legend(bbox_to_anchor=(1.05, 1), loc=2, borderaxespad=0.)\n",
        "plt.show()"
      ],
      "metadata": {
        "id": "c5DfUV7woxE6"
      },
      "execution_count": null,
      "outputs": []
    },
    {
      "cell_type": "markdown",
      "source": [
        "**Observation:**\n",
        "\n",
        "* **Mining** industry has the **highest number of potential accidents**, especially at Level IV.\n",
        "\n",
        "* **Metals** industry shows accidents spread across Levels II–IV, but with lower counts than Mining.\n",
        "\n",
        "* **Others** category has very few accidents, mostly at Level I.\n",
        "\n",
        "* In short: Mining is the riskiest sector, with most serious accidents (Level IV), while Metals and Others face fewer and lower-level accidents."
      ],
      "metadata": {
        "id": "sIFJd3oIpMq6"
      }
    },
    {
      "cell_type": "markdown",
      "source": [],
      "metadata": {
        "id": "Ow8vjVHNrWdU"
      }
    },
    {
      "cell_type": "code",
      "source": [],
      "metadata": {
        "id": "KqWcUrsErXOg"
      },
      "execution_count": null,
      "outputs": []
    },
    {
      "cell_type": "markdown",
      "source": [
        "####**Critical Risk Vs Accident Level**"
      ],
      "metadata": {
        "id": "aV741gP7p3Df"
      }
    },
    {
      "cell_type": "code",
      "source": [
        "acc_cr = data_eda.pivot_table(index='Critical Risk',\n",
        "                          columns='Accident Level',\n",
        "                          aggfunc='size')\n",
        "\n",
        "acc_cr = acc_cr.fillna(0).astype(int)        # convert to int if counts\n",
        "acc_cr['total'] = acc_cr.sum(axis=1)\n",
        "\n",
        "acc_cr.style.background_gradient(cmap='Blues')"
      ],
      "metadata": {
        "id": "QRsFRgFzp4mS"
      },
      "execution_count": null,
      "outputs": []
    },
    {
      "cell_type": "markdown",
      "source": [
        "**Observation:**\n",
        "\n",
        "* “Others” dominates with 232 incidents—far above the next categories (Pressed 24, Manual Tools 20, Chemical substances 17). This signals a taxonomy/reporting gap.\n",
        "\n",
        "* Severity mix: Level I incidents are the majority across categories; Level IV–V are rare overall.\n",
        "\n",
        "**Where severe cases appear:**\n",
        "\n",
        "* Others: highest absolute severe count (IV=13, V=3) due to volume.\n",
        "\n",
        "* Power lock: 2 of 3 are Level V → very high severity rate.\n",
        "\n",
        "* Pressed: notable Level IV = 4.\n",
        "\n",
        "* Fall: has Level IV/V entries—needs attention."
      ],
      "metadata": {
        "id": "srYxRyWLp-a6"
      }
    },
    {
      "cell_type": "markdown",
      "source": [
        "####**Critical Risk Vs Potential Accident  Level**"
      ],
      "metadata": {
        "id": "9c4FcuoVqO1Y"
      }
    },
    {
      "cell_type": "code",
      "source": [
        "acc_cr = data.pivot_table(index='Critical Risk',\n",
        "                          columns='Potential Accident Level',\n",
        "                          aggfunc='size')\n",
        "\n",
        "acc_cr = acc_cr.fillna(0).astype(int)        # convert to int if counts\n",
        "acc_cr['total'] = acc_cr.sum(axis=1)\n",
        "\n",
        "acc_cr.style.background_gradient(cmap='Blues')"
      ],
      "metadata": {
        "id": "_PmAXTQTqSFh"
      },
      "execution_count": null,
      "outputs": []
    },
    {
      "cell_type": "markdown",
      "source": [
        "**Observation:**\n",
        "\n",
        "* Biggest bucket: Others (232) — too broad; reclassify to act on it.\n",
        "\n",
        "* Highest specific totals: Pressed (24), Manual Tools (20), Chemical substances (17).\n",
        "\n",
        "* Severe-heavy risks (IV–V): Vehicles/Mobile Equipment (IV=2, V=4), Power lock (V=3), Projection (IV=7, V=2), Pressed (IV=7, V=1), Suspended Loads (IV=5), Fall prevention (IV=5).\n",
        "\n",
        "* Mostly low severity: Bees (all I=10), Venomous Animals (mainly I=13), Manual Tools (peaks at II–III), Cut (II–III).\n",
        "\n",
        "* Notable singles: Level VI appears once (Remains of choco)."
      ],
      "metadata": {
        "id": "nSRvEfIuq7n2"
      }
    },
    {
      "cell_type": "markdown",
      "source": [
        "####**Critical Risk Vs Industry Sector**"
      ],
      "metadata": {
        "id": "bc__Wqxop_h6"
      }
    },
    {
      "cell_type": "code",
      "source": [
        "industry_cr = data_eda.pivot_table(index='Critical Risk',\n",
        "                          columns='Industry Sector',\n",
        "                          aggfunc='size')\n",
        "\n",
        "industry_cr = industry_cr.fillna(0).astype(int)        # convert to int if counts\n",
        "industry_cr['total'] = industry_cr.sum(axis=1)\n",
        "\n",
        "industry_cr.style.background_gradient(cmap='Blues')"
      ],
      "metadata": {
        "id": "CfF4oIp4rLQ2"
      },
      "execution_count": null,
      "outputs": []
    },
    {
      "cell_type": "markdown",
      "source": [
        "**Observation:**\n",
        "\n",
        "* Mining has the most incidents, mainly due to a very large “Others” count (179).\n",
        "\n",
        "* Metals is second; top risks here are Pressed (17), Chemical substances (15), and Manual tools (14).\n",
        "\n",
        "* Others sector is small but skewed to animal/insect hazards: Venomous animals (13) and Bees (10)."
      ],
      "metadata": {
        "id": "6FEv6hcRrPyn"
      }
    },
    {
      "cell_type": "markdown",
      "source": [
        "####**Genre Vs Industry Sector**"
      ],
      "metadata": {
        "id": "Bgkw3mscr4aH"
      }
    },
    {
      "cell_type": "code",
      "source": [
        "# Assume df has 'Genre' and 'Industry Sector'\n",
        "# Count incidents by Genre & Sector\n",
        "counts = data_eda.groupby(['Genre', 'Industry Sector']).size().reset_index(name='Count')\n",
        "\n",
        "# Make a grouped bar chart\n",
        "bars = holoviews.Bars(counts, kdims=['Genre', 'Industry Sector'], vdims='Count').opts(\n",
        "    title=\"Incidents by Genre and Industry Sector\",\n",
        "    width=900, height=500,\n",
        "    stacked=False,            # False = grouped, True = stacked\n",
        "    tools=['hover'],\n",
        "    show_grid=True,\n",
        "    legend_position='right',\n",
        "    xrotation=45\n",
        ")\n",
        "\n",
        "\n",
        "bars"
      ],
      "metadata": {
        "id": "BrC9anLmrjAE"
      },
      "execution_count": null,
      "outputs": []
    },
    {
      "cell_type": "markdown",
      "source": [
        "\n",
        "**Observation:**\n",
        "\n",
        "* Most incidents are among males, especially in the Mining sector (highest count).\n",
        "\n",
        "* Metals (male) also shows a significant number of incidents.\n",
        "\n",
        "* Females have very few incidents across all sectors.\n",
        "\n",
        "* “Others” sector has a moderate number of incidents, mainly among males.\n",
        "\n",
        "* In short: Mining (males) dominates incident counts in all sectors(Mining/Metals/Others), while female incidents are minimal."
      ],
      "metadata": {
        "id": "F_4gwZEPr-jU"
      }
    },
    {
      "cell_type": "markdown",
      "source": [
        "## **Model Training**"
      ],
      "metadata": {
        "id": "62gTWWV8AWRP"
      }
    },
    {
      "cell_type": "code",
      "source": [
        "# Pre Settings common for all models\n",
        "RANDOM_STATE = 42"
      ],
      "metadata": {
        "id": "GQQHSFH2HfhM"
      },
      "execution_count": null,
      "outputs": []
    },
    {
      "cell_type": "markdown",
      "source": [
        "### **Split train & test**"
      ],
      "metadata": {
        "id": "F6XbOlUgBKn1"
      }
    },
    {
      "cell_type": "code",
      "source": [
        "from sklearn.model_selection import train_test_split\n",
        "\n",
        "# Define features & labels\n",
        "X = data['final_cleaned_text'].values\n",
        "y = data['Accident Level'].values\n",
        "\n",
        "#Split train & test\n",
        "X_train, X_test, y_train, y_test = train_test_split(\n",
        "    X, y, test_size=0.2, stratify=y, random_state=RANDOM_STATE\n",
        ")\n"
      ],
      "metadata": {
        "id": "eaoWJHbIBLBV"
      },
      "execution_count": null,
      "outputs": []
    },
    {
      "cell_type": "markdown",
      "source": [
        "### Define vectorizers (BoW and TF-IDF)"
      ],
      "metadata": {
        "id": "WL35E8gfBcba"
      }
    },
    {
      "cell_type": "code",
      "source": [
        "from sklearn.feature_extraction.text import CountVectorizer, TfidfVectorizer\n",
        "\n",
        "bow_vectorizer = CountVectorizer(ngram_range=(1,2), min_df=2)\n",
        "tfidf_vectorizer = TfidfVectorizer(ngram_range=(1,2), min_df=2, sublinear_tf=True)"
      ],
      "metadata": {
        "id": "E1o-F2JIBbs-"
      },
      "execution_count": null,
      "outputs": []
    },
    {
      "cell_type": "markdown",
      "source": [
        "### Define evaluation function"
      ],
      "metadata": {
        "id": "UCTEUkyOBovq"
      }
    },
    {
      "cell_type": "code",
      "source": [
        "# Shared results list -> final DF for comparison\n",
        "RESULTS = []"
      ],
      "metadata": {
        "id": "80fmcAT7z_hQ"
      },
      "execution_count": null,
      "outputs": []
    },
    {
      "cell_type": "code",
      "source": [
        "from collections import Counter\n",
        "\n",
        "#To Show Class imbalance\n",
        "def show_class_balance(y_vec, title=\"Class balance\"):\n",
        "    cnt = Counter(y_vec)\n",
        "    total = sum(cnt.values())\n",
        "    df = pd.DataFrame({\n",
        "        \"Class\": list(cnt.keys()),\n",
        "        \"Count\": list(cnt.values()),\n",
        "        \"Percent\": [round(100*v/total, 2) for v in cnt.values()]\n",
        "    }).sort_values(\"Count\", ascending=False).reset_index(drop=True)\n",
        "    print(title)\n",
        "    display(df)\n",
        "    return df"
      ],
      "metadata": {
        "id": "eBhabECLGw61"
      },
      "execution_count": null,
      "outputs": []
    },
    {
      "cell_type": "code",
      "source": [
        "def evaluate_and_log(model, Xtr, ytr, Xte, yte, label, results_list, show_cm=True):\n",
        "    # Train the model\n",
        "    model.fit(Xtr, ytr)\n",
        "\n",
        "    # Predictions\n",
        "    ytr_pred = model.predict(Xtr)\n",
        "    yte_pred = model.predict(Xte)\n",
        "\n",
        "    # Metrics\n",
        "    train_acc = accuracy_score(ytr, ytr_pred)\n",
        "    test_acc  = accuracy_score(yte, yte_pred)\n",
        "    test_f1   = f1_score(yte, yte_pred, average=\"macro\", zero_division=0)\n",
        "\n",
        "    # Print report\n",
        "    print(f\"\\n{label} Results\")\n",
        "    print(f\"Train Accuracy: {train_acc:.3f}\")\n",
        "    print(f\"Test  Accuracy: {test_acc:.3f}\")\n",
        "    print(f\"Test  Macro-F1: {test_f1:.3f}\\n\")\n",
        "    print(classification_report(yte, yte_pred, digits=3, zero_division=0))\n",
        "\n",
        "    # Confusion matrix\n",
        "    if show_cm:\n",
        "        classes = np.unique(yte)\n",
        "        cm = confusion_matrix(yte, yte_pred, labels=classes)\n",
        "        sns.heatmap(cm, annot=True, fmt='d',\n",
        "                    xticklabels=classes, yticklabels=classes,\n",
        "                    cmap=\"Blues\")\n",
        "        plt.title(f\"{label} - Confusion Matrix\")\n",
        "        plt.ylabel(\"True\")\n",
        "        plt.xlabel(\"Predicted\")\n",
        "        plt.show()\n",
        "\n",
        "    # Append to results list with consistent keys\n",
        "    results_list.append({\n",
        "        \"Model\": label,\n",
        "        \"Train Accuracy\": round(train_acc, 3),\n",
        "        \"Test Accuracy\": round(test_acc, 3),\n",
        "        \"Test Macro-F1\": round(test_f1, 3)\n",
        "    })\n"
      ],
      "metadata": {
        "id": "LwDeseX9Bl8f"
      },
      "execution_count": null,
      "outputs": []
    },
    {
      "cell_type": "markdown",
      "source": [
        "### Check class imbalance"
      ],
      "metadata": {
        "id": "fGa_0bANG786"
      }
    },
    {
      "cell_type": "code",
      "source": [
        "_ = show_class_balance(y, title=\"Overall class balance\")"
      ],
      "metadata": {
        "id": "nLAtI0ofG9Im"
      },
      "execution_count": null,
      "outputs": []
    },
    {
      "cell_type": "markdown",
      "source": [
        "- The class imbalance is very high across classes"
      ],
      "metadata": {
        "id": "tN3QXP5pfDIL"
      }
    },
    {
      "cell_type": "code",
      "source": [
        "_ = show_class_balance(y_train, title=\"Train split balance\")"
      ],
      "metadata": {
        "id": "17I0VZxXekRM"
      },
      "execution_count": null,
      "outputs": []
    },
    {
      "cell_type": "code",
      "source": [
        "_ = show_class_balance(y_test,  title=\"Test split balance\")"
      ],
      "metadata": {
        "id": "PlX30eBtem-4"
      },
      "execution_count": null,
      "outputs": []
    },
    {
      "cell_type": "markdown",
      "source": [
        "- Our dataset was heavily imbalanced, with ~74% of accidents labeled as Level I while severe cases (Levels III, IV and V) had fewer than 10 examples.\n",
        "- Without balancing, models tended to predict only the majority class, leading to high accuracy but poor macro-F1.\n",
        "- Apply Random Oversampling on the training data to give minority classes equal representation, ensuring the model could also learn patterns from rare but critical severe accidents"
      ],
      "metadata": {
        "id": "YJsKQuEMfLfH"
      }
    },
    {
      "cell_type": "markdown",
      "source": [
        "### Oversampling"
      ],
      "metadata": {
        "id": "9PvPl384HOHJ"
      }
    },
    {
      "cell_type": "code",
      "source": [
        "from imblearn.over_sampling import RandomOverSampler\n",
        "\n",
        "sampler = RandomOverSampler(random_state=RANDOM_STATE)"
      ],
      "metadata": {
        "id": "rWeRf3HBHQad"
      },
      "execution_count": null,
      "outputs": []
    },
    {
      "cell_type": "markdown",
      "source": [
        "### Train AdaBoost with BoW"
      ],
      "metadata": {
        "id": "KWpCTP2QHxnz"
      }
    },
    {
      "cell_type": "code",
      "source": [
        "from sklearn.tree import DecisionTreeClassifier\n",
        "from sklearn.ensemble import AdaBoostClassifier\n",
        "from imblearn.pipeline import Pipeline as ImbPipeline\n",
        "\n",
        "\n",
        "# Base (weak) learner with class_weight to help skew\n",
        "weak_learner = DecisionTreeClassifier(max_depth=1, class_weight=\"balanced\", random_state=RANDOM_STATE)\n",
        "\n",
        "ada_params = dict(estimator=weak_learner, n_estimators=200, learning_rate=0.5, random_state=RANDOM_STATE)\n",
        "\n",
        "# Pipelines\n",
        "ada_bow_plain = ImbPipeline([\n",
        "    (\"bow\", bow_vectorizer),\n",
        "    (\"clf\", AdaBoostClassifier(**ada_params))\n",
        "])\n",
        "\n",
        "ada_tfidf_plain = ImbPipeline([\n",
        "    (\"tfidf\", tfidf_vectorizer),\n",
        "    (\"clf\", AdaBoostClassifier(**ada_params))\n",
        "])\n",
        "\n",
        "ada_bow_overs = ImbPipeline([\n",
        "    (\"bow\", bow_vectorizer),\n",
        "    (\"oversample\", sampler),\n",
        "    (\"clf\", AdaBoostClassifier(**ada_params))\n",
        "])\n",
        "\n",
        "ada_tfidf_overs = ImbPipeline([\n",
        "    (\"tfidf\", tfidf_vectorizer),\n",
        "    (\"oversample\", sampler),\n",
        "    (\"clf\", AdaBoostClassifier(**ada_params))\n",
        "])"
      ],
      "metadata": {
        "id": "1BjQeYHNHxAN"
      },
      "execution_count": null,
      "outputs": []
    },
    {
      "cell_type": "code",
      "source": [
        "# Evaluate AdaBoost BoW without over sampling\n",
        "evaluate_and_log(ada_bow_plain,  X_train, y_train, X_test, y_test, \"AdaBoost (BoW)\", RESULTS)"
      ],
      "metadata": {
        "id": "eO8t8oOlf4p_"
      },
      "execution_count": null,
      "outputs": []
    },
    {
      "cell_type": "code",
      "metadata": {
        "id": "bf956938"
      },
      "source": [
        "# Evaluate AdaBoost TFIDF without over sampling\n",
        "evaluate_and_log(ada_tfidf_plain,X_train, y_train, X_test, y_test, \"AdaBoost (TF-IDF)\", RESULTS)"
      ],
      "execution_count": null,
      "outputs": []
    },
    {
      "cell_type": "code",
      "source": [
        "# Evaluate AdaBoost BoW with over sampling\n",
        "evaluate_and_log(ada_bow_overs,  X_train, y_train, X_test, y_test, \"AdaBoost (BoW + Oversample)\", RESULTS)"
      ],
      "metadata": {
        "id": "OYoy51Ltf4b8"
      },
      "execution_count": null,
      "outputs": []
    },
    {
      "cell_type": "code",
      "source": [
        "# Evaluate AdaBoost TFIDF with over sampling\n",
        "evaluate_and_log(ada_tfidf_overs,X_train, y_train, X_test, y_test, \"AdaBoost (TF-IDF + Oversample)\", RESULTS)"
      ],
      "metadata": {
        "id": "_Qp7NpgsgO0_"
      },
      "execution_count": null,
      "outputs": []
    },
    {
      "cell_type": "code",
      "source": [
        "# Compare Results\n",
        "pd.DataFrame(RESULTS).sort_values(\"Test Accuracy\", ascending=False)"
      ],
      "metadata": {
        "id": "1RkBzYwef4Up"
      },
      "execution_count": null,
      "outputs": []
    },
    {
      "cell_type": "markdown",
      "source": [
        "### Hyper-parameter tuning"
      ],
      "metadata": {
        "id": "DaXnx8O5I9RK"
      }
    },
    {
      "cell_type": "code",
      "source": [
        "#utility method to build base pipeline\n",
        "def build_ada_pipeline(vectorizer):\n",
        "    return ImbPipeline([\n",
        "        (vectorizer.__class__.__name__.lower(), vectorizer),\n",
        "        (\"oversample\", sampler),  # keep in-CV balancing\n",
        "        (\"clf\", AdaBoostClassifier(\n",
        "            estimator=DecisionTreeClassifier(class_weight=\"balanced\", random_state=RANDOM_STATE),\n",
        "            random_state=RANDOM_STATE\n",
        "        ))\n",
        "    ])"
      ],
      "metadata": {
        "id": "PdgEDrR8gfa0"
      },
      "execution_count": null,
      "outputs": []
    },
    {
      "cell_type": "code",
      "source": [
        "# Hyper Parameters to be tuned\n",
        "ada_grid = {\n",
        "    \"clf__n_estimators\":  [100, 200, 400],\n",
        "    \"clf__learning_rate\": [0.1, 0.3, 0.5, 1.0],\n",
        "    \"clf__estimator__max_depth\": [1, 2],\n",
        "    \"clf__estimator__min_samples_leaf\": [1, 2]\n",
        "}"
      ],
      "metadata": {
        "id": "4ilnqt-zg_eT"
      },
      "execution_count": null,
      "outputs": []
    },
    {
      "cell_type": "markdown",
      "source": [
        "#### Hyper parameter tuning for Bow"
      ],
      "metadata": {
        "id": "M-2UotSzgoEa"
      }
    },
    {
      "cell_type": "code",
      "source": [
        "from sklearn.model_selection import StratifiedKFold\n",
        "\n",
        "# Define a stratified 5-fold cross-validation strategy\n",
        "cv = StratifiedKFold(n_splits=5, shuffle=True, random_state=RANDOM_STATE)"
      ],
      "metadata": {
        "id": "HFr_j21L3EDQ"
      },
      "execution_count": null,
      "outputs": []
    },
    {
      "cell_type": "code",
      "source": [
        "from sklearn.model_selection import GridSearchCV\n",
        "\n",
        "\n",
        "# Build the AdaBoost pipeline using Bag-of-Words features\n",
        "pipe_bow   = build_ada_pipeline(bow_vectorizer)\n",
        "\n",
        "# Set up GridSearchCV for hyperparameter tuning\n",
        "grid_bow = GridSearchCV(\n",
        "    estimator=pipe_bow,\n",
        "    param_grid=ada_grid,\n",
        "    scoring=\"accuracy\",\n",
        "    cv=cv,\n",
        "    n_jobs=-1,\n",
        "    refit=True,\n",
        "    verbose=1,\n",
        "    error_score=\"raise\"  # fail fast if something is wrong\n",
        ")\n",
        "\n",
        "# Run the grid search on the training data\n",
        "grid_bow.fit(X_train, y_train)\n",
        "\n",
        "print(\"Best BoW params:\", grid_bow.best_params_, \"CV Macro-F1:\", round(grid_bow.best_score_, 3))\n"
      ],
      "metadata": {
        "id": "pP6nOmpEI-QL"
      },
      "execution_count": null,
      "outputs": []
    },
    {
      "cell_type": "markdown",
      "source": [
        "#### Hyper parameter tuning for TF-IDF"
      ],
      "metadata": {
        "id": "LQTENP_GgyAV"
      }
    },
    {
      "cell_type": "code",
      "source": [
        "from sklearn.model_selection import StratifiedKFold, GridSearchCV\n",
        "\n",
        "# Build the AdaBoost pipeline using TDIDF features\n",
        "pipe_tfidf = build_ada_pipeline(tfidf_vectorizer)\n",
        "\n",
        "# Set up GridSearchCV for hyperparameter tuning\n",
        "grid_tfidf = GridSearchCV(\n",
        "    estimator=pipe_tfidf,\n",
        "    param_grid=ada_grid,\n",
        "    scoring=\"accuracy\",\n",
        "    cv=cv,\n",
        "    n_jobs=-1,\n",
        "    refit=True,\n",
        "    verbose=1,\n",
        "    error_score=\"raise\"\n",
        ")\n",
        "\n",
        "# Run the grid search on the training data\n",
        "grid_tfidf.fit(X_train, y_train)\n",
        "\n",
        "print(\"Best TF-IDF params:\", grid_tfidf.best_params_, \"CV Macro-F1:\", round(grid_tfidf.best_score_, 3))\n"
      ],
      "metadata": {
        "colab": {
          "base_uri": "https://localhost:8080/"
        },
        "id": "mmbmN30gg1uh",
        "outputId": "17599edb-17b4-4633-ee6d-9ba1c63d98fe"
      },
      "execution_count": null,
      "outputs": [
        {
          "output_type": "stream",
          "name": "stdout",
          "text": [
            "Fitting 5 folds for each of 48 candidates, totalling 240 fits\n",
            "Best TF-IDF params: {'clf__estimator__max_depth': 2, 'clf__estimator__min_samples_leaf': 2, 'clf__learning_rate': 1.0, 'clf__n_estimators': 400} CV Macro-F1: 0.698\n"
          ]
        }
      ]
    },
    {
      "cell_type": "code",
      "source": [
        "#Evaluate AdaBoost with BoW + Tuned\n",
        "_ = evaluate_and_log(grid_bow.best_estimator_,   X_train, y_train, X_test, y_test,\n",
        "                     \"AdaBoost (BoW + TUNED)\", RESULTS)"
      ],
      "metadata": {
        "colab": {
          "base_uri": "https://localhost:8080/",
          "height": 784
        },
        "id": "S2zI-q0VN8D2",
        "outputId": "c38c5f46-cb50-4d7b-8e19-5f29c6c7082c"
      },
      "execution_count": null,
      "outputs": [
        {
          "output_type": "stream",
          "name": "stdout",
          "text": [
            "\n",
            "AdaBoost (BoW + TUNED) Results\n",
            "Train Accuracy: 0.922\n",
            "Test  Accuracy: 0.619\n",
            "Test  Macro-F1: 0.236\n",
            "\n",
            "              precision    recall  f1-score   support\n",
            "\n",
            "           I      0.746     0.806     0.775        62\n",
            "          II      0.111     0.125     0.118         8\n",
            "         III      0.000     0.000     0.000         6\n",
            "          IV      1.000     0.167     0.286         6\n",
            "           V      0.000     0.000     0.000         2\n",
            "\n",
            "    accuracy                          0.619        84\n",
            "   macro avg      0.371     0.220     0.236        84\n",
            "weighted avg      0.633     0.619     0.604        84\n",
            "\n"
          ]
        },
        {
          "output_type": "display_data",
          "data": {
            "text/plain": [
              "<Figure size 640x480 with 2 Axes>"
            ],
            "image/png": "[encoded data removed]"
          },
          "metadata": {}
        }
      ]
    },
    {
      "cell_type": "code",
      "source": [
        "#Evaluate AdaBoost with TF-IDF + Tuned\n",
        "_ = evaluate_and_log(grid_tfidf.best_estimator_, X_train, y_train, X_test, y_test,\n",
        "                     \"AdaBoost (TF-IDF + TUNED)\", RESULTS)"
      ],
      "metadata": {
        "colab": {
          "base_uri": "https://localhost:8080/",
          "height": 784
        },
        "id": "6IJbwxES8cm5",
        "outputId": "225f2d99-3845-4cd1-af65-89483759aeb5"
      },
      "execution_count": null,
      "outputs": [
        {
          "output_type": "stream",
          "name": "stdout",
          "text": [
            "\n",
            "AdaBoost (TF-IDF + TUNED) Results\n",
            "Train Accuracy: 0.964\n",
            "Test  Accuracy: 0.619\n",
            "Test  Macro-F1: 0.158\n",
            "\n",
            "              precision    recall  f1-score   support\n",
            "\n",
            "           I      0.743     0.839     0.788        62\n",
            "          II      0.000     0.000     0.000         8\n",
            "         III      0.000     0.000     0.000         6\n",
            "          IV      0.000     0.000     0.000         6\n",
            "           V      0.000     0.000     0.000         2\n",
            "\n",
            "    accuracy                          0.619        84\n",
            "   macro avg      0.149     0.168     0.158        84\n",
            "weighted avg      0.548     0.619     0.582        84\n",
            "\n"
          ]
        },
        {
          "output_type": "display_data",
          "data": {
            "text/plain": [
              "<Figure size 640x480 with 2 Axes>"
            ],
            "image/png": "[encoded data removed]"
          },
          "metadata": {}
        }
      ]
    },
    {
      "cell_type": "code",
      "source": [
        "#Compare results\n",
        "final_df = pd.DataFrame(RESULTS).sort_values([\"Test Accuracy\"], ascending=False).reset_index(drop=True)\n",
        "display(final_df)"
      ],
      "metadata": {
        "colab": {
          "base_uri": "https://localhost:8080/",
          "height": 238
        },
        "id": "Vrm2p3fj8d5J",
        "outputId": "1d981bb6-1e86-4951-d144-d836abbcaf1c"
      },
      "execution_count": null,
      "outputs": [
        {
          "output_type": "display_data",
          "data": {
            "text/plain": [
              "                            Model  Train Accuracy  Test Accuracy  \\\n",
              "0                  AdaBoost (BoW)           0.746          0.738   \n",
              "1               AdaBoost (TF-IDF)           0.746          0.738   \n",
              "2       AdaBoost (TF-IDF + TUNED)           0.964          0.619   \n",
              "3          AdaBoost (BoW + TUNED)           0.922          0.619   \n",
              "4  AdaBoost (TF-IDF + Oversample)           0.719          0.571   \n",
              "5     AdaBoost (BoW + Oversample)           0.581          0.452   \n",
              "\n",
              "   Test Macro-F1  \n",
              "0          0.170  \n",
              "1          0.170  \n",
              "2          0.158  \n",
              "3          0.236  \n",
              "4          0.254  \n",
              "5          0.253  "
            ],
            "text/html": [
              "\n",
              "  <div id=\"df-f7e3168f-e01d-40be-948c-f9af1d84c8b0\" class=\"colab-df-container\">\n",
              "    <div>\n",
              "<style scoped>\n",
              "    .dataframe tbody tr th:only-of-type {\n",
              "        vertical-align: middle;\n",
              "    }\n",
              "\n",
              "    .dataframe tbody tr th {\n",
              "        vertical-align: top;\n",
              "    }\n",
              "\n",
              "    .dataframe thead th {\n",
              "        text-align: right;\n",
              "    }\n",
              "</style>\n",
              "<table border=\"1\" class=\"dataframe\">\n",
              "  <thead>\n",
              "    <tr style=\"text-align: right;\">\n",
              "      <th></th>\n",
              "      <th>Model</th>\n",
              "      <th>Train Accuracy</th>\n",
              "      <th>Test Accuracy</th>\n",
              "      <th>Test Macro-F1</th>\n",
              "    </tr>\n",
              "  </thead>\n",
              "  <tbody>\n",
              "    <tr>\n",
              "      <th>0</th>\n",
              "      <td>AdaBoost (BoW)</td>\n",
              "      <td>0.746</td>\n",
              "      <td>0.738</td>\n",
              "      <td>0.170</td>\n",
              "    </tr>\n",
              "    <tr>\n",
              "      <th>1</th>\n",
              "      <td>AdaBoost (TF-IDF)</td>\n",
              "      <td>0.746</td>\n",
              "      <td>0.738</td>\n",
              "      <td>0.170</td>\n",
              "    </tr>\n",
              "    <tr>\n",
              "      <th>2</th>\n",
              "      <td>AdaBoost (TF-IDF + TUNED)</td>\n",
              "      <td>0.964</td>\n",
              "      <td>0.619</td>\n",
              "      <td>0.158</td>\n",
              "    </tr>\n",
              "    <tr>\n",
              "      <th>3</th>\n",
              "      <td>AdaBoost (BoW + TUNED)</td>\n",
              "      <td>0.922</td>\n",
              "      <td>0.619</td>\n",
              "      <td>0.236</td>\n",
              "    </tr>\n",
              "    <tr>\n",
              "      <th>4</th>\n",
              "      <td>AdaBoost (TF-IDF + Oversample)</td>\n",
              "      <td>0.719</td>\n",
              "      <td>0.571</td>\n",
              "      <td>0.254</td>\n",
              "    </tr>\n",
              "    <tr>\n",
              "      <th>5</th>\n",
              "      <td>AdaBoost (BoW + Oversample)</td>\n",
              "      <td>0.581</td>\n",
              "      <td>0.452</td>\n",
              "      <td>0.253</td>\n",
              "    </tr>\n",
              "  </tbody>\n",
              "</table>\n",
              "</div>\n",
              "    <div class=\"colab-df-buttons\">\n",
              "\n",
              "  <div class=\"colab-df-container\">\n",
              "    <button class=\"colab-df-convert\" onclick=\"convertToInteractive('df-f7e3168f-e01d-40be-948c-f9af1d84c8b0')\"\n",
              "            title=\"Convert this dataframe to an interactive table.\"\n",
              "            style=\"display:none;\">\n",
              "\n",
              "  <svg xmlns=\"http://www.w3.org/2000/svg\" height=\"24px\" viewBox=\"0 -960 960 960\">\n",
              "    <path d=\"M120-120v-720h720v720H120Zm60-500h600v-160H180v160Zm220 220h160v-160H400v160Zm0 220h160v-160H400v160ZM180-400h160v-160H180v160Zm440 0h160v-160H620v160ZM180-180h160v-160H180v160Zm440 0h160v-160H620v160Z\"/>\n",
              "  </svg>\n",
              "    </button>\n",
              "\n",
              "  <style>\n",
              "    .colab-df-container {\n",
              "      display:flex;\n",
              "      gap: 12px;\n",
              "    }\n",
              "\n",
              "    .colab-df-convert {\n",
              "      background-color: #E8F0FE;\n",
              "      border: none;\n",
              "      border-radius: 50%;\n",
              "      cursor: pointer;\n",
              "      display: none;\n",
              "      fill: #1967D2;\n",
              "      height: 32px;\n",
              "      padding: 0 0 0 0;\n",
              "      width: 32px;\n",
              "    }\n",
              "\n",
              "    .colab-df-convert:hover {\n",
              "      background-color: #E2EBFA;\n",
              "      box-shadow: 0px 1px 2px rgba(60, 64, 67, 0.3), 0px 1px 3px 1px rgba(60, 64, 67, 0.15);\n",
              "      fill: #174EA6;\n",
              "    }\n",
              "\n",
              "    .colab-df-buttons div {\n",
              "      margin-bottom: 4px;\n",
              "    }\n",
              "\n",
              "    [theme=dark] .colab-df-convert {\n",
              "      background-color: #3B4455;\n",
              "      fill: #D2E3FC;\n",
              "    }\n",
              "\n",
              "    [theme=dark] .colab-df-convert:hover {\n",
              "      background-color: #434B5C;\n",
              "      box-shadow: 0px 1px 3px 1px rgba(0, 0, 0, 0.15);\n",
              "      filter: drop-shadow(0px 1px 2px rgba(0, 0, 0, 0.3));\n",
              "      fill: #FFFFFF;\n",
              "    }\n",
              "  </style>\n",
              "\n",
              "    <script>\n",
              "      const buttonEl =\n",
              "        document.querySelector('#df-f7e3168f-e01d-40be-948c-f9af1d84c8b0 button.colab-df-convert');\n",
              "      buttonEl.style.display =\n",
              "        google.colab.kernel.accessAllowed ? 'block' : 'none';\n",
              "\n",
              "      async function convertToInteractive(key) {\n",
              "        const element = document.querySelector('#df-f7e3168f-e01d-40be-948c-f9af1d84c8b0');\n",
              "        const dataTable =\n",
              "          await google.colab.kernel.invokeFunction('convertToInteractive',\n",
              "                                                    [key], {});\n",
              "        if (!dataTable) return;\n",
              "\n",
              "        const docLinkHtml = 'Like what you see? Visit the ' +\n",
              "          '<a target=\"_blank\" href=https://colab.research.google.com/notebooks/data_table.ipynb>data table notebook</a>'\n",
              "          + ' to learn more about interactive tables.';\n",
              "        element.innerHTML = '';\n",
              "        dataTable['output_type'] = 'display_data';\n",
              "        await google.colab.output.renderOutput(dataTable, element);\n",
              "        const docLink = document.createElement('div');\n",
              "        docLink.innerHTML = docLinkHtml;\n",
              "        element.appendChild(docLink);\n",
              "      }\n",
              "    </script>\n",
              "  </div>\n",
              "\n",
              "\n",
              "    <div id=\"df-152910d9-8fce-4337-8682-bfbdb18d1682\">\n",
              "      <button class=\"colab-df-quickchart\" onclick=\"quickchart('df-152910d9-8fce-4337-8682-bfbdb18d1682')\"\n",
              "                title=\"Suggest charts\"\n",
              "                style=\"display:none;\">\n",
              "\n",
              "<svg xmlns=\"http://www.w3.org/2000/svg\" height=\"24px\"viewBox=\"0 0 24 24\"\n",
              "     width=\"24px\">\n",
              "    <g>\n",
              "        <path d=\"M19 3H5c-1.1 0-2 .9-2 2v14c0 1.1.9 2 2 2h14c1.1 0 2-.9 2-2V5c0-1.1-.9-2-2-2zM9 17H7v-7h2v7zm4 0h-2V7h2v10zm4 0h-2v-4h2v4z\"/>\n",
              "    </g>\n",
              "</svg>\n",
              "      </button>\n",
              "\n",
              "<style>\n",
              "  .colab-df-quickchart {\n",
              "      --bg-color: #E8F0FE;\n",
              "      --fill-color: #1967D2;\n",
              "      --hover-bg-color: #E2EBFA;\n",
              "      --hover-fill-color: #174EA6;\n",
              "      --disabled-fill-color: #AAA;\n",
              "      --disabled-bg-color: #DDD;\n",
              "  }\n",
              "\n",
              "  [theme=dark] .colab-df-quickchart {\n",
              "      --bg-color: #3B4455;\n",
              "      --fill-color: #D2E3FC;\n",
              "      --hover-bg-color: #434B5C;\n",
              "      --hover-fill-color: #FFFFFF;\n",
              "      --disabled-bg-color: #3B4455;\n",
              "      --disabled-fill-color: #666;\n",
              "  }\n",
              "\n",
              "  .colab-df-quickchart {\n",
              "    background-color: var(--bg-color);\n",
              "    border: none;\n",
              "    border-radius: 50%;\n",
              "    cursor: pointer;\n",
              "    display: none;\n",
              "    fill: var(--fill-color);\n",
              "    height: 32px;\n",
              "    padding: 0;\n",
              "    width: 32px;\n",
              "  }\n",
              "\n",
              "  .colab-df-quickchart:hover {\n",
              "    background-color: var(--hover-bg-color);\n",
              "    box-shadow: 0 1px 2px rgba(60, 64, 67, 0.3), 0 1px 3px 1px rgba(60, 64, 67, 0.15);\n",
              "    fill: var(--button-hover-fill-color);\n",
              "  }\n",
              "\n",
              "  .colab-df-quickchart-complete:disabled,\n",
              "  .colab-df-quickchart-complete:disabled:hover {\n",
              "    background-color: var(--disabled-bg-color);\n",
              "    fill: var(--disabled-fill-color);\n",
              "    box-shadow: none;\n",
              "  }\n",
              "\n",
              "  .colab-df-spinner {\n",
              "    border: 2px solid var(--fill-color);\n",
              "    border-color: transparent;\n",
              "    border-bottom-color: var(--fill-color);\n",
              "    animation:\n",
              "      spin 1s steps(1) infinite;\n",
              "  }\n",
              "\n",
              "  @keyframes spin {\n",
              "    0% {\n",
              "      border-color: transparent;\n",
              "      border-bottom-color: var(--fill-color);\n",
              "      border-left-color: var(--fill-color);\n",
              "    }\n",
              "    20% {\n",
              "      border-color: transparent;\n",
              "      border-left-color: var(--fill-color);\n",
              "      border-top-color: var(--fill-color);\n",
              "    }\n",
              "    30% {\n",
              "      border-color: transparent;\n",
              "      border-left-color: var(--fill-color);\n",
              "      border-top-color: var(--fill-color);\n",
              "      border-right-color: var(--fill-color);\n",
              "    }\n",
              "    40% {\n",
              "      border-color: transparent;\n",
              "      border-right-color: var(--fill-color);\n",
              "      border-top-color: var(--fill-color);\n",
              "    }\n",
              "    60% {\n",
              "      border-color: transparent;\n",
              "      border-right-color: var(--fill-color);\n",
              "    }\n",
              "    80% {\n",
              "      border-color: transparent;\n",
              "      border-right-color: var(--fill-color);\n",
              "      border-bottom-color: var(--fill-color);\n",
              "    }\n",
              "    90% {\n",
              "      border-color: transparent;\n",
              "      border-bottom-color: var(--fill-color);\n",
              "    }\n",
              "  }\n",
              "</style>\n",
              "\n",
              "      <script>\n",
              "        async function quickchart(key) {\n",
              "          const quickchartButtonEl =\n",
              "            document.querySelector('#' + key + ' button');\n",
              "          quickchartButtonEl.disabled = true;  // To prevent multiple clicks.\n",
              "          quickchartButtonEl.classList.add('colab-df-spinner');\n",
              "          try {\n",
              "            const charts = await google.colab.kernel.invokeFunction(\n",
              "                'suggestCharts', [key], {});\n",
              "          } catch (error) {\n",
              "            console.error('Error during call to suggestCharts:', error);\n",
              "          }\n",
              "          quickchartButtonEl.classList.remove('colab-df-spinner');\n",
              "          quickchartButtonEl.classList.add('colab-df-quickchart-complete');\n",
              "        }\n",
              "        (() => {\n",
              "          let quickchartButtonEl =\n",
              "            document.querySelector('#df-152910d9-8fce-4337-8682-bfbdb18d1682 button');\n",
              "          quickchartButtonEl.style.display =\n",
              "            google.colab.kernel.accessAllowed ? 'block' : 'none';\n",
              "        })();\n",
              "      </script>\n",
              "    </div>\n",
              "\n",
              "  <div id=\"id_34f91432-b934-40b9-be41-c62db6b3c279\">\n",
              "    <style>\n",
              "      .colab-df-generate {\n",
              "        background-color: #E8F0FE;\n",
              "        border: none;\n",
              "        border-radius: 50%;\n",
              "        cursor: pointer;\n",
              "        display: none;\n",
              "        fill: #1967D2;\n",
              "        height: 32px;\n",
              "        padding: 0 0 0 0;\n",
              "        width: 32px;\n",
              "      }\n",
              "\n",
              "      .colab-df-generate:hover {\n",
              "        background-color: #E2EBFA;\n",
              "        box-shadow: 0px 1px 2px rgba(60, 64, 67, 0.3), 0px 1px 3px 1px rgba(60, 64, 67, 0.15);\n",
              "        fill: #174EA6;\n",
              "      }\n",
              "\n",
              "      [theme=dark] .colab-df-generate {\n",
              "        background-color: #3B4455;\n",
              "        fill: #D2E3FC;\n",
              "      }\n",
              "\n",
              "      [theme=dark] .colab-df-generate:hover {\n",
              "        background-color: #434B5C;\n",
              "        box-shadow: 0px 1px 3px 1px rgba(0, 0, 0, 0.15);\n",
              "        filter: drop-shadow(0px 1px 2px rgba(0, 0, 0, 0.3));\n",
              "        fill: #FFFFFF;\n",
              "      }\n",
              "    </style>\n",
              "    <button class=\"colab-df-generate\" onclick=\"generateWithVariable('final_df')\"\n",
              "            title=\"Generate code using this dataframe.\"\n",
              "            style=\"display:none;\">\n",
              "\n",
              "  <svg xmlns=\"http://www.w3.org/2000/svg\" height=\"24px\"viewBox=\"0 0 24 24\"\n",
              "       width=\"24px\">\n",
              "    <path d=\"M7,19H8.4L18.45,9,17,7.55,7,17.6ZM5,21V16.75L18.45,3.32a2,2,0,0,1,2.83,0l1.4,1.43a1.91,1.91,0,0,1,.58,1.4,1.91,1.91,0,0,1-.58,1.4L9.25,21ZM18.45,9,17,7.55Zm-12,3A5.31,5.31,0,0,0,4.9,8.1,5.31,5.31,0,0,0,1,6.5,5.31,5.31,0,0,0,4.9,4.9,5.31,5.31,0,0,0,6.5,1,5.31,5.31,0,0,0,8.1,4.9,5.31,5.31,0,0,0,12,6.5,5.46,5.46,0,0,0,6.5,12Z\"/>\n",
              "  </svg>\n",
              "    </button>\n",
              "    <script>\n",
              "      (() => {\n",
              "      const buttonEl =\n",
              "        document.querySelector('#id_34f91432-b934-40b9-be41-c62db6b3c279 button.colab-df-generate');\n",
              "      buttonEl.style.display =\n",
              "        google.colab.kernel.accessAllowed ? 'block' : 'none';\n",
              "\n",
              "      buttonEl.onclick = () => {\n",
              "        google.colab.notebook.generateWithVariable('final_df');\n",
              "      }\n",
              "      })();\n",
              "    </script>\n",
              "  </div>\n",
              "\n",
              "    </div>\n",
              "  </div>\n"
            ],
            "application/vnd.google.colaboratory.intrinsic+json": {
              "type": "dataframe",
              "variable_name": "final_df",
              "summary": "{\n  \"name\": \"final_df\",\n  \"rows\": 6,\n  \"fields\": [\n    {\n      \"column\": \"Model\",\n      \"properties\": {\n        \"dtype\": \"string\",\n        \"num_unique_values\": 6,\n        \"samples\": [\n          \"AdaBoost (BoW)\",\n          \"AdaBoost (TF-IDF)\",\n          \"AdaBoost (BoW + Oversample)\"\n        ],\n        \"semantic_type\": \"\",\n        \"description\": \"\"\n      }\n    },\n    {\n      \"column\": \"Train Accuracy\",\n      \"properties\": {\n        \"dtype\": \"number\",\n        \"std\": 0.1411760130711541,\n        \"min\": 0.581,\n        \"max\": 0.964,\n        \"num_unique_values\": 5,\n        \"samples\": [\n          0.964,\n          0.581,\n          0.922\n        ],\n        \"semantic_type\": \"\",\n        \"description\": \"\"\n      }\n    },\n    {\n      \"column\": \"Test Accuracy\",\n      \"properties\": {\n        \"dtype\": \"number\",\n        \"std\": 0.10809887449306152,\n        \"min\": 0.452,\n        \"max\": 0.738,\n        \"num_unique_values\": 4,\n        \"samples\": [\n          0.619,\n          0.452,\n          0.738\n        ],\n        \"semantic_type\": \"\",\n        \"description\": \"\"\n      }\n    },\n    {\n      \"column\": \"Test Macro-F1\",\n      \"properties\": {\n        \"dtype\": \"number\",\n        \"std\": 0.04539787072833556,\n        \"min\": 0.158,\n        \"max\": 0.254,\n        \"num_unique_values\": 5,\n        \"samples\": [\n          0.158,\n          0.253,\n          0.236\n        ],\n        \"semantic_type\": \"\",\n        \"description\": \"\"\n      }\n    }\n  ]\n}"
            }
          },
          "metadata": {}
        }
      ]
    },
    {
      "cell_type": "markdown",
      "source": [
        "- Based on Accuracy, AdaBoost (BoW / TF-IDF base) seems better (0.738) along with AdaBoost (BoW)"
      ],
      "metadata": {
        "id": "0G6bjKzFC_NZ"
      }
    },
    {
      "cell_type": "markdown",
      "source": [
        "### SVM Model Starts"
      ],
      "metadata": {
        "id": "FfpNu8u-RRxf"
      }
    },
    {
      "cell_type": "code",
      "source": [
        "from sklearn.svm import SVC\n",
        "from imblearn.pipeline import Pipeline as ImbPipeline\n",
        "\n",
        "# Define SVM model\n",
        "svm = SVC(kernel='poly', degree=3, random_state=RANDOM_STATE) # Added random_state for reproducibility\n",
        "\n",
        "# Pipelines for SVM\n",
        "svm_bow_plain = ImbPipeline([\n",
        "    (\"bow\", bow_vectorizer),\n",
        "    (\"clf\", svm)\n",
        "])\n",
        "\n",
        "svm_tfidf_plain = ImbPipeline([\n",
        "    (\"tfidf\", tfidf_vectorizer),\n",
        "    (\"clf\", svm)\n",
        "])\n",
        "\n",
        "svm_bow_overs = ImbPipeline([\n",
        "    (\"bow\", bow_vectorizer),\n",
        "    (\"oversample\", sampler),\n",
        "    (\"clf\", svm)\n",
        "])\n",
        "\n",
        "svm_tfidf_overs = ImbPipeline([\n",
        "    (\"tfidf\", tfidf_vectorizer),\n",
        "    (\"oversample\", sampler),\n",
        "    (\"clf\", svm)\n",
        "])"
      ],
      "metadata": {
        "id": "zNPSsXguT8ve"
      },
      "execution_count": null,
      "outputs": []
    },
    {
      "cell_type": "code",
      "source": [
        "# Evaluate AdaBoost BoW without over sampling\n",
        "evaluate_and_log(svm_bow_plain,  X_train, y_train, X_test, y_test, \"SVM (BoW)\", RESULTS)"
      ],
      "metadata": {
        "colab": {
          "base_uri": "https://localhost:8080/",
          "height": 784
        },
        "outputId": "024a4aca-e523-40b0-a8b1-8221347c6401",
        "id": "HEbVt7V3UKrY"
      },
      "execution_count": null,
      "outputs": [
        {
          "output_type": "stream",
          "name": "stdout",
          "text": [
            "\n",
            "SVM (BoW) Results\n",
            "Train Accuracy: 0.850\n",
            "Test  Accuracy: 0.738\n",
            "Test  Macro-F1: 0.170\n",
            "\n",
            "              precision    recall  f1-score   support\n",
            "\n",
            "           I      0.738     1.000     0.849        62\n",
            "          II      0.000     0.000     0.000         8\n",
            "         III      0.000     0.000     0.000         6\n",
            "          IV      0.000     0.000     0.000         6\n",
            "           V      0.000     0.000     0.000         2\n",
            "\n",
            "    accuracy                          0.738        84\n",
            "   macro avg      0.148     0.200     0.170        84\n",
            "weighted avg      0.545     0.738     0.627        84\n",
            "\n"
          ]
        },
        {
          "output_type": "display_data",
          "data": {
            "text/plain": [
              "<Figure size 640x480 with 2 Axes>"
            ],
            "image/png": "[encoded data removed]"
          },
          "metadata": {}
        }
      ]
    },
    {
      "cell_type": "code",
      "source": [],
      "metadata": {
        "id": "vgLYThWiWZ0S"
      },
      "execution_count": null,
      "outputs": []
    },
    {
      "cell_type": "code",
      "metadata": {
        "colab": {
          "base_uri": "https://localhost:8080/",
          "height": 784
        },
        "id": "yERnooNOWaUh",
        "outputId": "bd26cbbd-1c07-4ce1-c614-e8438475e2c3"
      },
      "source": [
        "# Evaluate AdaBoost TFIDF without over sampling\n",
        "evaluate_and_log(svm_tfidf_plain,X_train, y_train, X_test, y_test, \"SVM (TF-IDF)\", RESULTS)"
      ],
      "execution_count": null,
      "outputs": [
        {
          "output_type": "stream",
          "name": "stdout",
          "text": [
            "\n",
            "SVM (TF-IDF) Results\n",
            "Train Accuracy: 0.991\n",
            "Test  Accuracy: 0.738\n",
            "Test  Macro-F1: 0.171\n",
            "\n",
            "              precision    recall  f1-score   support\n",
            "\n",
            "           I      0.747     1.000     0.855        62\n",
            "          II      0.000     0.000     0.000         8\n",
            "         III      0.000     0.000     0.000         6\n",
            "          IV      0.000     0.000     0.000         6\n",
            "           V      0.000     0.000     0.000         2\n",
            "\n",
            "    accuracy                          0.738        84\n",
            "   macro avg      0.149     0.200     0.171        84\n",
            "weighted avg      0.551     0.738     0.631        84\n",
            "\n"
          ]
        },
        {
          "output_type": "display_data",
          "data": {
            "text/plain": [
              "<Figure size 640x480 with 2 Axes>"
            ],
            "image/png": "[encoded data removed]"
          },
          "metadata": {}
        }
      ]
    },
    {
      "cell_type": "code",
      "source": [
        "# Evaluate AdaBoost BoW with over sampling\n",
        "evaluate_and_log(svm_bow_overs,  X_train, y_train, X_test, y_test, \"SVM (BoW + Oversample)\", RESULTS)"
      ],
      "metadata": {
        "colab": {
          "base_uri": "https://localhost:8080/",
          "height": 784
        },
        "id": "8EJgFth5Whas",
        "outputId": "cbbe2b80-2bbc-44fb-beb7-7d744bc85ec8"
      },
      "execution_count": null,
      "outputs": [
        {
          "output_type": "stream",
          "name": "stdout",
          "text": [
            "\n",
            "SVM (BoW + Oversample) Results\n",
            "Train Accuracy: 0.958\n",
            "Test  Accuracy: 0.738\n",
            "Test  Macro-F1: 0.170\n",
            "\n",
            "              precision    recall  f1-score   support\n",
            "\n",
            "           I      0.738     1.000     0.849        62\n",
            "          II      0.000     0.000     0.000         8\n",
            "         III      0.000     0.000     0.000         6\n",
            "          IV      0.000     0.000     0.000         6\n",
            "           V      0.000     0.000     0.000         2\n",
            "\n",
            "    accuracy                          0.738        84\n",
            "   macro avg      0.148     0.200     0.170        84\n",
            "weighted avg      0.545     0.738     0.627        84\n",
            "\n"
          ]
        },
        {
          "output_type": "display_data",
          "data": {
            "text/plain": [
              "<Figure size 640x480 with 2 Axes>"
            ],
            "image/png": "[encoded data removed]"
          },
          "metadata": {}
        }
      ]
    },
    {
      "cell_type": "code",
      "source": [
        "# Evaluate AdaBoost TFIDF with over sampling\n",
        "evaluate_and_log(svm_tfidf_overs,X_train, y_train, X_test, y_test, \"SVM (TF-IDF + Oversample)\", RESULTS)"
      ],
      "metadata": {
        "colab": {
          "base_uri": "https://localhost:8080/",
          "height": 784
        },
        "id": "kMZrSgz8Wl0h",
        "outputId": "a9755b0e-b51f-4724-b941-60807a9850d2"
      },
      "execution_count": null,
      "outputs": [
        {
          "output_type": "stream",
          "name": "stdout",
          "text": [
            "\n",
            "SVM (TF-IDF + Oversample) Results\n",
            "Train Accuracy: 0.991\n",
            "Test  Accuracy: 0.738\n",
            "Test  Macro-F1: 0.171\n",
            "\n",
            "              precision    recall  f1-score   support\n",
            "\n",
            "           I      0.747     1.000     0.855        62\n",
            "          II      0.000     0.000     0.000         8\n",
            "         III      0.000     0.000     0.000         6\n",
            "          IV      0.000     0.000     0.000         6\n",
            "           V      0.000     0.000     0.000         2\n",
            "\n",
            "    accuracy                          0.738        84\n",
            "   macro avg      0.149     0.200     0.171        84\n",
            "weighted avg      0.551     0.738     0.631        84\n",
            "\n"
          ]
        },
        {
          "output_type": "display_data",
          "data": {
            "text/plain": [
              "<Figure size 640x480 with 2 Axes>"
            ],
            "image/png": "[encoded data removed]"
          },
          "metadata": {}
        }
      ]
    },
    {
      "cell_type": "code",
      "source": [],
      "metadata": {
        "id": "4PFqjP6NiArD"
      },
      "execution_count": null,
      "outputs": []
    },
    {
      "cell_type": "code",
      "source": [
        "from sklearn.svm import SVC\n",
        "from imblearn.pipeline import Pipeline as ImbPipeline\n",
        "\n",
        "# Define SVM model\n",
        "svm_gamma = SVC(kernel='poly', degree=3, gamma=0.3,C=0.1, random_state=RANDOM_STATE) # Added random_state for reproducibility\n",
        "\n",
        "# Pipelines for SVM\n",
        "svm_bow_plain_gamma = ImbPipeline([\n",
        "    (\"bow\", bow_vectorizer),\n",
        "    (\"clf\", svm_gamma)\n",
        "])\n",
        "\n",
        "svm_tfidf_plain_gamma = ImbPipeline([\n",
        "    (\"tfidf\", tfidf_vectorizer),\n",
        "    (\"clf\", svm_gamma)\n",
        "])\n",
        "\n",
        "svm_bow_overs_gamma = ImbPipeline([\n",
        "    (\"bow\", bow_vectorizer),\n",
        "    (\"oversample\", sampler),\n",
        "    (\"clf\", svm_gamma)\n",
        "])\n",
        "\n",
        "svm_tfidf_overs_gamma = ImbPipeline([\n",
        "    (\"tfidf\", tfidf_vectorizer),\n",
        "    (\"oversample\", sampler),\n",
        "    (\"clf\", svm_gamma)\n",
        "])"
      ],
      "metadata": {
        "id": "gouWyefbiUIo"
      },
      "execution_count": null,
      "outputs": []
    },
    {
      "cell_type": "code",
      "source": [
        "# Evaluate AdaBoost BoW without over sampling\n",
        "evaluate_and_log(svm_bow_plain_gamma,  X_train, y_train, X_test, y_test, \"SVM GAMMA (BoW)\", RESULTS)"
      ],
      "metadata": {
        "colab": {
          "base_uri": "https://localhost:8080/",
          "height": 784
        },
        "id": "t7WgUqYNiUIp",
        "outputId": "7414d842-e950-41ef-f72f-7561144e4e84"
      },
      "execution_count": null,
      "outputs": [
        {
          "output_type": "stream",
          "name": "stdout",
          "text": [
            "\n",
            "SVM GAMMA (BoW) Results\n",
            "Train Accuracy: 0.994\n",
            "Test  Accuracy: 0.738\n",
            "Test  Macro-F1: 0.171\n",
            "\n",
            "              precision    recall  f1-score   support\n",
            "\n",
            "           I      0.747     1.000     0.855        62\n",
            "          II      0.000     0.000     0.000         8\n",
            "         III      0.000     0.000     0.000         6\n",
            "          IV      0.000     0.000     0.000         6\n",
            "           V      0.000     0.000     0.000         2\n",
            "\n",
            "    accuracy                          0.738        84\n",
            "   macro avg      0.149     0.200     0.171        84\n",
            "weighted avg      0.551     0.738     0.631        84\n",
            "\n"
          ]
        },
        {
          "output_type": "display_data",
          "data": {
            "text/plain": [
              "<Figure size 640x480 with 2 Axes>"
            ],
            "image/png": "[encoded data removed]"
          },
          "metadata": {}
        }
      ]
    },
    {
      "cell_type": "code",
      "metadata": {
        "colab": {
          "base_uri": "https://localhost:8080/",
          "height": 784
        },
        "id": "KwnjW_L1iUIp",
        "outputId": "b5bd672f-6ca2-49fa-f90f-16f11c08f5ab"
      },
      "source": [
        "# Evaluate AdaBoost TFIDF without over sampling\n",
        "evaluate_and_log(svm_tfidf_plain_gamma,X_train, y_train, X_test, y_test, \"SVM GAMMA (TF-IDF)\", RESULTS)"
      ],
      "execution_count": null,
      "outputs": [
        {
          "output_type": "stream",
          "name": "stdout",
          "text": [
            "\n",
            "SVM GAMMA (TF-IDF) Results\n",
            "Train Accuracy: 0.740\n",
            "Test  Accuracy: 0.738\n",
            "Test  Macro-F1: 0.170\n",
            "\n",
            "              precision    recall  f1-score   support\n",
            "\n",
            "           I      0.738     1.000     0.849        62\n",
            "          II      0.000     0.000     0.000         8\n",
            "         III      0.000     0.000     0.000         6\n",
            "          IV      0.000     0.000     0.000         6\n",
            "           V      0.000     0.000     0.000         2\n",
            "\n",
            "    accuracy                          0.738        84\n",
            "   macro avg      0.148     0.200     0.170        84\n",
            "weighted avg      0.545     0.738     0.627        84\n",
            "\n"
          ]
        },
        {
          "output_type": "display_data",
          "data": {
            "text/plain": [
              "<Figure size 640x480 with 2 Axes>"
            ],
            "image/png": "[encoded data removed]"
          },
          "metadata": {}
        }
      ]
    },
    {
      "cell_type": "code",
      "source": [
        "# Evaluate AdaBoost BoW with over sampling\n",
        "evaluate_and_log(svm_bow_overs_gamma,  X_train, y_train, X_test, y_test, \"SVM GAMMA (BoW + Oversample)\", RESULTS)"
      ],
      "metadata": {
        "colab": {
          "base_uri": "https://localhost:8080/",
          "height": 784
        },
        "id": "TfMPDThkiUIp",
        "outputId": "fcd58dfc-46c1-45cb-8672-e51503568ec9"
      },
      "execution_count": null,
      "outputs": [
        {
          "output_type": "stream",
          "name": "stdout",
          "text": [
            "\n",
            "SVM GAMMA (BoW + Oversample) Results\n",
            "Train Accuracy: 0.994\n",
            "Test  Accuracy: 0.738\n",
            "Test  Macro-F1: 0.171\n",
            "\n",
            "              precision    recall  f1-score   support\n",
            "\n",
            "           I      0.747     1.000     0.855        62\n",
            "          II      0.000     0.000     0.000         8\n",
            "         III      0.000     0.000     0.000         6\n",
            "          IV      0.000     0.000     0.000         6\n",
            "           V      0.000     0.000     0.000         2\n",
            "\n",
            "    accuracy                          0.738        84\n",
            "   macro avg      0.149     0.200     0.171        84\n",
            "weighted avg      0.551     0.738     0.631        84\n",
            "\n"
          ]
        },
        {
          "output_type": "display_data",
          "data": {
            "text/plain": [
              "<Figure size 640x480 with 2 Axes>"
            ],
            "image/png": "[encoded data removed]"
          },
          "metadata": {}
        }
      ]
    },
    {
      "cell_type": "code",
      "source": [
        "# Evaluate AdaBoost TFIDF with over sampling\n",
        "evaluate_and_log(svm_tfidf_overs_gamma,X_train, y_train, X_test, y_test, \"SVM (TF-IDF + Oversample)\", RESULTS)"
      ],
      "metadata": {
        "colab": {
          "base_uri": "https://localhost:8080/",
          "height": 784
        },
        "id": "-BTk3iQBiUIp",
        "outputId": "acc32657-b0a4-4720-868d-afbb433c4250"
      },
      "execution_count": null,
      "outputs": [
        {
          "output_type": "stream",
          "name": "stdout",
          "text": [
            "\n",
            "SVM (TF-IDF + Oversample) Results\n",
            "Train Accuracy: 0.958\n",
            "Test  Accuracy: 0.738\n",
            "Test  Macro-F1: 0.171\n",
            "\n",
            "              precision    recall  f1-score   support\n",
            "\n",
            "           I      0.747     1.000     0.855        62\n",
            "          II      0.000     0.000     0.000         8\n",
            "         III      0.000     0.000     0.000         6\n",
            "          IV      0.000     0.000     0.000         6\n",
            "           V      0.000     0.000     0.000         2\n",
            "\n",
            "    accuracy                          0.738        84\n",
            "   macro avg      0.149     0.200     0.171        84\n",
            "weighted avg      0.551     0.738     0.631        84\n",
            "\n"
          ]
        },
        {
          "output_type": "display_data",
          "data": {
            "text/plain": [
              "<Figure size 640x480 with 2 Axes>"
            ],
            "image/png": "[encoded data removed]"
          },
          "metadata": {}
        }
      ]
    },
    {
      "cell_type": "code",
      "source": [
        "# Compare Results\n",
        "pd.DataFrame(RESULTS).sort_values(\"Test Accuracy\", ascending=False)"
      ],
      "metadata": {
        "colab": {
          "base_uri": "https://localhost:8080/",
          "height": 488
        },
        "id": "h5L7v3TVWtGm",
        "outputId": "b969b410-03fe-4353-a037-90e7a922634c"
      },
      "execution_count": null,
      "outputs": [
        {
          "output_type": "execute_result",
          "data": {
            "text/plain": [
              "                             Model  Train Accuracy  Test Accuracy  \\\n",
              "0                   AdaBoost (BoW)           0.746          0.738   \n",
              "1                AdaBoost (TF-IDF)           0.746          0.738   \n",
              "9        SVM (TF-IDF + Oversample)           0.991          0.738   \n",
              "8           SVM (BoW + Oversample)           0.958          0.738   \n",
              "7                     SVM (TF-IDF)           0.991          0.738   \n",
              "6                        SVM (BoW)           0.850          0.738   \n",
              "10                 SVM GAMMA (BoW)           0.994          0.738   \n",
              "11              SVM GAMMA (TF-IDF)           0.740          0.738   \n",
              "12    SVM GAMMA (BoW + Oversample)           0.994          0.738   \n",
              "13       SVM (TF-IDF + Oversample)           0.958          0.738   \n",
              "4           AdaBoost (BoW + TUNED)           0.922          0.619   \n",
              "5        AdaBoost (TF-IDF + TUNED)           0.964          0.619   \n",
              "3   AdaBoost (TF-IDF + Oversample)           0.719          0.571   \n",
              "2      AdaBoost (BoW + Oversample)           0.581          0.452   \n",
              "\n",
              "    Test Macro-F1  \n",
              "0           0.170  \n",
              "1           0.170  \n",
              "9           0.171  \n",
              "8           0.170  \n",
              "7           0.171  \n",
              "6           0.170  \n",
              "10          0.171  \n",
              "11          0.170  \n",
              "12          0.171  \n",
              "13          0.171  \n",
              "4           0.236  \n",
              "5           0.158  \n",
              "3           0.254  \n",
              "2           0.253  "
            ],
            "text/html": [
              "\n",
              "  <div id=\"df-36b4c302-ba20-4128-bd67-561b64fd8514\" class=\"colab-df-container\">\n",
              "    <div>\n",
              "<style scoped>\n",
              "    .dataframe tbody tr th:only-of-type {\n",
              "        vertical-align: middle;\n",
              "    }\n",
              "\n",
              "    .dataframe tbody tr th {\n",
              "        vertical-align: top;\n",
              "    }\n",
              "\n",
              "    .dataframe thead th {\n",
              "        text-align: right;\n",
              "    }\n",
              "</style>\n",
              "<table border=\"1\" class=\"dataframe\">\n",
              "  <thead>\n",
              "    <tr style=\"text-align: right;\">\n",
              "      <th></th>\n",
              "      <th>Model</th>\n",
              "      <th>Train Accuracy</th>\n",
              "      <th>Test Accuracy</th>\n",
              "      <th>Test Macro-F1</th>\n",
              "    </tr>\n",
              "  </thead>\n",
              "  <tbody>\n",
              "    <tr>\n",
              "      <th>0</th>\n",
              "      <td>AdaBoost (BoW)</td>\n",
              "      <td>0.746</td>\n",
              "      <td>0.738</td>\n",
              "      <td>0.170</td>\n",
              "    </tr>\n",
              "    <tr>\n",
              "      <th>1</th>\n",
              "      <td>AdaBoost (TF-IDF)</td>\n",
              "      <td>0.746</td>\n",
              "      <td>0.738</td>\n",
              "      <td>0.170</td>\n",
              "    </tr>\n",
              "    <tr>\n",
              "      <th>9</th>\n",
              "      <td>SVM (TF-IDF + Oversample)</td>\n",
              "      <td>0.991</td>\n",
              "      <td>0.738</td>\n",
              "      <td>0.171</td>\n",
              "    </tr>\n",
              "    <tr>\n",
              "      <th>8</th>\n",
              "      <td>SVM (BoW + Oversample)</td>\n",
              "      <td>0.958</td>\n",
              "      <td>0.738</td>\n",
              "      <td>0.170</td>\n",
              "    </tr>\n",
              "    <tr>\n",
              "      <th>7</th>\n",
              "      <td>SVM (TF-IDF)</td>\n",
              "      <td>0.991</td>\n",
              "      <td>0.738</td>\n",
              "      <td>0.171</td>\n",
              "    </tr>\n",
              "    <tr>\n",
              "      <th>6</th>\n",
              "      <td>SVM (BoW)</td>\n",
              "      <td>0.850</td>\n",
              "      <td>0.738</td>\n",
              "      <td>0.170</td>\n",
              "    </tr>\n",
              "    <tr>\n",
              "      <th>10</th>\n",
              "      <td>SVM GAMMA (BoW)</td>\n",
              "      <td>0.994</td>\n",
              "      <td>0.738</td>\n",
              "      <td>0.171</td>\n",
              "    </tr>\n",
              "    <tr>\n",
              "      <th>11</th>\n",
              "      <td>SVM GAMMA (TF-IDF)</td>\n",
              "      <td>0.740</td>\n",
              "      <td>0.738</td>\n",
              "      <td>0.170</td>\n",
              "    </tr>\n",
              "    <tr>\n",
              "      <th>12</th>\n",
              "      <td>SVM GAMMA (BoW + Oversample)</td>\n",
              "      <td>0.994</td>\n",
              "      <td>0.738</td>\n",
              "      <td>0.171</td>\n",
              "    </tr>\n",
              "    <tr>\n",
              "      <th>13</th>\n",
              "      <td>SVM (TF-IDF + Oversample)</td>\n",
              "      <td>0.958</td>\n",
              "      <td>0.738</td>\n",
              "      <td>0.171</td>\n",
              "    </tr>\n",
              "    <tr>\n",
              "      <th>4</th>\n",
              "      <td>AdaBoost (BoW + TUNED)</td>\n",
              "      <td>0.922</td>\n",
              "      <td>0.619</td>\n",
              "      <td>0.236</td>\n",
              "    </tr>\n",
              "    <tr>\n",
              "      <th>5</th>\n",
              "      <td>AdaBoost (TF-IDF + TUNED)</td>\n",
              "      <td>0.964</td>\n",
              "      <td>0.619</td>\n",
              "      <td>0.158</td>\n",
              "    </tr>\n",
              "    <tr>\n",
              "      <th>3</th>\n",
              "      <td>AdaBoost (TF-IDF + Oversample)</td>\n",
              "      <td>0.719</td>\n",
              "      <td>0.571</td>\n",
              "      <td>0.254</td>\n",
              "    </tr>\n",
              "    <tr>\n",
              "      <th>2</th>\n",
              "      <td>AdaBoost (BoW + Oversample)</td>\n",
              "      <td>0.581</td>\n",
              "      <td>0.452</td>\n",
              "      <td>0.253</td>\n",
              "    </tr>\n",
              "  </tbody>\n",
              "</table>\n",
              "</div>\n",
              "    <div class=\"colab-df-buttons\">\n",
              "\n",
              "  <div class=\"colab-df-container\">\n",
              "    <button class=\"colab-df-convert\" onclick=\"convertToInteractive('df-36b4c302-ba20-4128-bd67-561b64fd8514')\"\n",
              "            title=\"Convert this dataframe to an interactive table.\"\n",
              "            style=\"display:none;\">\n",
              "\n",
              "  <svg xmlns=\"http://www.w3.org/2000/svg\" height=\"24px\" viewBox=\"0 -960 960 960\">\n",
              "    <path d=\"M120-120v-720h720v720H120Zm60-500h600v-160H180v160Zm220 220h160v-160H400v160Zm0 220h160v-160H400v160ZM180-400h160v-160H180v160Zm440 0h160v-160H620v160ZM180-180h160v-160H180v160Zm440 0h160v-160H620v160Z\"/>\n",
              "  </svg>\n",
              "    </button>\n",
              "\n",
              "  <style>\n",
              "    .colab-df-container {\n",
              "      display:flex;\n",
              "      gap: 12px;\n",
              "    }\n",
              "\n",
              "    .colab-df-convert {\n",
              "      background-color: #E8F0FE;\n",
              "      border: none;\n",
              "      border-radius: 50%;\n",
              "      cursor: pointer;\n",
              "      display: none;\n",
              "      fill: #1967D2;\n",
              "      height: 32px;\n",
              "      padding: 0 0 0 0;\n",
              "      width: 32px;\n",
              "    }\n",
              "\n",
              "    .colab-df-convert:hover {\n",
              "      background-color: #E2EBFA;\n",
              "      box-shadow: 0px 1px 2px rgba(60, 64, 67, 0.3), 0px 1px 3px 1px rgba(60, 64, 67, 0.15);\n",
              "      fill: #174EA6;\n",
              "    }\n",
              "\n",
              "    .colab-df-buttons div {\n",
              "      margin-bottom: 4px;\n",
              "    }\n",
              "\n",
              "    [theme=dark] .colab-df-convert {\n",
              "      background-color: #3B4455;\n",
              "      fill: #D2E3FC;\n",
              "    }\n",
              "\n",
              "    [theme=dark] .colab-df-convert:hover {\n",
              "      background-color: #434B5C;\n",
              "      box-shadow: 0px 1px 3px 1px rgba(0, 0, 0, 0.15);\n",
              "      filter: drop-shadow(0px 1px 2px rgba(0, 0, 0, 0.3));\n",
              "      fill: #FFFFFF;\n",
              "    }\n",
              "  </style>\n",
              "\n",
              "    <script>\n",
              "      const buttonEl =\n",
              "        document.querySelector('#df-36b4c302-ba20-4128-bd67-561b64fd8514 button.colab-df-convert');\n",
              "      buttonEl.style.display =\n",
              "        google.colab.kernel.accessAllowed ? 'block' : 'none';\n",
              "\n",
              "      async function convertToInteractive(key) {\n",
              "        const element = document.querySelector('#df-36b4c302-ba20-4128-bd67-561b64fd8514');\n",
              "        const dataTable =\n",
              "          await google.colab.kernel.invokeFunction('convertToInteractive',\n",
              "                                                    [key], {});\n",
              "        if (!dataTable) return;\n",
              "\n",
              "        const docLinkHtml = 'Like what you see? Visit the ' +\n",
              "          '<a target=\"_blank\" href=https://colab.research.google.com/notebooks/data_table.ipynb>data table notebook</a>'\n",
              "          + ' to learn more about interactive tables.';\n",
              "        element.innerHTML = '';\n",
              "        dataTable['output_type'] = 'display_data';\n",
              "        await google.colab.output.renderOutput(dataTable, element);\n",
              "        const docLink = document.createElement('div');\n",
              "        docLink.innerHTML = docLinkHtml;\n",
              "        element.appendChild(docLink);\n",
              "      }\n",
              "    </script>\n",
              "  </div>\n",
              "\n",
              "\n",
              "    <div id=\"df-44fa7beb-ae6c-4010-82f1-9b1e399f2b28\">\n",
              "      <button class=\"colab-df-quickchart\" onclick=\"quickchart('df-44fa7beb-ae6c-4010-82f1-9b1e399f2b28')\"\n",
              "                title=\"Suggest charts\"\n",
              "                style=\"display:none;\">\n",
              "\n",
              "<svg xmlns=\"http://www.w3.org/2000/svg\" height=\"24px\"viewBox=\"0 0 24 24\"\n",
              "     width=\"24px\">\n",
              "    <g>\n",
              "        <path d=\"M19 3H5c-1.1 0-2 .9-2 2v14c0 1.1.9 2 2 2h14c1.1 0 2-.9 2-2V5c0-1.1-.9-2-2-2zM9 17H7v-7h2v7zm4 0h-2V7h2v10zm4 0h-2v-4h2v4z\"/>\n",
              "    </g>\n",
              "</svg>\n",
              "      </button>\n",
              "\n",
              "<style>\n",
              "  .colab-df-quickchart {\n",
              "      --bg-color: #E8F0FE;\n",
              "      --fill-color: #1967D2;\n",
              "      --hover-bg-color: #E2EBFA;\n",
              "      --hover-fill-color: #174EA6;\n",
              "      --disabled-fill-color: #AAA;\n",
              "      --disabled-bg-color: #DDD;\n",
              "  }\n",
              "\n",
              "  [theme=dark] .colab-df-quickchart {\n",
              "      --bg-color: #3B4455;\n",
              "      --fill-color: #D2E3FC;\n",
              "      --hover-bg-color: #434B5C;\n",
              "      --hover-fill-color: #FFFFFF;\n",
              "      --disabled-bg-color: #3B4455;\n",
              "      --disabled-fill-color: #666;\n",
              "  }\n",
              "\n",
              "  .colab-df-quickchart {\n",
              "    background-color: var(--bg-color);\n",
              "    border: none;\n",
              "    border-radius: 50%;\n",
              "    cursor: pointer;\n",
              "    display: none;\n",
              "    fill: var(--fill-color);\n",
              "    height: 32px;\n",
              "    padding: 0;\n",
              "    width: 32px;\n",
              "  }\n",
              "\n",
              "  .colab-df-quickchart:hover {\n",
              "    background-color: var(--hover-bg-color);\n",
              "    box-shadow: 0 1px 2px rgba(60, 64, 67, 0.3), 0 1px 3px 1px rgba(60, 64, 67, 0.15);\n",
              "    fill: var(--button-hover-fill-color);\n",
              "  }\n",
              "\n",
              "  .colab-df-quickchart-complete:disabled,\n",
              "  .colab-df-quickchart-complete:disabled:hover {\n",
              "    background-color: var(--disabled-bg-color);\n",
              "    fill: var(--disabled-fill-color);\n",
              "    box-shadow: none;\n",
              "  }\n",
              "\n",
              "  .colab-df-spinner {\n",
              "    border: 2px solid var(--fill-color);\n",
              "    border-color: transparent;\n",
              "    border-bottom-color: var(--fill-color);\n",
              "    animation:\n",
              "      spin 1s steps(1) infinite;\n",
              "  }\n",
              "\n",
              "  @keyframes spin {\n",
              "    0% {\n",
              "      border-color: transparent;\n",
              "      border-bottom-color: var(--fill-color);\n",
              "      border-left-color: var(--fill-color);\n",
              "    }\n",
              "    20% {\n",
              "      border-color: transparent;\n",
              "      border-left-color: var(--fill-color);\n",
              "      border-top-color: var(--fill-color);\n",
              "    }\n",
              "    30% {\n",
              "      border-color: transparent;\n",
              "      border-left-color: var(--fill-color);\n",
              "      border-top-color: var(--fill-color);\n",
              "      border-right-color: var(--fill-color);\n",
              "    }\n",
              "    40% {\n",
              "      border-color: transparent;\n",
              "      border-right-color: var(--fill-color);\n",
              "      border-top-color: var(--fill-color);\n",
              "    }\n",
              "    60% {\n",
              "      border-color: transparent;\n",
              "      border-right-color: var(--fill-color);\n",
              "    }\n",
              "    80% {\n",
              "      border-color: transparent;\n",
              "      border-right-color: var(--fill-color);\n",
              "      border-bottom-color: var(--fill-color);\n",
              "    }\n",
              "    90% {\n",
              "      border-color: transparent;\n",
              "      border-bottom-color: var(--fill-color);\n",
              "    }\n",
              "  }\n",
              "</style>\n",
              "\n",
              "      <script>\n",
              "        async function quickchart(key) {\n",
              "          const quickchartButtonEl =\n",
              "            document.querySelector('#' + key + ' button');\n",
              "          quickchartButtonEl.disabled = true;  // To prevent multiple clicks.\n",
              "          quickchartButtonEl.classList.add('colab-df-spinner');\n",
              "          try {\n",
              "            const charts = await google.colab.kernel.invokeFunction(\n",
              "                'suggestCharts', [key], {});\n",
              "          } catch (error) {\n",
              "            console.error('Error during call to suggestCharts:', error);\n",
              "          }\n",
              "          quickchartButtonEl.classList.remove('colab-df-spinner');\n",
              "          quickchartButtonEl.classList.add('colab-df-quickchart-complete');\n",
              "        }\n",
              "        (() => {\n",
              "          let quickchartButtonEl =\n",
              "            document.querySelector('#df-44fa7beb-ae6c-4010-82f1-9b1e399f2b28 button');\n",
              "          quickchartButtonEl.style.display =\n",
              "            google.colab.kernel.accessAllowed ? 'block' : 'none';\n",
              "        })();\n",
              "      </script>\n",
              "    </div>\n",
              "\n",
              "    </div>\n",
              "  </div>\n"
            ],
            "application/vnd.google.colaboratory.intrinsic+json": {
              "type": "dataframe",
              "summary": "{\n  \"name\": \"pd\",\n  \"rows\": 14,\n  \"fields\": [\n    {\n      \"column\": \"Model\",\n      \"properties\": {\n        \"dtype\": \"string\",\n        \"num_unique_values\": 13,\n        \"samples\": [\n          \"AdaBoost (TF-IDF + Oversample)\",\n          \"AdaBoost (BoW + TUNED)\",\n          \"AdaBoost (BoW)\"\n        ],\n        \"semantic_type\": \"\",\n        \"description\": \"\"\n      }\n    },\n    {\n      \"column\": \"Train Accuracy\",\n      \"properties\": {\n        \"dtype\": \"number\",\n        \"std\": 0.13626549715274852,\n        \"min\": 0.581,\n        \"max\": 0.994,\n        \"num_unique_values\": 10,\n        \"samples\": [\n          0.719,\n          0.991,\n          0.74\n        ],\n        \"semantic_type\": \"\",\n        \"description\": \"\"\n      }\n    },\n    {\n      \"column\": \"Test Accuracy\",\n      \"properties\": {\n        \"dtype\": \"number\",\n        \"std\": 0.08940022985933033,\n        \"min\": 0.452,\n        \"max\": 0.738,\n        \"num_unique_values\": 4,\n        \"samples\": [\n          0.619,\n          0.452,\n          0.738\n        ],\n        \"semantic_type\": \"\",\n        \"description\": \"\"\n      }\n    },\n    {\n      \"column\": \"Test Macro-F1\",\n      \"properties\": {\n        \"dtype\": \"number\",\n        \"std\": 0.033743049752406884,\n        \"min\": 0.158,\n        \"max\": 0.254,\n        \"num_unique_values\": 6,\n        \"samples\": [\n          0.17,\n          0.171,\n          0.253\n        ],\n        \"semantic_type\": \"\",\n        \"description\": \"\"\n      }\n    }\n  ]\n}"
            }
          },
          "metadata": {},
          "execution_count": 200
        }
      ]
    },
    {
      "cell_type": "markdown",
      "source": [],
      "metadata": {
        "id": "PGAzR4OCzU59"
      }
    },
    {
      "cell_type": "markdown",
      "source": [
        "### Random Forest"
      ],
      "metadata": {
        "id": "UJqnhPXqY9pR"
      }
    },
    {
      "cell_type": "code",
      "source": [
        "from sklearn.ensemble import RandomForestClassifier"
      ],
      "metadata": {
        "id": "fY4Ke88blSgn"
      },
      "execution_count": null,
      "outputs": []
    },
    {
      "cell_type": "markdown",
      "source": [
        "#### Base Model"
      ],
      "metadata": {
        "id": "iVgProucoKTo"
      }
    },
    {
      "cell_type": "markdown",
      "source": [
        "#### 1. Random Forest with Bag-of-Words (BoW) - No Oversampling"
      ],
      "metadata": {
        "id": "vDclfxj2ZChg"
      }
    },
    {
      "cell_type": "code",
      "source": [
        "# Random Forest with Bag-of-Words (BoW) - No Oversampling\n",
        "rf_bow_plain = ImbPipeline([\n",
        "  (\"bow\", bow_vectorizer),\n",
        "  (\"clf\", RandomForestClassifier(\n",
        "      n_estimators=100,\n",
        "      class_weight=\"balanced\",\n",
        "      random_state=RANDOM_STATE,\n",
        "      n_jobs=-1\n",
        "  ))\n",
        "])"
      ],
      "metadata": {
        "id": "eD-dkuGpa3ic"
      },
      "execution_count": null,
      "outputs": []
    },
    {
      "cell_type": "markdown",
      "source": [
        "#### 2. Random Forest with TF-IDF - No Oversampling"
      ],
      "metadata": {
        "id": "Go0RMTNwleWA"
      }
    },
    {
      "cell_type": "code",
      "source": [
        "# Random Forest with TF-IDF - No Oversampling\n",
        "rf_tfidf_plain = ImbPipeline([\n",
        "    (\"tfidf\", tfidf_vectorizer),\n",
        "    (\"clf\", RandomForestClassifier(\n",
        "        n_estimators=100,\n",
        "        class_weight=\"balanced\",\n",
        "        random_state=RANDOM_STATE,\n",
        "        n_jobs=-1\n",
        "    ))\n",
        "])"
      ],
      "metadata": {
        "id": "WT0I4pR9lp6o"
      },
      "execution_count": null,
      "outputs": []
    },
    {
      "cell_type": "markdown",
      "source": [
        "#### 3. Random Forest with BoW + Oversampling"
      ],
      "metadata": {
        "id": "k8eJMiBVltMQ"
      }
    },
    {
      "cell_type": "code",
      "source": [
        "# Random Forest with BoW + Oversampling\n",
        "rf_bow_overs = ImbPipeline([\n",
        "    (\"bow\", bow_vectorizer),\n",
        "    (\"oversample\", sampler),\n",
        "    (\"clf\", RandomForestClassifier(\n",
        "        n_estimators=100,\n",
        "        class_weight=\"balanced\",\n",
        "        random_state=RANDOM_STATE,\n",
        "        n_jobs=-1\n",
        "    ))\n",
        "])"
      ],
      "metadata": {
        "id": "VhKQxAXbmNDG"
      },
      "execution_count": null,
      "outputs": []
    },
    {
      "cell_type": "markdown",
      "source": [
        "#### 4. Random Forest with TF-IDF + Oversampling"
      ],
      "metadata": {
        "id": "q63udhM5ltW8"
      }
    },
    {
      "cell_type": "code",
      "source": [
        "# Random Forest with TF-IDF + Oversampling\n",
        "rf_tfidf_overs = ImbPipeline([\n",
        "    (\"tfidf\", tfidf_vectorizer),\n",
        "    (\"oversample\", sampler),\n",
        "    (\"clf\", RandomForestClassifier(\n",
        "        n_estimators=100,\n",
        "        class_weight=\"balanced\",\n",
        "        random_state=RANDOM_STATE,\n",
        "        n_jobs=-1\n",
        "    ))\n",
        "])"
      ],
      "metadata": {
        "id": "D0GTVxYrmR-q"
      },
      "execution_count": null,
      "outputs": []
    },
    {
      "cell_type": "markdown",
      "source": [
        "#### Base Model Evaluation"
      ],
      "metadata": {
        "id": "NtKo8YNboykM"
      }
    },
    {
      "cell_type": "code",
      "source": [
        "# Evaluate Random Forest with Bag-of-Words (BoW) - No Oversampling\n",
        "evaluate_and_log(rf_bow_plain, X_train, y_train, X_test, y_test, \"Random Forest (BoW)\", RESULTS)"
      ],
      "metadata": {
        "id": "dMHsCDAeo5vf",
        "outputId": "fac93519-240b-4aa6-92a4-a8f4dea1b21f",
        "colab": {
          "base_uri": "https://localhost:8080/",
          "height": 784
        }
      },
      "execution_count": null,
      "outputs": [
        {
          "output_type": "stream",
          "name": "stdout",
          "text": [
            "\n",
            "Random Forest (BoW) Results\n",
            "Train Accuracy: 0.994\n",
            "Test  Accuracy: 0.738\n",
            "Test  Macro-F1: 0.171\n",
            "\n",
            "              precision    recall  f1-score   support\n",
            "\n",
            "           I      0.747     1.000     0.855        62\n",
            "          II      0.000     0.000     0.000         8\n",
            "         III      0.000     0.000     0.000         6\n",
            "          IV      0.000     0.000     0.000         6\n",
            "           V      0.000     0.000     0.000         2\n",
            "\n",
            "    accuracy                          0.738        84\n",
            "   macro avg      0.149     0.200     0.171        84\n",
            "weighted avg      0.551     0.738     0.631        84\n",
            "\n"
          ]
        },
        {
          "output_type": "display_data",
          "data": {
            "text/plain": [
              "<Figure size 640x480 with 2 Axes>"
            ],
            "image/png": "[encoded data removed]"
          },
          "metadata": {}
        }
      ]
    },
    {
      "cell_type": "code",
      "source": [
        "# Evaluate Random Forest with TF-IDF - No Oversampling\n",
        "evaluate_and_log(rf_tfidf_plain, X_train, y_train, X_test, y_test, \"Random Forest (TF-IDF)\", RESULTS)"
      ],
      "metadata": {
        "id": "XOsVe9ngsw_W",
        "colab": {
          "base_uri": "https://localhost:8080/",
          "height": 784
        },
        "outputId": "e004983b-013f-426f-a448-b9a682f84ca6"
      },
      "execution_count": null,
      "outputs": [
        {
          "output_type": "stream",
          "name": "stdout",
          "text": [
            "\n",
            "Random Forest (TF-IDF) Results\n",
            "Train Accuracy: 0.994\n",
            "Test  Accuracy: 0.738\n",
            "Test  Macro-F1: 0.171\n",
            "\n",
            "              precision    recall  f1-score   support\n",
            "\n",
            "           I      0.747     1.000     0.855        62\n",
            "          II      0.000     0.000     0.000         8\n",
            "         III      0.000     0.000     0.000         6\n",
            "          IV      0.000     0.000     0.000         6\n",
            "           V      0.000     0.000     0.000         2\n",
            "\n",
            "    accuracy                          0.738        84\n",
            "   macro avg      0.149     0.200     0.171        84\n",
            "weighted avg      0.551     0.738     0.631        84\n",
            "\n"
          ]
        },
        {
          "output_type": "display_data",
          "data": {
            "text/plain": [
              "<Figure size 640x480 with 2 Axes>"
            ],
            "image/png": "[encoded data removed]"
          },
          "metadata": {}
        }
      ]
    },
    {
      "cell_type": "code",
      "source": [
        "# Evaluate Random Forest with BoW + Oversampling\n",
        "evaluate_and_log(rf_bow_overs, X_train, y_train, X_test, y_test, \"Random Forest (BoW + Oversample)\", RESULTS)"
      ],
      "metadata": {
        "id": "MSuXjjx5sxU6",
        "colab": {
          "base_uri": "https://localhost:8080/",
          "height": 784
        },
        "outputId": "83de493f-59bb-4cc0-e256-deebfb6fbf6d"
      },
      "execution_count": null,
      "outputs": [
        {
          "output_type": "stream",
          "name": "stdout",
          "text": [
            "\n",
            "Random Forest (BoW + Oversample) Results\n",
            "Train Accuracy: 0.994\n",
            "Test  Accuracy: 0.738\n",
            "Test  Macro-F1: 0.172\n",
            "\n",
            "              precision    recall  f1-score   support\n",
            "\n",
            "           I      0.756     1.000     0.861        62\n",
            "          II      0.000     0.000     0.000         8\n",
            "         III      0.000     0.000     0.000         6\n",
            "          IV      0.000     0.000     0.000         6\n",
            "           V      0.000     0.000     0.000         2\n",
            "\n",
            "    accuracy                          0.738        84\n",
            "   macro avg      0.151     0.200     0.172        84\n",
            "weighted avg      0.558     0.738     0.636        84\n",
            "\n"
          ]
        },
        {
          "output_type": "display_data",
          "data": {
            "text/plain": [
              "<Figure size 640x480 with 2 Axes>"
            ],
            "image/png": "[encoded data removed]"
          },
          "metadata": {}
        }
      ]
    },
    {
      "cell_type": "code",
      "source": [
        "# Evaluate Random Forest with TF-IDF + Oversampling\n",
        "evaluate_and_log(rf_tfidf_overs, X_train, y_train, X_test, y_test, \"Random Forest (TF-IDF + Oversample)\", RESULTS)"
      ],
      "metadata": {
        "id": "ciwzQaRHsxgz",
        "colab": {
          "base_uri": "https://localhost:8080/",
          "height": 784
        },
        "outputId": "fda2cb98-5593-4c42-8a18-d9a2350a3c79"
      },
      "execution_count": null,
      "outputs": [
        {
          "output_type": "stream",
          "name": "stdout",
          "text": [
            "\n",
            "Random Forest (TF-IDF + Oversample) Results\n",
            "Train Accuracy: 0.994\n",
            "Test  Accuracy: 0.726\n",
            "Test  Macro-F1: 0.169\n",
            "\n",
            "              precision    recall  f1-score   support\n",
            "\n",
            "           I      0.744     0.984     0.847        62\n",
            "          II      0.000     0.000     0.000         8\n",
            "         III      0.000     0.000     0.000         6\n",
            "          IV      0.000     0.000     0.000         6\n",
            "           V      0.000     0.000     0.000         2\n",
            "\n",
            "    accuracy                          0.726        84\n",
            "   macro avg      0.149     0.197     0.169        84\n",
            "weighted avg      0.549     0.726     0.625        84\n",
            "\n"
          ]
        },
        {
          "output_type": "display_data",
          "data": {
            "text/plain": [
              "<Figure size 640x480 with 2 Axes>"
            ],
            "image/png": "[encoded data removed]"
          },
          "metadata": {}
        }
      ]
    },
    {
      "cell_type": "markdown",
      "source": [
        "#### Hyperparameter Tuning"
      ],
      "metadata": {
        "id": "oSh0Nt4JpWN3"
      }
    },
    {
      "cell_type": "code",
      "source": [
        "# Utility method to build Random Forest pipeline\n",
        "def build_rf_pipeline(vectorizer):\n",
        "    return ImbPipeline([\n",
        "        (vectorizer.__class__.__name__.lower(), vectorizer),\n",
        "        (\"oversample\", sampler),\n",
        "        (\"clf\", RandomForestClassifier(\n",
        "            class_weight=\"balanced\",\n",
        "            random_state=RANDOM_STATE,\n",
        "            n_jobs=-1\n",
        "        ))\n",
        "    ])\n"
      ],
      "metadata": {
        "id": "ii6XaZUBqBP3"
      },
      "execution_count": null,
      "outputs": []
    },
    {
      "cell_type": "code",
      "source": [
        "# Hyper Parameters to be tuned\n",
        "rf_grid = {\n",
        "  \"clf__n_estimators\": [100, 200, 300],\n",
        "  \"clf__max_depth\": [None, 10, 20],\n",
        "  \"clf__min_samples_leaf\": [1, 2, 4],\n",
        "  \"clf__max_features\": [\"sqrt\", \"log2\"]\n",
        "}"
      ],
      "metadata": {
        "id": "V6rweIHrpZTw"
      },
      "execution_count": null,
      "outputs": []
    },
    {
      "cell_type": "markdown",
      "source": [
        "#### 1. Hyperparameter Tuning for Random Forest with BoW"
      ],
      "metadata": {
        "id": "XguMZ93Dq2U4"
      }
    },
    {
      "cell_type": "code",
      "source": [
        "# Build Random Forest pipeline with BoW vectorization\n",
        "pipe_rf_bow = build_rf_pipeline(bow_vectorizer)\n",
        "\n",
        "# Set up GridSearchCV for Random Forest with BoW\n",
        "grid_rf_bow = GridSearchCV(\n",
        "    estimator=pipe_rf_bow,\n",
        "    param_grid=rf_grid,\n",
        "    scoring=\"accuracy\",\n",
        "    cv=cv,\n",
        "    n_jobs=-1,\n",
        "    refit=True,\n",
        "    verbose=1,\n",
        "    error_score=\"raise\"\n",
        ")\n",
        "\n",
        "# Run the grid search on the training data\n",
        "grid_rf_bow.fit(X_train, y_train)\n",
        "\n",
        "print(\"Best BoW params:\", grid_rf_bow.best_params_, \"CV Macro-F1:\", round(grid_rf_bow.best_score_, 3))"
      ],
      "metadata": {
        "id": "d-QpYlY0q7Cf",
        "outputId": "c4f7edb4-ccd1-4ce7-c7a1-95bff239f928",
        "colab": {
          "base_uri": "https://localhost:8080/"
        }
      },
      "execution_count": null,
      "outputs": [
        {
          "output_type": "stream",
          "name": "stdout",
          "text": [
            "Fitting 5 folds for each of 54 candidates, totalling 270 fits\n",
            "Best BoW params: {'clf__max_depth': None, 'clf__max_features': 'sqrt', 'clf__min_samples_leaf': 1, 'clf__n_estimators': 200} CV Macro-F1: 0.731\n"
          ]
        }
      ]
    },
    {
      "cell_type": "markdown",
      "source": [
        "#### 2. Hyperparameter Tuning for Random Forest with TF-IDF"
      ],
      "metadata": {
        "id": "oKEHVn-TrWJG"
      }
    },
    {
      "cell_type": "code",
      "source": [
        "# Build Random Forest pipeline with TF-IDF vectorization\n",
        "pipe_rf_tfidf = build_rf_pipeline(tfidf_vectorizer)\n",
        "\n",
        "# Set up GridSearchCV for Random Forest with TF-IDF\n",
        "grid_rf_tfidf = GridSearchCV(\n",
        "    estimator=pipe_rf_tfidf,\n",
        "    param_grid=rf_grid,\n",
        "    scoring=\"accuracy\",\n",
        "    cv=cv,\n",
        "    n_jobs=-1,\n",
        "    refit=True,\n",
        "    verbose=1,\n",
        "    error_score=\"raise\"\n",
        ")\n",
        "\n",
        "\n",
        "# Run the grid search on the training data\n",
        "grid_rf_tfidf.fit(X_train, y_train)\n",
        "\n",
        "print(\"Best BoW params:\", grid_rf_tfidf.best_params_, \"CV Macro-F1:\", round(grid_rf_tfidf.best_score_, 3))"
      ],
      "metadata": {
        "id": "8bQgctf2rW8L",
        "colab": {
          "base_uri": "https://localhost:8080/"
        },
        "outputId": "1b5e7844-b0af-4471-8f85-6c81d7f8f740"
      },
      "execution_count": null,
      "outputs": [
        {
          "output_type": "stream",
          "name": "stdout",
          "text": [
            "Fitting 5 folds for each of 54 candidates, totalling 270 fits\n",
            "Best BoW params: {'clf__max_depth': None, 'clf__max_features': 'sqrt', 'clf__min_samples_leaf': 1, 'clf__n_estimators': 200} CV Macro-F1: 0.731\n"
          ]
        }
      ]
    },
    {
      "cell_type": "markdown",
      "source": [
        "#### Tuned Model Evaluation"
      ],
      "metadata": {
        "id": "Mw070rsLplL7"
      }
    },
    {
      "cell_type": "code",
      "source": [
        "#Evaluate Random Forest with BOW + Tuned\n",
        "evaluate_and_log(grid_rf_bow.best_estimator_,   X_train, y_train, X_test, y_test,\n",
        "                     \"Random Forest (BoW + TUNED)\", RESULTS)"
      ],
      "metadata": {
        "id": "_n7fEd8kpmK8",
        "colab": {
          "base_uri": "https://localhost:8080/",
          "height": 784
        },
        "outputId": "836a3c1c-5cf2-4656-c5bc-65ba964dfe96"
      },
      "execution_count": null,
      "outputs": [
        {
          "output_type": "stream",
          "name": "stdout",
          "text": [
            "\n",
            "Random Forest (BoW + TUNED) Results\n",
            "Train Accuracy: 0.994\n",
            "Test  Accuracy: 0.738\n",
            "Test  Macro-F1: 0.172\n",
            "\n",
            "              precision    recall  f1-score   support\n",
            "\n",
            "           I      0.756     1.000     0.861        62\n",
            "          II      0.000     0.000     0.000         8\n",
            "         III      0.000     0.000     0.000         6\n",
            "          IV      0.000     0.000     0.000         6\n",
            "           V      0.000     0.000     0.000         2\n",
            "\n",
            "    accuracy                          0.738        84\n",
            "   macro avg      0.151     0.200     0.172        84\n",
            "weighted avg      0.558     0.738     0.636        84\n",
            "\n"
          ]
        },
        {
          "output_type": "display_data",
          "data": {
            "text/plain": [
              "<Figure size 640x480 with 2 Axes>"
            ],
            "image/png": "[encoded data removed]"
          },
          "metadata": {}
        }
      ]
    },
    {
      "cell_type": "code",
      "source": [
        "#Evaluate Random Forest with TF-IDF + Tuned\n",
        "evaluate_and_log(grid_rf_tfidf.best_estimator_,   X_train, y_train, X_test, y_test,\n",
        "                     \"Random Forest (TF-IDF + TUNED)\", RESULTS)"
      ],
      "metadata": {
        "id": "iiAAEOR3tC94",
        "colab": {
          "base_uri": "https://localhost:8080/",
          "height": 784
        },
        "outputId": "07a73255-c08c-4c99-9054-8cd463a1da0f"
      },
      "execution_count": null,
      "outputs": [
        {
          "output_type": "stream",
          "name": "stdout",
          "text": [
            "\n",
            "Random Forest (TF-IDF + TUNED) Results\n",
            "Train Accuracy: 0.994\n",
            "Test  Accuracy: 0.738\n",
            "Test  Macro-F1: 0.171\n",
            "\n",
            "              precision    recall  f1-score   support\n",
            "\n",
            "           I      0.747     1.000     0.855        62\n",
            "          II      0.000     0.000     0.000         8\n",
            "         III      0.000     0.000     0.000         6\n",
            "          IV      0.000     0.000     0.000         6\n",
            "           V      0.000     0.000     0.000         2\n",
            "\n",
            "    accuracy                          0.738        84\n",
            "   macro avg      0.149     0.200     0.171        84\n",
            "weighted avg      0.551     0.738     0.631        84\n",
            "\n"
          ]
        },
        {
          "output_type": "display_data",
          "data": {
            "text/plain": [
              "<Figure size 640x480 with 2 Axes>"
            ],
            "image/png": "[encoded data removed]"
          },
          "metadata": {}
        }
      ]
    },
    {
      "cell_type": "markdown",
      "source": [
        "XGBoost  model"
      ],
      "metadata": {
        "id": "dmJ6VqwvzvnZ"
      }
    },
    {
      "cell_type": "code",
      "source": [
        "# import xgboost\n",
        "import xgboost as xgb"
      ],
      "metadata": {
        "id": "_gsegqHjtPoQ"
      },
      "execution_count": null,
      "outputs": []
    },
    {
      "cell_type": "code",
      "source": [
        "# creating Bag of Words\n",
        "bow_vectorizer = CountVectorizer()\n",
        "bow = bow_vectorizer.fit_transform(data['final_cleaned_text'])\n",
        "bow_df = pd.DataFrame(bow.toarray(), columns=bow_vectorizer.get_feature_names_out())\n",
        "bow_df.index = data.index\n",
        "bow_df.head()"
      ],
      "metadata": {
        "colab": {
          "base_uri": "https://localhost:8080/",
          "height": 256
        },
        "id": "HxG_H08vlSxr",
        "outputId": "5d945834-a6be-48e4-f4d9-50bde2bbfb7e"
      },
      "execution_count": null,
      "outputs": [
        {
          "output_type": "execute_result",
          "data": {
            "text/plain": [
              "   00  001  007  01  018  0183  02  020  02bp0166  02bp0167  ...  young  z014  \\\n",
              "0   0    0    0   0    0     0   0    0         0         0  ...      0     0   \n",
              "1   0    0    0   0    0     0   0    0         0         0  ...      0     0   \n",
              "2   0    0    0   0    0     0   0    0         0         0  ...      0     0   \n",
              "3   0    0    0   0    0     0   0    0         0         0  ...      0     0   \n",
              "4   0    0    0   0    0     0   0    0         0         0  ...      0     0   \n",
              "\n",
              "   zaf  zamac  zaro  zero  zinc  zinco  zn  zone  \n",
              "0    0      0     0     0     0      0   0     0  \n",
              "1    0      0     0     0     0      0   0     0  \n",
              "2    0      0     0     0     0      0   0     0  \n",
              "3    0      0     0     0     0      0   0     0  \n",
              "4    1      0     0     0     0      0   0     0  \n",
              "\n",
              "[5 rows x 2657 columns]"
            ],
            "text/html": [
              "\n",
              "  <div id=\"df-1cf67e87-8132-407e-9854-86e2fff7b0e2\" class=\"colab-df-container\">\n",
              "    <div>\n",
              "<style scoped>\n",
              "    .dataframe tbody tr th:only-of-type {\n",
              "        vertical-align: middle;\n",
              "    }\n",
              "\n",
              "    .dataframe tbody tr th {\n",
              "        vertical-align: top;\n",
              "    }\n",
              "\n",
              "    .dataframe thead th {\n",
              "        text-align: right;\n",
              "    }\n",
              "</style>\n",
              "<table border=\"1\" class=\"dataframe\">\n",
              "  <thead>\n",
              "    <tr style=\"text-align: right;\">\n",
              "      <th></th>\n",
              "      <th>00</th>\n",
              "      <th>001</th>\n",
              "      <th>007</th>\n",
              "      <th>01</th>\n",
              "      <th>018</th>\n",
              "      <th>0183</th>\n",
              "      <th>02</th>\n",
              "      <th>020</th>\n",
              "      <th>02bp0166</th>\n",
              "      <th>02bp0167</th>\n",
              "      <th>...</th>\n",
              "      <th>young</th>\n",
              "      <th>z014</th>\n",
              "      <th>zaf</th>\n",
              "      <th>zamac</th>\n",
              "      <th>zaro</th>\n",
              "      <th>zero</th>\n",
              "      <th>zinc</th>\n",
              "      <th>zinco</th>\n",
              "      <th>zn</th>\n",
              "      <th>zone</th>\n",
              "    </tr>\n",
              "  </thead>\n",
              "  <tbody>\n",
              "    <tr>\n",
              "      <th>0</th>\n",
              "      <td>0</td>\n",
              "      <td>0</td>\n",
              "      <td>0</td>\n",
              "      <td>0</td>\n",
              "      <td>0</td>\n",
              "      <td>0</td>\n",
              "      <td>0</td>\n",
              "      <td>0</td>\n",
              "      <td>0</td>\n",
              "      <td>0</td>\n",
              "      <td>...</td>\n",
              "      <td>0</td>\n",
              "      <td>0</td>\n",
              "      <td>0</td>\n",
              "      <td>0</td>\n",
              "      <td>0</td>\n",
              "      <td>0</td>\n",
              "      <td>0</td>\n",
              "      <td>0</td>\n",
              "      <td>0</td>\n",
              "      <td>0</td>\n",
              "    </tr>\n",
              "    <tr>\n",
              "      <th>1</th>\n",
              "      <td>0</td>\n",
              "      <td>0</td>\n",
              "      <td>0</td>\n",
              "      <td>0</td>\n",
              "      <td>0</td>\n",
              "      <td>0</td>\n",
              "      <td>0</td>\n",
              "      <td>0</td>\n",
              "      <td>0</td>\n",
              "      <td>0</td>\n",
              "      <td>...</td>\n",
              "      <td>0</td>\n",
              "      <td>0</td>\n",
              "      <td>0</td>\n",
              "      <td>0</td>\n",
              "      <td>0</td>\n",
              "      <td>0</td>\n",
              "      <td>0</td>\n",
              "      <td>0</td>\n",
              "      <td>0</td>\n",
              "      <td>0</td>\n",
              "    </tr>\n",
              "    <tr>\n",
              "      <th>2</th>\n",
              "      <td>0</td>\n",
              "      <td>0</td>\n",
              "      <td>0</td>\n",
              "      <td>0</td>\n",
              "      <td>0</td>\n",
              "      <td>0</td>\n",
              "      <td>0</td>\n",
              "      <td>0</td>\n",
              "      <td>0</td>\n",
              "      <td>0</td>\n",
              "      <td>...</td>\n",
              "      <td>0</td>\n",
              "      <td>0</td>\n",
              "      <td>0</td>\n",
              "      <td>0</td>\n",
              "      <td>0</td>\n",
              "      <td>0</td>\n",
              "      <td>0</td>\n",
              "      <td>0</td>\n",
              "      <td>0</td>\n",
              "      <td>0</td>\n",
              "    </tr>\n",
              "    <tr>\n",
              "      <th>3</th>\n",
              "      <td>0</td>\n",
              "      <td>0</td>\n",
              "      <td>0</td>\n",
              "      <td>0</td>\n",
              "      <td>0</td>\n",
              "      <td>0</td>\n",
              "      <td>0</td>\n",
              "      <td>0</td>\n",
              "      <td>0</td>\n",
              "      <td>0</td>\n",
              "      <td>...</td>\n",
              "      <td>0</td>\n",
              "      <td>0</td>\n",
              "      <td>0</td>\n",
              "      <td>0</td>\n",
              "      <td>0</td>\n",
              "      <td>0</td>\n",
              "      <td>0</td>\n",
              "      <td>0</td>\n",
              "      <td>0</td>\n",
              "      <td>0</td>\n",
              "    </tr>\n",
              "    <tr>\n",
              "      <th>4</th>\n",
              "      <td>0</td>\n",
              "      <td>0</td>\n",
              "      <td>0</td>\n",
              "      <td>0</td>\n",
              "      <td>0</td>\n",
              "      <td>0</td>\n",
              "      <td>0</td>\n",
              "      <td>0</td>\n",
              "      <td>0</td>\n",
              "      <td>0</td>\n",
              "      <td>...</td>\n",
              "      <td>0</td>\n",
              "      <td>0</td>\n",
              "      <td>1</td>\n",
              "      <td>0</td>\n",
              "      <td>0</td>\n",
              "      <td>0</td>\n",
              "      <td>0</td>\n",
              "      <td>0</td>\n",
              "      <td>0</td>\n",
              "      <td>0</td>\n",
              "    </tr>\n",
              "  </tbody>\n",
              "</table>\n",
              "<p>5 rows × 2657 columns</p>\n",
              "</div>\n",
              "    <div class=\"colab-df-buttons\">\n",
              "\n",
              "  <div class=\"colab-df-container\">\n",
              "    <button class=\"colab-df-convert\" onclick=\"convertToInteractive('df-1cf67e87-8132-407e-9854-86e2fff7b0e2')\"\n",
              "            title=\"Convert this dataframe to an interactive table.\"\n",
              "            style=\"display:none;\">\n",
              "\n",
              "  <svg xmlns=\"http://www.w3.org/2000/svg\" height=\"24px\" viewBox=\"0 -960 960 960\">\n",
              "    <path d=\"M120-120v-720h720v720H120Zm60-500h600v-160H180v160Zm220 220h160v-160H400v160Zm0 220h160v-160H400v160ZM180-400h160v-160H180v160Zm440 0h160v-160H620v160ZM180-180h160v-160H180v160Zm440 0h160v-160H620v160Z\"/>\n",
              "  </svg>\n",
              "    </button>\n",
              "\n",
              "  <style>\n",
              "    .colab-df-container {\n",
              "      display:flex;\n",
              "      gap: 12px;\n",
              "    }\n",
              "\n",
              "    .colab-df-convert {\n",
              "      background-color: #E8F0FE;\n",
              "      border: none;\n",
              "      border-radius: 50%;\n",
              "      cursor: pointer;\n",
              "      display: none;\n",
              "      fill: #1967D2;\n",
              "      height: 32px;\n",
              "      padding: 0 0 0 0;\n",
              "      width: 32px;\n",
              "    }\n",
              "\n",
              "    .colab-df-convert:hover {\n",
              "      background-color: #E2EBFA;\n",
              "      box-shadow: 0px 1px 2px rgba(60, 64, 67, 0.3), 0px 1px 3px 1px rgba(60, 64, 67, 0.15);\n",
              "      fill: #174EA6;\n",
              "    }\n",
              "\n",
              "    .colab-df-buttons div {\n",
              "      margin-bottom: 4px;\n",
              "    }\n",
              "\n",
              "    [theme=dark] .colab-df-convert {\n",
              "      background-color: #3B4455;\n",
              "      fill: #D2E3FC;\n",
              "    }\n",
              "\n",
              "    [theme=dark] .colab-df-convert:hover {\n",
              "      background-color: #434B5C;\n",
              "      box-shadow: 0px 1px 3px 1px rgba(0, 0, 0, 0.15);\n",
              "      filter: drop-shadow(0px 1px 2px rgba(0, 0, 0, 0.3));\n",
              "      fill: #FFFFFF;\n",
              "    }\n",
              "  </style>\n",
              "\n",
              "    <script>\n",
              "      const buttonEl =\n",
              "        document.querySelector('#df-1cf67e87-8132-407e-9854-86e2fff7b0e2 button.colab-df-convert');\n",
              "      buttonEl.style.display =\n",
              "        google.colab.kernel.accessAllowed ? 'block' : 'none';\n",
              "\n",
              "      async function convertToInteractive(key) {\n",
              "        const element = document.querySelector('#df-1cf67e87-8132-407e-9854-86e2fff7b0e2');\n",
              "        const dataTable =\n",
              "          await google.colab.kernel.invokeFunction('convertToInteractive',\n",
              "                                                    [key], {});\n",
              "        if (!dataTable) return;\n",
              "\n",
              "        const docLinkHtml = 'Like what you see? Visit the ' +\n",
              "          '<a target=\"_blank\" href=https://colab.research.google.com/notebooks/data_table.ipynb>data table notebook</a>'\n",
              "          + ' to learn more about interactive tables.';\n",
              "        element.innerHTML = '';\n",
              "        dataTable['output_type'] = 'display_data';\n",
              "        await google.colab.output.renderOutput(dataTable, element);\n",
              "        const docLink = document.createElement('div');\n",
              "        docLink.innerHTML = docLinkHtml;\n",
              "        element.appendChild(docLink);\n",
              "      }\n",
              "    </script>\n",
              "  </div>\n",
              "\n",
              "\n",
              "    <div id=\"df-d816d4e4-3690-4456-a9b6-66692ce396e4\">\n",
              "      <button class=\"colab-df-quickchart\" onclick=\"quickchart('df-d816d4e4-3690-4456-a9b6-66692ce396e4')\"\n",
              "                title=\"Suggest charts\"\n",
              "                style=\"display:none;\">\n",
              "\n",
              "<svg xmlns=\"http://www.w3.org/2000/svg\" height=\"24px\"viewBox=\"0 0 24 24\"\n",
              "     width=\"24px\">\n",
              "    <g>\n",
              "        <path d=\"M19 3H5c-1.1 0-2 .9-2 2v14c0 1.1.9 2 2 2h14c1.1 0 2-.9 2-2V5c0-1.1-.9-2-2-2zM9 17H7v-7h2v7zm4 0h-2V7h2v10zm4 0h-2v-4h2v4z\"/>\n",
              "    </g>\n",
              "</svg>\n",
              "      </button>\n",
              "\n",
              "<style>\n",
              "  .colab-df-quickchart {\n",
              "      --bg-color: #E8F0FE;\n",
              "      --fill-color: #1967D2;\n",
              "      --hover-bg-color: #E2EBFA;\n",
              "      --hover-fill-color: #174EA6;\n",
              "      --disabled-fill-color: #AAA;\n",
              "      --disabled-bg-color: #DDD;\n",
              "  }\n",
              "\n",
              "  [theme=dark] .colab-df-quickchart {\n",
              "      --bg-color: #3B4455;\n",
              "      --fill-color: #D2E3FC;\n",
              "      --hover-bg-color: #434B5C;\n",
              "      --hover-fill-color: #FFFFFF;\n",
              "      --disabled-bg-color: #3B4455;\n",
              "      --disabled-fill-color: #666;\n",
              "  }\n",
              "\n",
              "  .colab-df-quickchart {\n",
              "    background-color: var(--bg-color);\n",
              "    border: none;\n",
              "    border-radius: 50%;\n",
              "    cursor: pointer;\n",
              "    display: none;\n",
              "    fill: var(--fill-color);\n",
              "    height: 32px;\n",
              "    padding: 0;\n",
              "    width: 32px;\n",
              "  }\n",
              "\n",
              "  .colab-df-quickchart:hover {\n",
              "    background-color: var(--hover-bg-color);\n",
              "    box-shadow: 0 1px 2px rgba(60, 64, 67, 0.3), 0 1px 3px 1px rgba(60, 64, 67, 0.15);\n",
              "    fill: var(--button-hover-fill-color);\n",
              "  }\n",
              "\n",
              "  .colab-df-quickchart-complete:disabled,\n",
              "  .colab-df-quickchart-complete:disabled:hover {\n",
              "    background-color: var(--disabled-bg-color);\n",
              "    fill: var(--disabled-fill-color);\n",
              "    box-shadow: none;\n",
              "  }\n",
              "\n",
              "  .colab-df-spinner {\n",
              "    border: 2px solid var(--fill-color);\n",
              "    border-color: transparent;\n",
              "    border-bottom-color: var(--fill-color);\n",
              "    animation:\n",
              "      spin 1s steps(1) infinite;\n",
              "  }\n",
              "\n",
              "  @keyframes spin {\n",
              "    0% {\n",
              "      border-color: transparent;\n",
              "      border-bottom-color: var(--fill-color);\n",
              "      border-left-color: var(--fill-color);\n",
              "    }\n",
              "    20% {\n",
              "      border-color: transparent;\n",
              "      border-left-color: var(--fill-color);\n",
              "      border-top-color: var(--fill-color);\n",
              "    }\n",
              "    30% {\n",
              "      border-color: transparent;\n",
              "      border-left-color: var(--fill-color);\n",
              "      border-top-color: var(--fill-color);\n",
              "      border-right-color: var(--fill-color);\n",
              "    }\n",
              "    40% {\n",
              "      border-color: transparent;\n",
              "      border-right-color: var(--fill-color);\n",
              "      border-top-color: var(--fill-color);\n",
              "    }\n",
              "    60% {\n",
              "      border-color: transparent;\n",
              "      border-right-color: var(--fill-color);\n",
              "    }\n",
              "    80% {\n",
              "      border-color: transparent;\n",
              "      border-right-color: var(--fill-color);\n",
              "      border-bottom-color: var(--fill-color);\n",
              "    }\n",
              "    90% {\n",
              "      border-color: transparent;\n",
              "      border-bottom-color: var(--fill-color);\n",
              "    }\n",
              "  }\n",
              "</style>\n",
              "\n",
              "      <script>\n",
              "        async function quickchart(key) {\n",
              "          const quickchartButtonEl =\n",
              "            document.querySelector('#' + key + ' button');\n",
              "          quickchartButtonEl.disabled = true;  // To prevent multiple clicks.\n",
              "          quickchartButtonEl.classList.add('colab-df-spinner');\n",
              "          try {\n",
              "            const charts = await google.colab.kernel.invokeFunction(\n",
              "                'suggestCharts', [key], {});\n",
              "          } catch (error) {\n",
              "            console.error('Error during call to suggestCharts:', error);\n",
              "          }\n",
              "          quickchartButtonEl.classList.remove('colab-df-spinner');\n",
              "          quickchartButtonEl.classList.add('colab-df-quickchart-complete');\n",
              "        }\n",
              "        (() => {\n",
              "          let quickchartButtonEl =\n",
              "            document.querySelector('#df-d816d4e4-3690-4456-a9b6-66692ce396e4 button');\n",
              "          quickchartButtonEl.style.display =\n",
              "            google.colab.kernel.accessAllowed ? 'block' : 'none';\n",
              "        })();\n",
              "      </script>\n",
              "    </div>\n",
              "\n",
              "    </div>\n",
              "  </div>\n"
            ],
            "application/vnd.google.colaboratory.intrinsic+json": {
              "type": "dataframe",
              "variable_name": "bow_df"
            }
          },
          "metadata": {},
          "execution_count": 217
        }
      ]
    },
    {
      "cell_type": "code",
      "source": [
        "# creating tf-idf\n",
        "tfidf_vectorizer = TfidfVectorizer()\n",
        "tfidf = tfidf_vectorizer.fit_transform(data['final_cleaned_text'])\n",
        "tfidf_df = pd.DataFrame(tfidf.toarray(), columns=tfidf_vectorizer.get_feature_names_out())\n",
        "tfidf_df.index = data.index\n",
        "tfidf_df.head()"
      ],
      "metadata": {
        "colab": {
          "base_uri": "https://localhost:8080/",
          "height": 256
        },
        "id": "e48lW3JjlTbo",
        "outputId": "59d42212-2cb9-488b-e96a-6bf7e37b0237"
      },
      "execution_count": null,
      "outputs": [
        {
          "output_type": "execute_result",
          "data": {
            "text/plain": [
              "    00  001  007   01  018  0183   02  020  02bp0166  02bp0167  ...  young  \\\n",
              "0  0.0  0.0  0.0  0.0  0.0   0.0  0.0  0.0       0.0       0.0  ...    0.0   \n",
              "1  0.0  0.0  0.0  0.0  0.0   0.0  0.0  0.0       0.0       0.0  ...    0.0   \n",
              "2  0.0  0.0  0.0  0.0  0.0   0.0  0.0  0.0       0.0       0.0  ...    0.0   \n",
              "3  0.0  0.0  0.0  0.0  0.0   0.0  0.0  0.0       0.0       0.0  ...    0.0   \n",
              "4  0.0  0.0  0.0  0.0  0.0   0.0  0.0  0.0       0.0       0.0  ...    0.0   \n",
              "\n",
              "   z014       zaf  zamac  zaro  zero  zinc  zinco   zn  zone  \n",
              "0   0.0  0.000000    0.0   0.0   0.0   0.0    0.0  0.0   0.0  \n",
              "1   0.0  0.000000    0.0   0.0   0.0   0.0    0.0  0.0   0.0  \n",
              "2   0.0  0.000000    0.0   0.0   0.0   0.0    0.0  0.0   0.0  \n",
              "3   0.0  0.000000    0.0   0.0   0.0   0.0    0.0  0.0   0.0  \n",
              "4   0.0  0.185663    0.0   0.0   0.0   0.0    0.0  0.0   0.0  \n",
              "\n",
              "[5 rows x 2657 columns]"
            ],
            "text/html": [
              "\n",
              "  <div id=\"df-24aeec1c-b668-443c-80c5-d24520896a87\" class=\"colab-df-container\">\n",
              "    <div>\n",
              "<style scoped>\n",
              "    .dataframe tbody tr th:only-of-type {\n",
              "        vertical-align: middle;\n",
              "    }\n",
              "\n",
              "    .dataframe tbody tr th {\n",
              "        vertical-align: top;\n",
              "    }\n",
              "\n",
              "    .dataframe thead th {\n",
              "        text-align: right;\n",
              "    }\n",
              "</style>\n",
              "<table border=\"1\" class=\"dataframe\">\n",
              "  <thead>\n",
              "    <tr style=\"text-align: right;\">\n",
              "      <th></th>\n",
              "      <th>00</th>\n",
              "      <th>001</th>\n",
              "      <th>007</th>\n",
              "      <th>01</th>\n",
              "      <th>018</th>\n",
              "      <th>0183</th>\n",
              "      <th>02</th>\n",
              "      <th>020</th>\n",
              "      <th>02bp0166</th>\n",
              "      <th>02bp0167</th>\n",
              "      <th>...</th>\n",
              "      <th>young</th>\n",
              "      <th>z014</th>\n",
              "      <th>zaf</th>\n",
              "      <th>zamac</th>\n",
              "      <th>zaro</th>\n",
              "      <th>zero</th>\n",
              "      <th>zinc</th>\n",
              "      <th>zinco</th>\n",
              "      <th>zn</th>\n",
              "      <th>zone</th>\n",
              "    </tr>\n",
              "  </thead>\n",
              "  <tbody>\n",
              "    <tr>\n",
              "      <th>0</th>\n",
              "      <td>0.0</td>\n",
              "      <td>0.0</td>\n",
              "      <td>0.0</td>\n",
              "      <td>0.0</td>\n",
              "      <td>0.0</td>\n",
              "      <td>0.0</td>\n",
              "      <td>0.0</td>\n",
              "      <td>0.0</td>\n",
              "      <td>0.0</td>\n",
              "      <td>0.0</td>\n",
              "      <td>...</td>\n",
              "      <td>0.0</td>\n",
              "      <td>0.0</td>\n",
              "      <td>0.000000</td>\n",
              "      <td>0.0</td>\n",
              "      <td>0.0</td>\n",
              "      <td>0.0</td>\n",
              "      <td>0.0</td>\n",
              "      <td>0.0</td>\n",
              "      <td>0.0</td>\n",
              "      <td>0.0</td>\n",
              "    </tr>\n",
              "    <tr>\n",
              "      <th>1</th>\n",
              "      <td>0.0</td>\n",
              "      <td>0.0</td>\n",
              "      <td>0.0</td>\n",
              "      <td>0.0</td>\n",
              "      <td>0.0</td>\n",
              "      <td>0.0</td>\n",
              "      <td>0.0</td>\n",
              "      <td>0.0</td>\n",
              "      <td>0.0</td>\n",
              "      <td>0.0</td>\n",
              "      <td>...</td>\n",
              "      <td>0.0</td>\n",
              "      <td>0.0</td>\n",
              "      <td>0.000000</td>\n",
              "      <td>0.0</td>\n",
              "      <td>0.0</td>\n",
              "      <td>0.0</td>\n",
              "      <td>0.0</td>\n",
              "      <td>0.0</td>\n",
              "      <td>0.0</td>\n",
              "      <td>0.0</td>\n",
              "    </tr>\n",
              "    <tr>\n",
              "      <th>2</th>\n",
              "      <td>0.0</td>\n",
              "      <td>0.0</td>\n",
              "      <td>0.0</td>\n",
              "      <td>0.0</td>\n",
              "      <td>0.0</td>\n",
              "      <td>0.0</td>\n",
              "      <td>0.0</td>\n",
              "      <td>0.0</td>\n",
              "      <td>0.0</td>\n",
              "      <td>0.0</td>\n",
              "      <td>...</td>\n",
              "      <td>0.0</td>\n",
              "      <td>0.0</td>\n",
              "      <td>0.000000</td>\n",
              "      <td>0.0</td>\n",
              "      <td>0.0</td>\n",
              "      <td>0.0</td>\n",
              "      <td>0.0</td>\n",
              "      <td>0.0</td>\n",
              "      <td>0.0</td>\n",
              "      <td>0.0</td>\n",
              "    </tr>\n",
              "    <tr>\n",
              "      <th>3</th>\n",
              "      <td>0.0</td>\n",
              "      <td>0.0</td>\n",
              "      <td>0.0</td>\n",
              "      <td>0.0</td>\n",
              "      <td>0.0</td>\n",
              "      <td>0.0</td>\n",
              "      <td>0.0</td>\n",
              "      <td>0.0</td>\n",
              "      <td>0.0</td>\n",
              "      <td>0.0</td>\n",
              "      <td>...</td>\n",
              "      <td>0.0</td>\n",
              "      <td>0.0</td>\n",
              "      <td>0.000000</td>\n",
              "      <td>0.0</td>\n",
              "      <td>0.0</td>\n",
              "      <td>0.0</td>\n",
              "      <td>0.0</td>\n",
              "      <td>0.0</td>\n",
              "      <td>0.0</td>\n",
              "      <td>0.0</td>\n",
              "    </tr>\n",
              "    <tr>\n",
              "      <th>4</th>\n",
              "      <td>0.0</td>\n",
              "      <td>0.0</td>\n",
              "      <td>0.0</td>\n",
              "      <td>0.0</td>\n",
              "      <td>0.0</td>\n",
              "      <td>0.0</td>\n",
              "      <td>0.0</td>\n",
              "      <td>0.0</td>\n",
              "      <td>0.0</td>\n",
              "      <td>0.0</td>\n",
              "      <td>...</td>\n",
              "      <td>0.0</td>\n",
              "      <td>0.0</td>\n",
              "      <td>0.185663</td>\n",
              "      <td>0.0</td>\n",
              "      <td>0.0</td>\n",
              "      <td>0.0</td>\n",
              "      <td>0.0</td>\n",
              "      <td>0.0</td>\n",
              "      <td>0.0</td>\n",
              "      <td>0.0</td>\n",
              "    </tr>\n",
              "  </tbody>\n",
              "</table>\n",
              "<p>5 rows × 2657 columns</p>\n",
              "</div>\n",
              "    <div class=\"colab-df-buttons\">\n",
              "\n",
              "  <div class=\"colab-df-container\">\n",
              "    <button class=\"colab-df-convert\" onclick=\"convertToInteractive('df-24aeec1c-b668-443c-80c5-d24520896a87')\"\n",
              "            title=\"Convert this dataframe to an interactive table.\"\n",
              "            style=\"display:none;\">\n",
              "\n",
              "  <svg xmlns=\"http://www.w3.org/2000/svg\" height=\"24px\" viewBox=\"0 -960 960 960\">\n",
              "    <path d=\"M120-120v-720h720v720H120Zm60-500h600v-160H180v160Zm220 220h160v-160H400v160Zm0 220h160v-160H400v160ZM180-400h160v-160H180v160Zm440 0h160v-160H620v160ZM180-180h160v-160H180v160Zm440 0h160v-160H620v160Z\"/>\n",
              "  </svg>\n",
              "    </button>\n",
              "\n",
              "  <style>\n",
              "    .colab-df-container {\n",
              "      display:flex;\n",
              "      gap: 12px;\n",
              "    }\n",
              "\n",
              "    .colab-df-convert {\n",
              "      background-color: #E8F0FE;\n",
              "      border: none;\n",
              "      border-radius: 50%;\n",
              "      cursor: pointer;\n",
              "      display: none;\n",
              "      fill: #1967D2;\n",
              "      height: 32px;\n",
              "      padding: 0 0 0 0;\n",
              "      width: 32px;\n",
              "    }\n",
              "\n",
              "    .colab-df-convert:hover {\n",
              "      background-color: #E2EBFA;\n",
              "      box-shadow: 0px 1px 2px rgba(60, 64, 67, 0.3), 0px 1px 3px 1px rgba(60, 64, 67, 0.15);\n",
              "      fill: #174EA6;\n",
              "    }\n",
              "\n",
              "    .colab-df-buttons div {\n",
              "      margin-bottom: 4px;\n",
              "    }\n",
              "\n",
              "    [theme=dark] .colab-df-convert {\n",
              "      background-color: #3B4455;\n",
              "      fill: #D2E3FC;\n",
              "    }\n",
              "\n",
              "    [theme=dark] .colab-df-convert:hover {\n",
              "      background-color: #434B5C;\n",
              "      box-shadow: 0px 1px 3px 1px rgba(0, 0, 0, 0.15);\n",
              "      filter: drop-shadow(0px 1px 2px rgba(0, 0, 0, 0.3));\n",
              "      fill: #FFFFFF;\n",
              "    }\n",
              "  </style>\n",
              "\n",
              "    <script>\n",
              "      const buttonEl =\n",
              "        document.querySelector('#df-24aeec1c-b668-443c-80c5-d24520896a87 button.colab-df-convert');\n",
              "      buttonEl.style.display =\n",
              "        google.colab.kernel.accessAllowed ? 'block' : 'none';\n",
              "\n",
              "      async function convertToInteractive(key) {\n",
              "        const element = document.querySelector('#df-24aeec1c-b668-443c-80c5-d24520896a87');\n",
              "        const dataTable =\n",
              "          await google.colab.kernel.invokeFunction('convertToInteractive',\n",
              "                                                    [key], {});\n",
              "        if (!dataTable) return;\n",
              "\n",
              "        const docLinkHtml = 'Like what you see? Visit the ' +\n",
              "          '<a target=\"_blank\" href=https://colab.research.google.com/notebooks/data_table.ipynb>data table notebook</a>'\n",
              "          + ' to learn more about interactive tables.';\n",
              "        element.innerHTML = '';\n",
              "        dataTable['output_type'] = 'display_data';\n",
              "        await google.colab.output.renderOutput(dataTable, element);\n",
              "        const docLink = document.createElement('div');\n",
              "        docLink.innerHTML = docLinkHtml;\n",
              "        element.appendChild(docLink);\n",
              "      }\n",
              "    </script>\n",
              "  </div>\n",
              "\n",
              "\n",
              "    <div id=\"df-a2804c69-faa6-4813-a7d0-c0d05e27b047\">\n",
              "      <button class=\"colab-df-quickchart\" onclick=\"quickchart('df-a2804c69-faa6-4813-a7d0-c0d05e27b047')\"\n",
              "                title=\"Suggest charts\"\n",
              "                style=\"display:none;\">\n",
              "\n",
              "<svg xmlns=\"http://www.w3.org/2000/svg\" height=\"24px\"viewBox=\"0 0 24 24\"\n",
              "     width=\"24px\">\n",
              "    <g>\n",
              "        <path d=\"M19 3H5c-1.1 0-2 .9-2 2v14c0 1.1.9 2 2 2h14c1.1 0 2-.9 2-2V5c0-1.1-.9-2-2-2zM9 17H7v-7h2v7zm4 0h-2V7h2v10zm4 0h-2v-4h2v4z\"/>\n",
              "    </g>\n",
              "</svg>\n",
              "      </button>\n",
              "\n",
              "<style>\n",
              "  .colab-df-quickchart {\n",
              "      --bg-color: #E8F0FE;\n",
              "      --fill-color: #1967D2;\n",
              "      --hover-bg-color: #E2EBFA;\n",
              "      --hover-fill-color: #174EA6;\n",
              "      --disabled-fill-color: #AAA;\n",
              "      --disabled-bg-color: #DDD;\n",
              "  }\n",
              "\n",
              "  [theme=dark] .colab-df-quickchart {\n",
              "      --bg-color: #3B4455;\n",
              "      --fill-color: #D2E3FC;\n",
              "      --hover-bg-color: #434B5C;\n",
              "      --hover-fill-color: #FFFFFF;\n",
              "      --disabled-bg-color: #3B4455;\n",
              "      --disabled-fill-color: #666;\n",
              "  }\n",
              "\n",
              "  .colab-df-quickchart {\n",
              "    background-color: var(--bg-color);\n",
              "    border: none;\n",
              "    border-radius: 50%;\n",
              "    cursor: pointer;\n",
              "    display: none;\n",
              "    fill: var(--fill-color);\n",
              "    height: 32px;\n",
              "    padding: 0;\n",
              "    width: 32px;\n",
              "  }\n",
              "\n",
              "  .colab-df-quickchart:hover {\n",
              "    background-color: var(--hover-bg-color);\n",
              "    box-shadow: 0 1px 2px rgba(60, 64, 67, 0.3), 0 1px 3px 1px rgba(60, 64, 67, 0.15);\n",
              "    fill: var(--button-hover-fill-color);\n",
              "  }\n",
              "\n",
              "  .colab-df-quickchart-complete:disabled,\n",
              "  .colab-df-quickchart-complete:disabled:hover {\n",
              "    background-color: var(--disabled-bg-color);\n",
              "    fill: var(--disabled-fill-color);\n",
              "    box-shadow: none;\n",
              "  }\n",
              "\n",
              "  .colab-df-spinner {\n",
              "    border: 2px solid var(--fill-color);\n",
              "    border-color: transparent;\n",
              "    border-bottom-color: var(--fill-color);\n",
              "    animation:\n",
              "      spin 1s steps(1) infinite;\n",
              "  }\n",
              "\n",
              "  @keyframes spin {\n",
              "    0% {\n",
              "      border-color: transparent;\n",
              "      border-bottom-color: var(--fill-color);\n",
              "      border-left-color: var(--fill-color);\n",
              "    }\n",
              "    20% {\n",
              "      border-color: transparent;\n",
              "      border-left-color: var(--fill-color);\n",
              "      border-top-color: var(--fill-color);\n",
              "    }\n",
              "    30% {\n",
              "      border-color: transparent;\n",
              "      border-left-color: var(--fill-color);\n",
              "      border-top-color: var(--fill-color);\n",
              "      border-right-color: var(--fill-color);\n",
              "    }\n",
              "    40% {\n",
              "      border-color: transparent;\n",
              "      border-right-color: var(--fill-color);\n",
              "      border-top-color: var(--fill-color);\n",
              "    }\n",
              "    60% {\n",
              "      border-color: transparent;\n",
              "      border-right-color: var(--fill-color);\n",
              "    }\n",
              "    80% {\n",
              "      border-color: transparent;\n",
              "      border-right-color: var(--fill-color);\n",
              "      border-bottom-color: var(--fill-color);\n",
              "    }\n",
              "    90% {\n",
              "      border-color: transparent;\n",
              "      border-bottom-color: var(--fill-color);\n",
              "    }\n",
              "  }\n",
              "</style>\n",
              "\n",
              "      <script>\n",
              "        async function quickchart(key) {\n",
              "          const quickchartButtonEl =\n",
              "            document.querySelector('#' + key + ' button');\n",
              "          quickchartButtonEl.disabled = true;  // To prevent multiple clicks.\n",
              "          quickchartButtonEl.classList.add('colab-df-spinner');\n",
              "          try {\n",
              "            const charts = await google.colab.kernel.invokeFunction(\n",
              "                'suggestCharts', [key], {});\n",
              "          } catch (error) {\n",
              "            console.error('Error during call to suggestCharts:', error);\n",
              "          }\n",
              "          quickchartButtonEl.classList.remove('colab-df-spinner');\n",
              "          quickchartButtonEl.classList.add('colab-df-quickchart-complete');\n",
              "        }\n",
              "        (() => {\n",
              "          let quickchartButtonEl =\n",
              "            document.querySelector('#df-a2804c69-faa6-4813-a7d0-c0d05e27b047 button');\n",
              "          quickchartButtonEl.style.display =\n",
              "            google.colab.kernel.accessAllowed ? 'block' : 'none';\n",
              "        })();\n",
              "      </script>\n",
              "    </div>\n",
              "\n",
              "    </div>\n",
              "  </div>\n"
            ],
            "application/vnd.google.colaboratory.intrinsic+json": {
              "type": "dataframe",
              "variable_name": "tfidf_df"
            }
          },
          "metadata": {},
          "execution_count": 218
        }
      ]
    },
    {
      "cell_type": "code",
      "source": [
        "# Train Test Split for BoW\n",
        "X = bow_df\n",
        "y = data['Accident Level']\n",
        "X_train, X_test, y_train, y_test = train_test_split(X, y, test_size=0.2, random_state=42, stratify=y)"
      ],
      "metadata": {
        "id": "kuPeD07rk5sE"
      },
      "execution_count": null,
      "outputs": []
    },
    {
      "cell_type": "code",
      "source": [
        "# train XG Boost classifier on BoW\n",
        "from sklearn.preprocessing import LabelEncoder\n",
        "# Create and fit label encoder\n",
        "le = LabelEncoder()\n",
        "y_train_encoded = le.fit_transform(y_train)\n",
        "y_test_encoded = le.transform(y_test)\n",
        "\n",
        "# Train XGBoost with encoded labels\n",
        "xgb_classifier = xgb.XGBClassifier(use_label_encoder=False, eval_metric='mlogloss')\n",
        "xgb_classifier.fit(X_train, y_train_encoded)\n",
        "\n",
        "# Make predictions and decode them back to original labels\n",
        "y_pred_encoded = xgb_classifier.predict(X_test)\n",
        "y_pred = le.inverse_transform(y_pred_encoded)\n",
        "\n",
        "XGboost_BoW_accuracy=accuracy_score(y_test, y_pred)\n",
        "print(\"\\nAccuracy Score:\", XGboost_BoW_accuracy)\n"
      ],
      "metadata": {
        "colab": {
          "base_uri": "https://localhost:8080/"
        },
        "id": "LE9PtzhpkooX",
        "outputId": "c91c53ea-24d2-44ff-b6ef-41d8290fab7b"
      },
      "execution_count": null,
      "outputs": [
        {
          "output_type": "stream",
          "name": "stderr",
          "text": [
            "/usr/local/lib/python3.12/dist-packages/xgboost/training.py:183: UserWarning: [20:50:58] WARNING: /workspace/src/learner.cc:738: \n",
            "Parameters: { \"use_label_encoder\" } are not used.\n",
            "\n",
            "  bst.update(dtrain, iteration=i, fobj=obj)\n"
          ]
        },
        {
          "output_type": "stream",
          "name": "stdout",
          "text": [
            "\n",
            "Accuracy Score: 0.7142857142857143\n"
          ]
        }
      ]
    },
    {
      "cell_type": "code",
      "source": [
        "#Evaluate XGBoost with BoW\n",
        "evaluate_and_log(xgb_classifier, X_train, y_train_encoded, X_test, y_test_encoded,\n",
        "                     \"XGBoost (BoW)\", RESULTS)"
      ],
      "metadata": {
        "id": "pJj2B8hivKK_",
        "outputId": "100d5d1c-5c07-4430-cd69-f40144041966",
        "colab": {
          "base_uri": "https://localhost:8080/",
          "height": 874
        }
      },
      "execution_count": null,
      "outputs": [
        {
          "output_type": "stream",
          "name": "stderr",
          "text": [
            "/usr/local/lib/python3.12/dist-packages/xgboost/training.py:183: UserWarning: [20:51:00] WARNING: /workspace/src/learner.cc:738: \n",
            "Parameters: { \"use_label_encoder\" } are not used.\n",
            "\n",
            "  bst.update(dtrain, iteration=i, fobj=obj)\n"
          ]
        },
        {
          "output_type": "stream",
          "name": "stdout",
          "text": [
            "\n",
            "XGBoost (BoW) Results\n",
            "Train Accuracy: 0.994\n",
            "Test  Accuracy: 0.714\n",
            "Test  Macro-F1: 0.170\n",
            "\n",
            "              precision    recall  f1-score   support\n",
            "\n",
            "           0      0.759     0.968     0.851        62\n",
            "           1      0.000     0.000     0.000         8\n",
            "           2      0.000     0.000     0.000         6\n",
            "           3      0.000     0.000     0.000         6\n",
            "           4      0.000     0.000     0.000         2\n",
            "\n",
            "    accuracy                          0.714        84\n",
            "   macro avg      0.152     0.194     0.170        84\n",
            "weighted avg      0.561     0.714     0.628        84\n",
            "\n"
          ]
        },
        {
          "output_type": "display_data",
          "data": {
            "text/plain": [
              "<Figure size 640x480 with 2 Axes>"
            ],
            "image/png": "[encoded data removed]"
          },
          "metadata": {}
        }
      ]
    },
    {
      "cell_type": "code",
      "source": [
        "# Train Test Split for tfidf\n",
        "\n",
        "X = tfidf_df\n",
        "y = data['Accident Level']\n",
        "X_train, X_test, y_train, y_test = train_test_split(X, y, test_size=0.2, random_state=42, stratify=y)\n"
      ],
      "metadata": {
        "id": "je0ygc3pk-hU"
      },
      "execution_count": null,
      "outputs": []
    },
    {
      "cell_type": "code",
      "source": [
        "# train XG Boost classifier on TF-IDF\n",
        "\n",
        "# Create and fit label encoder\n",
        "le = LabelEncoder()\n",
        "y_train_encoded = le.fit_transform(y_train)\n",
        "y_test_encoded = le.transform(y_test)\n",
        "\n",
        "# Train XGBoost with encoded labels\n",
        "xgb_classifier = xgb.XGBClassifier(use_label_encoder=False, eval_metric='mlogloss')\n",
        "xgb_classifier.fit(X_train, y_train_encoded)\n",
        "\n",
        "# Make predictions and decode them back to original labels\n",
        "y_pred_encoded = xgb_classifier.predict(X_test)\n",
        "y_pred = le.inverse_transform(y_pred_encoded)\n",
        "\n",
        "XGboost_TFIDF_accuracy=accuracy_score(y_test, y_pred)\n",
        "# Print metrics\n",
        "print(\"Confusion Matrix:\\n\", confusion_matrix(y_test, y_pred))\n",
        "print(\"\\nClassification Report:\\n\", classification_report(y_test, y_pred,zero_division=0))\n",
        "print(\"\\nAccuracy Score:\", XGboost_TFIDF_accuracy)\n"
      ],
      "metadata": {
        "colab": {
          "base_uri": "https://localhost:8080/"
        },
        "id": "KLSXdEBVj-UF",
        "outputId": "34bee8a5-49ee-40b6-ad99-e352038a2a69"
      },
      "execution_count": null,
      "outputs": [
        {
          "output_type": "stream",
          "name": "stderr",
          "text": [
            "/usr/local/lib/python3.12/dist-packages/xgboost/training.py:183: UserWarning: [20:51:04] WARNING: /workspace/src/learner.cc:738: \n",
            "Parameters: { \"use_label_encoder\" } are not used.\n",
            "\n",
            "  bst.update(dtrain, iteration=i, fobj=obj)\n"
          ]
        },
        {
          "output_type": "stream",
          "name": "stdout",
          "text": [
            "Confusion Matrix:\n",
            " [[58  4  0  0  0]\n",
            " [ 8  0  0  0  0]\n",
            " [ 5  1  0  0  0]\n",
            " [ 4  2  0  0  0]\n",
            " [ 2  0  0  0  0]]\n",
            "\n",
            "Classification Report:\n",
            "               precision    recall  f1-score   support\n",
            "\n",
            "           I       0.75      0.94      0.83        62\n",
            "          II       0.00      0.00      0.00         8\n",
            "         III       0.00      0.00      0.00         6\n",
            "          IV       0.00      0.00      0.00         6\n",
            "           V       0.00      0.00      0.00         2\n",
            "\n",
            "    accuracy                           0.69        84\n",
            "   macro avg       0.15      0.19      0.17        84\n",
            "weighted avg       0.56      0.69      0.62        84\n",
            "\n",
            "\n",
            "Accuracy Score: 0.6904761904761905\n"
          ]
        }
      ]
    },
    {
      "cell_type": "code",
      "source": [
        "#Evaluate XGBoost with BoW\n",
        "evaluate_and_log(xgb_classifier, X_train, y_train_encoded, X_test, y_test_encoded,\n",
        "                     \"XGBoost (TF-IDF)\", RESULTS)"
      ],
      "metadata": {
        "id": "pr2oq2D_yv2e",
        "outputId": "68f4d089-c783-41c8-f80a-cecc5df8a23f",
        "colab": {
          "base_uri": "https://localhost:8080/",
          "height": 874
        }
      },
      "execution_count": null,
      "outputs": [
        {
          "output_type": "stream",
          "name": "stderr",
          "text": [
            "/usr/local/lib/python3.12/dist-packages/xgboost/training.py:183: UserWarning: [20:51:06] WARNING: /workspace/src/learner.cc:738: \n",
            "Parameters: { \"use_label_encoder\" } are not used.\n",
            "\n",
            "  bst.update(dtrain, iteration=i, fobj=obj)\n"
          ]
        },
        {
          "output_type": "stream",
          "name": "stdout",
          "text": [
            "\n",
            "XGBoost (TF-IDF) Results\n",
            "Train Accuracy: 0.997\n",
            "Test  Accuracy: 0.690\n",
            "Test  Macro-F1: 0.167\n",
            "\n",
            "              precision    recall  f1-score   support\n",
            "\n",
            "           0      0.753     0.935     0.835        62\n",
            "           1      0.000     0.000     0.000         8\n",
            "           2      0.000     0.000     0.000         6\n",
            "           3      0.000     0.000     0.000         6\n",
            "           4      0.000     0.000     0.000         2\n",
            "\n",
            "    accuracy                          0.690        84\n",
            "   macro avg      0.151     0.187     0.167        84\n",
            "weighted avg      0.556     0.690     0.616        84\n",
            "\n"
          ]
        },
        {
          "output_type": "display_data",
          "data": {
            "text/plain": [
              "<Figure size 640x480 with 2 Axes>"
            ],
            "image/png": "[encoded data removed]"
          },
          "metadata": {}
        }
      ]
    },
    {
      "cell_type": "code",
      "source": [
        "pd.DataFrame(RESULTS).sort_values(\"Test Accuracy\", ascending=False)"
      ],
      "metadata": {
        "id": "r68YjZdGpLfY",
        "outputId": "795cc323-00be-4bd1-d8a9-be5d595fdc0f",
        "colab": {
          "base_uri": "https://localhost:8080/",
          "height": 739
        }
      },
      "execution_count": null,
      "outputs": [
        {
          "output_type": "execute_result",
          "data": {
            "text/plain": [
              "                                  Model  Train Accuracy  Test Accuracy  \\\n",
              "0                        AdaBoost (BoW)           0.746          0.738   \n",
              "1                     AdaBoost (TF-IDF)           0.746          0.738   \n",
              "9             SVM (TF-IDF + Oversample)           0.991          0.738   \n",
              "8                SVM (BoW + Oversample)           0.958          0.738   \n",
              "7                          SVM (TF-IDF)           0.991          0.738   \n",
              "6                             SVM (BoW)           0.850          0.738   \n",
              "14                  Random Forest (BoW)           0.994          0.738   \n",
              "15               Random Forest (TF-IDF)           0.994          0.738   \n",
              "16     Random Forest (BoW + Oversample)           0.994          0.738   \n",
              "18          Random Forest (BoW + TUNED)           0.994          0.738   \n",
              "10                      SVM GAMMA (BoW)           0.994          0.738   \n",
              "11                   SVM GAMMA (TF-IDF)           0.740          0.738   \n",
              "12         SVM GAMMA (BoW + Oversample)           0.994          0.738   \n",
              "13            SVM (TF-IDF + Oversample)           0.958          0.738   \n",
              "19       Random Forest (TF-IDF + TUNED)           0.994          0.738   \n",
              "17  Random Forest (TF-IDF + Oversample)           0.994          0.726   \n",
              "20                        XGBoost (BoW)           0.994          0.714   \n",
              "21                     XGBoost (TF-IDF)           0.997          0.690   \n",
              "4                AdaBoost (BoW + TUNED)           0.922          0.619   \n",
              "5             AdaBoost (TF-IDF + TUNED)           0.964          0.619   \n",
              "3        AdaBoost (TF-IDF + Oversample)           0.719          0.571   \n",
              "2           AdaBoost (BoW + Oversample)           0.581          0.452   \n",
              "\n",
              "    Test Macro-F1  \n",
              "0           0.170  \n",
              "1           0.170  \n",
              "9           0.171  \n",
              "8           0.170  \n",
              "7           0.171  \n",
              "6           0.170  \n",
              "14          0.171  \n",
              "15          0.171  \n",
              "16          0.172  \n",
              "18          0.172  \n",
              "10          0.171  \n",
              "11          0.170  \n",
              "12          0.171  \n",
              "13          0.171  \n",
              "19          0.171  \n",
              "17          0.169  \n",
              "20          0.170  \n",
              "21          0.167  \n",
              "4           0.236  \n",
              "5           0.158  \n",
              "3           0.254  \n",
              "2           0.253  "
            ],
            "text/html": [
              "\n",
              "  <div id=\"df-bc63a7ea-ed3d-4421-af75-9e6c8611633a\" class=\"colab-df-container\">\n",
              "    <div>\n",
              "<style scoped>\n",
              "    .dataframe tbody tr th:only-of-type {\n",
              "        vertical-align: middle;\n",
              "    }\n",
              "\n",
              "    .dataframe tbody tr th {\n",
              "        vertical-align: top;\n",
              "    }\n",
              "\n",
              "    .dataframe thead th {\n",
              "        text-align: right;\n",
              "    }\n",
              "</style>\n",
              "<table border=\"1\" class=\"dataframe\">\n",
              "  <thead>\n",
              "    <tr style=\"text-align: right;\">\n",
              "      <th></th>\n",
              "      <th>Model</th>\n",
              "      <th>Train Accuracy</th>\n",
              "      <th>Test Accuracy</th>\n",
              "      <th>Test Macro-F1</th>\n",
              "    </tr>\n",
              "  </thead>\n",
              "  <tbody>\n",
              "    <tr>\n",
              "      <th>0</th>\n",
              "      <td>AdaBoost (BoW)</td>\n",
              "      <td>0.746</td>\n",
              "      <td>0.738</td>\n",
              "      <td>0.170</td>\n",
              "    </tr>\n",
              "    <tr>\n",
              "      <th>1</th>\n",
              "      <td>AdaBoost (TF-IDF)</td>\n",
              "      <td>0.746</td>\n",
              "      <td>0.738</td>\n",
              "      <td>0.170</td>\n",
              "    </tr>\n",
              "    <tr>\n",
              "      <th>9</th>\n",
              "      <td>SVM (TF-IDF + Oversample)</td>\n",
              "      <td>0.991</td>\n",
              "      <td>0.738</td>\n",
              "      <td>0.171</td>\n",
              "    </tr>\n",
              "    <tr>\n",
              "      <th>8</th>\n",
              "      <td>SVM (BoW + Oversample)</td>\n",
              "      <td>0.958</td>\n",
              "      <td>0.738</td>\n",
              "      <td>0.170</td>\n",
              "    </tr>\n",
              "    <tr>\n",
              "      <th>7</th>\n",
              "      <td>SVM (TF-IDF)</td>\n",
              "      <td>0.991</td>\n",
              "      <td>0.738</td>\n",
              "      <td>0.171</td>\n",
              "    </tr>\n",
              "    <tr>\n",
              "      <th>6</th>\n",
              "      <td>SVM (BoW)</td>\n",
              "      <td>0.850</td>\n",
              "      <td>0.738</td>\n",
              "      <td>0.170</td>\n",
              "    </tr>\n",
              "    <tr>\n",
              "      <th>14</th>\n",
              "      <td>Random Forest (BoW)</td>\n",
              "      <td>0.994</td>\n",
              "      <td>0.738</td>\n",
              "      <td>0.171</td>\n",
              "    </tr>\n",
              "    <tr>\n",
              "      <th>15</th>\n",
              "      <td>Random Forest (TF-IDF)</td>\n",
              "      <td>0.994</td>\n",
              "      <td>0.738</td>\n",
              "      <td>0.171</td>\n",
              "    </tr>\n",
              "    <tr>\n",
              "      <th>16</th>\n",
              "      <td>Random Forest (BoW + Oversample)</td>\n",
              "      <td>0.994</td>\n",
              "      <td>0.738</td>\n",
              "      <td>0.172</td>\n",
              "    </tr>\n",
              "    <tr>\n",
              "      <th>18</th>\n",
              "      <td>Random Forest (BoW + TUNED)</td>\n",
              "      <td>0.994</td>\n",
              "      <td>0.738</td>\n",
              "      <td>0.172</td>\n",
              "    </tr>\n",
              "    <tr>\n",
              "      <th>10</th>\n",
              "      <td>SVM GAMMA (BoW)</td>\n",
              "      <td>0.994</td>\n",
              "      <td>0.738</td>\n",
              "      <td>0.171</td>\n",
              "    </tr>\n",
              "    <tr>\n",
              "      <th>11</th>\n",
              "      <td>SVM GAMMA (TF-IDF)</td>\n",
              "      <td>0.740</td>\n",
              "      <td>0.738</td>\n",
              "      <td>0.170</td>\n",
              "    </tr>\n",
              "    <tr>\n",
              "      <th>12</th>\n",
              "      <td>SVM GAMMA (BoW + Oversample)</td>\n",
              "      <td>0.994</td>\n",
              "      <td>0.738</td>\n",
              "      <td>0.171</td>\n",
              "    </tr>\n",
              "    <tr>\n",
              "      <th>13</th>\n",
              "      <td>SVM (TF-IDF + Oversample)</td>\n",
              "      <td>0.958</td>\n",
              "      <td>0.738</td>\n",
              "      <td>0.171</td>\n",
              "    </tr>\n",
              "    <tr>\n",
              "      <th>19</th>\n",
              "      <td>Random Forest (TF-IDF + TUNED)</td>\n",
              "      <td>0.994</td>\n",
              "      <td>0.738</td>\n",
              "      <td>0.171</td>\n",
              "    </tr>\n",
              "    <tr>\n",
              "      <th>17</th>\n",
              "      <td>Random Forest (TF-IDF + Oversample)</td>\n",
              "      <td>0.994</td>\n",
              "      <td>0.726</td>\n",
              "      <td>0.169</td>\n",
              "    </tr>\n",
              "    <tr>\n",
              "      <th>20</th>\n",
              "      <td>XGBoost (BoW)</td>\n",
              "      <td>0.994</td>\n",
              "      <td>0.714</td>\n",
              "      <td>0.170</td>\n",
              "    </tr>\n",
              "    <tr>\n",
              "      <th>21</th>\n",
              "      <td>XGBoost (TF-IDF)</td>\n",
              "      <td>0.997</td>\n",
              "      <td>0.690</td>\n",
              "      <td>0.167</td>\n",
              "    </tr>\n",
              "    <tr>\n",
              "      <th>4</th>\n",
              "      <td>AdaBoost (BoW + TUNED)</td>\n",
              "      <td>0.922</td>\n",
              "      <td>0.619</td>\n",
              "      <td>0.236</td>\n",
              "    </tr>\n",
              "    <tr>\n",
              "      <th>5</th>\n",
              "      <td>AdaBoost (TF-IDF + TUNED)</td>\n",
              "      <td>0.964</td>\n",
              "      <td>0.619</td>\n",
              "      <td>0.158</td>\n",
              "    </tr>\n",
              "    <tr>\n",
              "      <th>3</th>\n",
              "      <td>AdaBoost (TF-IDF + Oversample)</td>\n",
              "      <td>0.719</td>\n",
              "      <td>0.571</td>\n",
              "      <td>0.254</td>\n",
              "    </tr>\n",
              "    <tr>\n",
              "      <th>2</th>\n",
              "      <td>AdaBoost (BoW + Oversample)</td>\n",
              "      <td>0.581</td>\n",
              "      <td>0.452</td>\n",
              "      <td>0.253</td>\n",
              "    </tr>\n",
              "  </tbody>\n",
              "</table>\n",
              "</div>\n",
              "    <div class=\"colab-df-buttons\">\n",
              "\n",
              "  <div class=\"colab-df-container\">\n",
              "    <button class=\"colab-df-convert\" onclick=\"convertToInteractive('df-bc63a7ea-ed3d-4421-af75-9e6c8611633a')\"\n",
              "            title=\"Convert this dataframe to an interactive table.\"\n",
              "            style=\"display:none;\">\n",
              "\n",
              "  <svg xmlns=\"http://www.w3.org/2000/svg\" height=\"24px\" viewBox=\"0 -960 960 960\">\n",
              "    <path d=\"M120-120v-720h720v720H120Zm60-500h600v-160H180v160Zm220 220h160v-160H400v160Zm0 220h160v-160H400v160ZM180-400h160v-160H180v160Zm440 0h160v-160H620v160ZM180-180h160v-160H180v160Zm440 0h160v-160H620v160Z\"/>\n",
              "  </svg>\n",
              "    </button>\n",
              "\n",
              "  <style>\n",
              "    .colab-df-container {\n",
              "      display:flex;\n",
              "      gap: 12px;\n",
              "    }\n",
              "\n",
              "    .colab-df-convert {\n",
              "      background-color: #E8F0FE;\n",
              "      border: none;\n",
              "      border-radius: 50%;\n",
              "      cursor: pointer;\n",
              "      display: none;\n",
              "      fill: #1967D2;\n",
              "      height: 32px;\n",
              "      padding: 0 0 0 0;\n",
              "      width: 32px;\n",
              "    }\n",
              "\n",
              "    .colab-df-convert:hover {\n",
              "      background-color: #E2EBFA;\n",
              "      box-shadow: 0px 1px 2px rgba(60, 64, 67, 0.3), 0px 1px 3px 1px rgba(60, 64, 67, 0.15);\n",
              "      fill: #174EA6;\n",
              "    }\n",
              "\n",
              "    .colab-df-buttons div {\n",
              "      margin-bottom: 4px;\n",
              "    }\n",
              "\n",
              "    [theme=dark] .colab-df-convert {\n",
              "      background-color: #3B4455;\n",
              "      fill: #D2E3FC;\n",
              "    }\n",
              "\n",
              "    [theme=dark] .colab-df-convert:hover {\n",
              "      background-color: #434B5C;\n",
              "      box-shadow: 0px 1px 3px 1px rgba(0, 0, 0, 0.15);\n",
              "      filter: drop-shadow(0px 1px 2px rgba(0, 0, 0, 0.3));\n",
              "      fill: #FFFFFF;\n",
              "    }\n",
              "  </style>\n",
              "\n",
              "    <script>\n",
              "      const buttonEl =\n",
              "        document.querySelector('#df-bc63a7ea-ed3d-4421-af75-9e6c8611633a button.colab-df-convert');\n",
              "      buttonEl.style.display =\n",
              "        google.colab.kernel.accessAllowed ? 'block' : 'none';\n",
              "\n",
              "      async function convertToInteractive(key) {\n",
              "        const element = document.querySelector('#df-bc63a7ea-ed3d-4421-af75-9e6c8611633a');\n",
              "        const dataTable =\n",
              "          await google.colab.kernel.invokeFunction('convertToInteractive',\n",
              "                                                    [key], {});\n",
              "        if (!dataTable) return;\n",
              "\n",
              "        const docLinkHtml = 'Like what you see? Visit the ' +\n",
              "          '<a target=\"_blank\" href=https://colab.research.google.com/notebooks/data_table.ipynb>data table notebook</a>'\n",
              "          + ' to learn more about interactive tables.';\n",
              "        element.innerHTML = '';\n",
              "        dataTable['output_type'] = 'display_data';\n",
              "        await google.colab.output.renderOutput(dataTable, element);\n",
              "        const docLink = document.createElement('div');\n",
              "        docLink.innerHTML = docLinkHtml;\n",
              "        element.appendChild(docLink);\n",
              "      }\n",
              "    </script>\n",
              "  </div>\n",
              "\n",
              "\n",
              "    <div id=\"df-24e0303f-37c0-4fff-a676-faff3f72f350\">\n",
              "      <button class=\"colab-df-quickchart\" onclick=\"quickchart('df-24e0303f-37c0-4fff-a676-faff3f72f350')\"\n",
              "                title=\"Suggest charts\"\n",
              "                style=\"display:none;\">\n",
              "\n",
              "<svg xmlns=\"http://www.w3.org/2000/svg\" height=\"24px\"viewBox=\"0 0 24 24\"\n",
              "     width=\"24px\">\n",
              "    <g>\n",
              "        <path d=\"M19 3H5c-1.1 0-2 .9-2 2v14c0 1.1.9 2 2 2h14c1.1 0 2-.9 2-2V5c0-1.1-.9-2-2-2zM9 17H7v-7h2v7zm4 0h-2V7h2v10zm4 0h-2v-4h2v4z\"/>\n",
              "    </g>\n",
              "</svg>\n",
              "      </button>\n",
              "\n",
              "<style>\n",
              "  .colab-df-quickchart {\n",
              "      --bg-color: #E8F0FE;\n",
              "      --fill-color: #1967D2;\n",
              "      --hover-bg-color: #E2EBFA;\n",
              "      --hover-fill-color: #174EA6;\n",
              "      --disabled-fill-color: #AAA;\n",
              "      --disabled-bg-color: #DDD;\n",
              "  }\n",
              "\n",
              "  [theme=dark] .colab-df-quickchart {\n",
              "      --bg-color: #3B4455;\n",
              "      --fill-color: #D2E3FC;\n",
              "      --hover-bg-color: #434B5C;\n",
              "      --hover-fill-color: #FFFFFF;\n",
              "      --disabled-bg-color: #3B4455;\n",
              "      --disabled-fill-color: #666;\n",
              "  }\n",
              "\n",
              "  .colab-df-quickchart {\n",
              "    background-color: var(--bg-color);\n",
              "    border: none;\n",
              "    border-radius: 50%;\n",
              "    cursor: pointer;\n",
              "    display: none;\n",
              "    fill: var(--fill-color);\n",
              "    height: 32px;\n",
              "    padding: 0;\n",
              "    width: 32px;\n",
              "  }\n",
              "\n",
              "  .colab-df-quickchart:hover {\n",
              "    background-color: var(--hover-bg-color);\n",
              "    box-shadow: 0 1px 2px rgba(60, 64, 67, 0.3), 0 1px 3px 1px rgba(60, 64, 67, 0.15);\n",
              "    fill: var(--button-hover-fill-color);\n",
              "  }\n",
              "\n",
              "  .colab-df-quickchart-complete:disabled,\n",
              "  .colab-df-quickchart-complete:disabled:hover {\n",
              "    background-color: var(--disabled-bg-color);\n",
              "    fill: var(--disabled-fill-color);\n",
              "    box-shadow: none;\n",
              "  }\n",
              "\n",
              "  .colab-df-spinner {\n",
              "    border: 2px solid var(--fill-color);\n",
              "    border-color: transparent;\n",
              "    border-bottom-color: var(--fill-color);\n",
              "    animation:\n",
              "      spin 1s steps(1) infinite;\n",
              "  }\n",
              "\n",
              "  @keyframes spin {\n",
              "    0% {\n",
              "      border-color: transparent;\n",
              "      border-bottom-color: var(--fill-color);\n",
              "      border-left-color: var(--fill-color);\n",
              "    }\n",
              "    20% {\n",
              "      border-color: transparent;\n",
              "      border-left-color: var(--fill-color);\n",
              "      border-top-color: var(--fill-color);\n",
              "    }\n",
              "    30% {\n",
              "      border-color: transparent;\n",
              "      border-left-color: var(--fill-color);\n",
              "      border-top-color: var(--fill-color);\n",
              "      border-right-color: var(--fill-color);\n",
              "    }\n",
              "    40% {\n",
              "      border-color: transparent;\n",
              "      border-right-color: var(--fill-color);\n",
              "      border-top-color: var(--fill-color);\n",
              "    }\n",
              "    60% {\n",
              "      border-color: transparent;\n",
              "      border-right-color: var(--fill-color);\n",
              "    }\n",
              "    80% {\n",
              "      border-color: transparent;\n",
              "      border-right-color: var(--fill-color);\n",
              "      border-bottom-color: var(--fill-color);\n",
              "    }\n",
              "    90% {\n",
              "      border-color: transparent;\n",
              "      border-bottom-color: var(--fill-color);\n",
              "    }\n",
              "  }\n",
              "</style>\n",
              "\n",
              "      <script>\n",
              "        async function quickchart(key) {\n",
              "          const quickchartButtonEl =\n",
              "            document.querySelector('#' + key + ' button');\n",
              "          quickchartButtonEl.disabled = true;  // To prevent multiple clicks.\n",
              "          quickchartButtonEl.classList.add('colab-df-spinner');\n",
              "          try {\n",
              "            const charts = await google.colab.kernel.invokeFunction(\n",
              "                'suggestCharts', [key], {});\n",
              "          } catch (error) {\n",
              "            console.error('Error during call to suggestCharts:', error);\n",
              "          }\n",
              "          quickchartButtonEl.classList.remove('colab-df-spinner');\n",
              "          quickchartButtonEl.classList.add('colab-df-quickchart-complete');\n",
              "        }\n",
              "        (() => {\n",
              "          let quickchartButtonEl =\n",
              "            document.querySelector('#df-24e0303f-37c0-4fff-a676-faff3f72f350 button');\n",
              "          quickchartButtonEl.style.display =\n",
              "            google.colab.kernel.accessAllowed ? 'block' : 'none';\n",
              "        })();\n",
              "      </script>\n",
              "    </div>\n",
              "\n",
              "    </div>\n",
              "  </div>\n"
            ],
            "application/vnd.google.colaboratory.intrinsic+json": {
              "type": "dataframe",
              "summary": "{\n  \"name\": \"pd\",\n  \"rows\": 22,\n  \"fields\": [\n    {\n      \"column\": \"Model\",\n      \"properties\": {\n        \"dtype\": \"string\",\n        \"num_unique_values\": 21,\n        \"samples\": [\n          \"AdaBoost (BoW)\",\n          \"AdaBoost (BoW + TUNED)\",\n          \"XGBoost (BoW)\"\n        ],\n        \"semantic_type\": \"\",\n        \"description\": \"\"\n      }\n    },\n    {\n      \"column\": \"Train Accuracy\",\n      \"properties\": {\n        \"dtype\": \"number\",\n        \"std\": 0.12392719724277726,\n        \"min\": 0.581,\n        \"max\": 0.997,\n        \"num_unique_values\": 11,\n        \"samples\": [\n          0.74,\n          0.746,\n          0.719\n        ],\n        \"semantic_type\": \"\",\n        \"description\": \"\"\n      }\n    },\n    {\n      \"column\": \"Test Accuracy\",\n      \"properties\": {\n        \"dtype\": \"number\",\n        \"std\": 0.07359149266190891,\n        \"min\": 0.452,\n        \"max\": 0.738,\n        \"num_unique_values\": 7,\n        \"samples\": [\n          0.738,\n          0.726,\n          0.571\n        ],\n        \"semantic_type\": \"\",\n        \"description\": \"\"\n      }\n    },\n    {\n      \"column\": \"Test Macro-F1\",\n      \"properties\": {\n        \"dtype\": \"number\",\n        \"std\": 0.02767783897927673,\n        \"min\": 0.158,\n        \"max\": 0.254,\n        \"num_unique_values\": 9,\n        \"samples\": [\n          0.254,\n          0.171,\n          0.236\n        ],\n        \"semantic_type\": \"\",\n        \"description\": \"\"\n      }\n    }\n  ]\n}"
            }
          },
          "metadata": {},
          "execution_count": 225
        }
      ]
    }
  ]
}